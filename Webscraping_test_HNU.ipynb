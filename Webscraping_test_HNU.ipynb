{
  "cells": [
    {
      "cell_type": "markdown",
      "metadata": {
        "id": "view-in-github",
        "colab_type": "text"
      },
      "source": [
        "<a href=\"https://colab.research.google.com/github/merlinkalokerinos/Studies-OAMK/blob/main/Webscraping_test_HNU.ipynb\" target=\"_parent\"><img src=\"https://colab.research.google.com/assets/colab-badge.svg\" alt=\"Open In Colab\"/></a>"
      ]
    },
    {
      "cell_type": "code",
      "execution_count": null,
      "metadata": {
        "id": "bjxUdi-aRRyh"
      },
      "outputs": [],
      "source": [
        "# Import von urlopen & BeautifulSoup\n",
        "from urllib.request import urlopen as uReq\n",
        "from bs4 import BeautifulSoup as soup"
      ]
    },
    {
      "cell_type": "code",
      "execution_count": null,
      "metadata": {
        "id": "bmaN0MVDRQRX"
      },
      "outputs": [],
      "source": [
        "# Zielseite definieren\n",
        "import time\n",
        "news_containersall =[]\n",
        "for i in range(1,8):\n",
        "    time.sleep (0)\n",
        "    from urllib.request import urlopen as uReq\n",
        "    from bs4 import BeautifulSoup as soup\n",
        "    my_url = 'https://www.hnu.de/studium/news/' +str(i) \n",
        "    uClient = uReq(my_url)\n",
        "    page_html = uClient.read()\n",
        "    uClient.close()\n",
        "    soup = soup(page_html, \"html.parser\")\n",
        "    \n",
        "    \n",
        "    news_containers =soup.findAll(\"li\",{\"class\":\"newslist__item\"})\n",
        "    \n",
        "    news_containersall.append(news_containers)\n",
        "    "
      ]
    },
    {
      "cell_type": "code",
      "execution_count": 64,
      "metadata": {
        "id": "2HRgBacuRMQc"
      },
      "outputs": [],
      "source": [
        "from csv import writer\n",
        "\n",
        "\n",
        "with open('newsHNU.csv', 'w', encoding='utf8', newline='') as f:\n",
        "    thewriter = writer(f)\n",
        "    header = ['Header', 'Content']\n",
        "    thewriter.writerow(header)\n",
        "\n",
        "    for i in range(0,7):\n",
        "        for n in news_containersall[i]:\n",
        "          \n",
        "            content = n.p.text\n",
        "            Header = n.h3.text\n",
        "            \n",
        "           \n",
        "            #print(\"Überschrift: \" + Header)\n",
        "            #print(\"Text: \" + content)\n",
        "            \n",
        "           \n",
        "            info=[Header, content]\n",
        "            thewriter.writerow(info)\n"
      ]
    }
  ],
  "metadata": {
    "colab": {
      "collapsed_sections": [],
      "name": "Webscraping test HNU.ipynb",
      "provenance": [],
      "authorship_tag": "ABX9TyP6MbPAAGcbJklt+/XKsTB5",
      "include_colab_link": true
    },
    "kernelspec": {
      "display_name": "Python 3",
      "name": "python3"
    },
    "language_info": {
      "name": "python"
    }
  },
  "nbformat": 4,
  "nbformat_minor": 0
}