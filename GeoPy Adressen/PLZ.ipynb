{
  "nbformat": 4,
  "nbformat_minor": 0,
  "metadata": {
    "colab": {
      "name": "Untitled2.ipynb",
      "provenance": [],
      "authorship_tag": "ABX9TyP/1+a561/6ueNBYoDXeQpM",
      "include_colab_link": true
    },
    "kernelspec": {
      "name": "python3",
      "display_name": "Python 3"
    },
    "language_info": {
      "name": "python"
    }
  },
  "cells": [
    {
      "cell_type": "markdown",
      "metadata": {
        "id": "view-in-github",
        "colab_type": "text"
      },
      "source": [
        "<a href=\"https://colab.research.google.com/github/merlinkalokerinos/Studies-OAMK/blob/main/GeoPy%20Adressen/PLZ.ipynb\" target=\"_parent\"><img src=\"https://colab.research.google.com/assets/colab-badge.svg\" alt=\"Open In Colab\"/></a>"
      ]
    },
    {
      "cell_type": "code",
      "source": [
        "pip install ratelimit"
      ],
      "metadata": {
        "id": "Nz8FRWiM4nyD"
      },
      "execution_count": null,
      "outputs": []
    },
    {
      "cell_type": "code",
      "source": [
        "from geopy.geocoders import Nominatim\n",
        "gc = Nominatim(user_agent=\"fintu-blog-geocoding-python\")\n",
        "gc.geocode(\"Am alten südlichen Friedhof München\")"
      ],
      "metadata": {
        "colab": {
          "base_uri": "https://localhost:8080/"
        },
        "id": "BoWF1upQzkFV",
        "outputId": "396a200e-0e92-46f4-e57d-7279dac0603d"
      },
      "execution_count": null,
      "outputs": [
        {
          "output_type": "execute_result",
          "data": {
            "text/plain": [
              "Location(Am alten südlichen Friedhof, Ludwigsvorstadt-Isarvorstadt, München, Bayern, 80337, Deutschland, (48.1291891, 11.5629864, 0.0))"
            ]
          },
          "metadata": {},
          "execution_count": 5
        }
      ]
    },
    {
      "cell_type": "code",
      "source": [
        "import pandas as pd\n",
        "from ratelimit import limits, sleep_and_retry\n",
        "\n",
        "# Fortschrittsbalken für Pandas Apply\n",
        "from tqdm import tqdm\n",
        "tqdm.pandas()\n",
        "\n",
        "# Stadien Import\n",
        "df = pd.read_csv('knime export.csv')\n",
        "\n",
        "@sleep_and_retry\n",
        "@limits(100,1)\n",
        "def rate_limited_geocode(query):\n",
        "    return gc.geocode(query)\n",
        "\n",
        "def geocode(row):\n",
        "    lookup_query = row[\"Straße-Stadtteil-Stadt\"]\n",
        "    lookup_result = rate_limited_geocode(lookup_query)\n",
        "    return lookup_result\n",
        "\n",
        "df[\"geo_location\"] = df.progress_apply(geocode, axis=1)"
      ],
      "metadata": {
        "id": "ms1CT1pO0vnW"
      },
      "execution_count": null,
      "outputs": []
    },
    {
      "cell_type": "code",
      "source": [
        "df.to_csv('pyton export.csv', sep='\\t', encoding='latin-1')\n"
      ],
      "metadata": {
        "id": "CVO6BTYJPGb7"
      },
      "execution_count": null,
      "outputs": []
    }
  ]
}