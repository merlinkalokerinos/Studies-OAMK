{
  "nbformat": 4,
  "nbformat_minor": 0,
  "metadata": {
    "colab": {
      "name": "ML-predictions.ipynb",
      "provenance": [],
      "mount_file_id": "1HpbNjikwdGjDyK9NVbbds3ihrpeAj952",
      "authorship_tag": "ABX9TyOyVnlCiCxc0i/x8BxVd6Hs",
      "include_colab_link": true
    },
    "kernelspec": {
      "name": "python3",
      "display_name": "Python 3"
    },
    "language_info": {
      "name": "python"
    }
  },
  "cells": [
    {
      "cell_type": "markdown",
      "metadata": {
        "id": "view-in-github",
        "colab_type": "text"
      },
      "source": [
        "<a href=\"https://colab.research.google.com/github/merlinkalokerinos/Studies-OAMK/blob/main/ML_predictions.ipynb\" target=\"_parent\"><img src=\"https://colab.research.google.com/assets/colab-badge.svg\" alt=\"Open In Colab\"/></a>"
      ]
    },
    {
      "cell_type": "code",
      "execution_count": 1,
      "metadata": {
        "colab": {
          "base_uri": "https://localhost:8080/"
        },
        "id": "CF9YBsGW8O-W",
        "outputId": "59a9c18e-25f5-44f7-feb7-b4d740a8c82d"
      },
      "outputs": [
        {
          "output_type": "stream",
          "name": "stdout",
          "text": [
            "Collecting scikit-learn==1.0.0\n",
            "  Downloading scikit_learn-1.0-cp37-cp37m-manylinux_2_12_x86_64.manylinux2010_x86_64.whl (23.1 MB)\n",
            "\u001b[K     |████████████████████████████████| 23.1 MB 1.4 MB/s \n",
            "\u001b[?25hRequirement already satisfied: threadpoolctl>=2.0.0 in /usr/local/lib/python3.7/dist-packages (from scikit-learn==1.0.0) (3.1.0)\n",
            "Requirement already satisfied: scipy>=1.1.0 in /usr/local/lib/python3.7/dist-packages (from scikit-learn==1.0.0) (1.4.1)\n",
            "Requirement already satisfied: joblib>=0.11 in /usr/local/lib/python3.7/dist-packages (from scikit-learn==1.0.0) (1.1.0)\n",
            "Requirement already satisfied: numpy>=1.14.6 in /usr/local/lib/python3.7/dist-packages (from scikit-learn==1.0.0) (1.21.6)\n",
            "Installing collected packages: scikit-learn\n",
            "  Attempting uninstall: scikit-learn\n",
            "    Found existing installation: scikit-learn 1.0.2\n",
            "    Uninstalling scikit-learn-1.0.2:\n",
            "      Successfully uninstalled scikit-learn-1.0.2\n",
            "Successfully installed scikit-learn-1.0\n"
          ]
        }
      ],
      "source": [
        "\n",
        "!pip3 install scikit-learn==1.0.0"
      ]
    },
    {
      "cell_type": "code",
      "source": [
        "import os # u.a. zur Entwicklugn plattformübergreifender Systempfade\n",
        "import pandas as pd # Datenmanagement\n",
        "import numpy as np # Hilfsfunktionen für mathematische Operationen\n",
        "\n",
        "# Datenvisualisierung\n",
        "import seaborn as sns \n",
        "%matplotlib inline\n",
        "import matplotlib.pyplot as plt\n",
        "from pandas.plotting import scatter_matrix\n",
        "\n",
        "from sklearn.model_selection import StratifiedShuffleSplit, train_test_split # Datensplits\n",
        "from sklearn.linear_model import LinearRegression # Machine Learning\n",
        "from sklearn import metrics # Modellevaluierung\n",
        "\n",
        "## eigene Funktionen\n",
        "##def filter_df_by_proximity(df, proximity):\n",
        "##    return df.loc[df[\"ocean_proximity\"] == proximity]\n",
        "\n",
        "##def engineer_features(df):\n",
        "##    df[\"ratio_bedrooms\"] = df[\"total_bedrooms\"] / df[\"total_rooms\"]\n",
        "##    df[\"people_per_household\"] = df[\"population\"] / df[\"households\"]\n",
        "##    return df\n",
        "\n",
        "##def get_features_and_targets(df):\n",
        "##    X = df.drop([\"median_house_value\"], axis=1).values\n",
        "##    y = np.stack(df[\"median_house_value\"])\n",
        "##    return X, y"
      ],
      "metadata": {
        "id": "hPff2RkiacpD"
      },
      "execution_count": 2,
      "outputs": []
    },
    {
      "cell_type": "code",
      "source": [
        "df0 = pd.read_csv('/content/drive/Othercomputers/My Laptop/Data Science/final test python2.csv') # Wir lesen die Datei housing.csv ein\n",
        "\n",
        "\n",
        "df1=pd.read_csv('/content/drive/Othercomputers/My Laptop/Data Science/Indikatoren München Gesamt.csv')\n",
        "df01=pd.merge(df0,df1, left_on=['city district'], right_on= ['city district'])\n",
        "\n",
        "df01.head(1)"
      ],
      "metadata": {
        "colab": {
          "base_uri": "https://localhost:8080/",
          "height": 313
        },
        "id": "JP_uclyGahMD",
        "outputId": "d1d7551e-5ce6-4c7a-876a-762ff2c4a0ff"
      },
      "execution_count": 14,
      "outputs": [
        {
          "output_type": "execute_result",
          "data": {
            "text/plain": [
              "  scraped location  purchasing price [in €]  number of rooms  square metre  \\\n",
              "0     80993 Munich                   1995.0              1.0          24.0   \n",
              "\n",
              "                   geo_location city district  crime rate Population  - total  \\\n",
              "0  München, Bayern, Deutschland    10 Moosach        0.03          54,928.00    \n",
              "\n",
              "   Population  - german with migration background  \\\n",
              "0                                            19.4   \n",
              "\n",
              "  Population  - women (15 to 44)  ...  Migration rates - Exterior migration  \\\n",
              "0                     11,464.00   ...                                   5.7   \n",
              "\n",
              "   Migration rates - overall migration  \\\n",
              "0                                 -4.7   \n",
              "\n",
              "   Migration rates by nationality - medium population (german)  \\\n",
              "0                                         37,054.00              \n",
              "\n",
              "   Migration rates by nationality - medium population (not german)  \\\n",
              "0                                         17,978.00                  \n",
              "\n",
              "   Migration rates by nationality - Internal migration (german)  \\\n",
              "0                                               -8.2              \n",
              "\n",
              "   Migration rates by nationality - Internal migration (not german)  \\\n",
              "0                                              -14.7                  \n",
              "\n",
              "  Migration rates by nationality - Exterior migration (german)  \\\n",
              "0                                              -13.3             \n",
              "\n",
              "  Migration rates by nationality - Exterior migration (not german)  \\\n",
              "0                                               44.8                 \n",
              "\n",
              "  Migration rates by nationality - overall migration (german)  \\\n",
              "0                                              -21.6            \n",
              "\n",
              "  Migration rates by nationality - overall migration (not german)  \n",
              "0                                               30.1               \n",
              "\n",
              "[1 rows x 117 columns]"
            ],
            "text/html": [
              "\n",
              "  <div id=\"df-7f7ef26d-f752-4bf6-b51e-db81453dbf58\">\n",
              "    <div class=\"colab-df-container\">\n",
              "      <div>\n",
              "<style scoped>\n",
              "    .dataframe tbody tr th:only-of-type {\n",
              "        vertical-align: middle;\n",
              "    }\n",
              "\n",
              "    .dataframe tbody tr th {\n",
              "        vertical-align: top;\n",
              "    }\n",
              "\n",
              "    .dataframe thead th {\n",
              "        text-align: right;\n",
              "    }\n",
              "</style>\n",
              "<table border=\"1\" class=\"dataframe\">\n",
              "  <thead>\n",
              "    <tr style=\"text-align: right;\">\n",
              "      <th></th>\n",
              "      <th>scraped location</th>\n",
              "      <th>purchasing price [in €]</th>\n",
              "      <th>number of rooms</th>\n",
              "      <th>square metre</th>\n",
              "      <th>geo_location</th>\n",
              "      <th>city district</th>\n",
              "      <th>crime rate</th>\n",
              "      <th>Population  - total</th>\n",
              "      <th>Population  - german with migration background</th>\n",
              "      <th>Population  - women (15 to 44)</th>\n",
              "      <th>...</th>\n",
              "      <th>Migration rates - Exterior migration</th>\n",
              "      <th>Migration rates - overall migration</th>\n",
              "      <th>Migration rates by nationality - medium population (german)</th>\n",
              "      <th>Migration rates by nationality - medium population (not german)</th>\n",
              "      <th>Migration rates by nationality - Internal migration (german)</th>\n",
              "      <th>Migration rates by nationality - Internal migration (not german)</th>\n",
              "      <th>Migration rates by nationality - Exterior migration (german)</th>\n",
              "      <th>Migration rates by nationality - Exterior migration (not german)</th>\n",
              "      <th>Migration rates by nationality - overall migration (german)</th>\n",
              "      <th>Migration rates by nationality - overall migration (not german)</th>\n",
              "    </tr>\n",
              "  </thead>\n",
              "  <tbody>\n",
              "    <tr>\n",
              "      <th>0</th>\n",
              "      <td>80993 Munich</td>\n",
              "      <td>1995.0</td>\n",
              "      <td>1.0</td>\n",
              "      <td>24.0</td>\n",
              "      <td>München, Bayern, Deutschland</td>\n",
              "      <td>10 Moosach</td>\n",
              "      <td>0.03</td>\n",
              "      <td>54,928.00</td>\n",
              "      <td>19.4</td>\n",
              "      <td>11,464.00</td>\n",
              "      <td>...</td>\n",
              "      <td>5.7</td>\n",
              "      <td>-4.7</td>\n",
              "      <td>37,054.00</td>\n",
              "      <td>17,978.00</td>\n",
              "      <td>-8.2</td>\n",
              "      <td>-14.7</td>\n",
              "      <td>-13.3</td>\n",
              "      <td>44.8</td>\n",
              "      <td>-21.6</td>\n",
              "      <td>30.1</td>\n",
              "    </tr>\n",
              "  </tbody>\n",
              "</table>\n",
              "<p>1 rows × 117 columns</p>\n",
              "</div>\n",
              "      <button class=\"colab-df-convert\" onclick=\"convertToInteractive('df-7f7ef26d-f752-4bf6-b51e-db81453dbf58')\"\n",
              "              title=\"Convert this dataframe to an interactive table.\"\n",
              "              style=\"display:none;\">\n",
              "        \n",
              "  <svg xmlns=\"http://www.w3.org/2000/svg\" height=\"24px\"viewBox=\"0 0 24 24\"\n",
              "       width=\"24px\">\n",
              "    <path d=\"M0 0h24v24H0V0z\" fill=\"none\"/>\n",
              "    <path d=\"M18.56 5.44l.94 2.06.94-2.06 2.06-.94-2.06-.94-.94-2.06-.94 2.06-2.06.94zm-11 1L8.5 8.5l.94-2.06 2.06-.94-2.06-.94L8.5 2.5l-.94 2.06-2.06.94zm10 10l.94 2.06.94-2.06 2.06-.94-2.06-.94-.94-2.06-.94 2.06-2.06.94z\"/><path d=\"M17.41 7.96l-1.37-1.37c-.4-.4-.92-.59-1.43-.59-.52 0-1.04.2-1.43.59L10.3 9.45l-7.72 7.72c-.78.78-.78 2.05 0 2.83L4 21.41c.39.39.9.59 1.41.59.51 0 1.02-.2 1.41-.59l7.78-7.78 2.81-2.81c.8-.78.8-2.07 0-2.86zM5.41 20L4 18.59l7.72-7.72 1.47 1.35L5.41 20z\"/>\n",
              "  </svg>\n",
              "      </button>\n",
              "      \n",
              "  <style>\n",
              "    .colab-df-container {\n",
              "      display:flex;\n",
              "      flex-wrap:wrap;\n",
              "      gap: 12px;\n",
              "    }\n",
              "\n",
              "    .colab-df-convert {\n",
              "      background-color: #E8F0FE;\n",
              "      border: none;\n",
              "      border-radius: 50%;\n",
              "      cursor: pointer;\n",
              "      display: none;\n",
              "      fill: #1967D2;\n",
              "      height: 32px;\n",
              "      padding: 0 0 0 0;\n",
              "      width: 32px;\n",
              "    }\n",
              "\n",
              "    .colab-df-convert:hover {\n",
              "      background-color: #E2EBFA;\n",
              "      box-shadow: 0px 1px 2px rgba(60, 64, 67, 0.3), 0px 1px 3px 1px rgba(60, 64, 67, 0.15);\n",
              "      fill: #174EA6;\n",
              "    }\n",
              "\n",
              "    [theme=dark] .colab-df-convert {\n",
              "      background-color: #3B4455;\n",
              "      fill: #D2E3FC;\n",
              "    }\n",
              "\n",
              "    [theme=dark] .colab-df-convert:hover {\n",
              "      background-color: #434B5C;\n",
              "      box-shadow: 0px 1px 3px 1px rgba(0, 0, 0, 0.15);\n",
              "      filter: drop-shadow(0px 1px 2px rgba(0, 0, 0, 0.3));\n",
              "      fill: #FFFFFF;\n",
              "    }\n",
              "  </style>\n",
              "\n",
              "      <script>\n",
              "        const buttonEl =\n",
              "          document.querySelector('#df-7f7ef26d-f752-4bf6-b51e-db81453dbf58 button.colab-df-convert');\n",
              "        buttonEl.style.display =\n",
              "          google.colab.kernel.accessAllowed ? 'block' : 'none';\n",
              "\n",
              "        async function convertToInteractive(key) {\n",
              "          const element = document.querySelector('#df-7f7ef26d-f752-4bf6-b51e-db81453dbf58');\n",
              "          const dataTable =\n",
              "            await google.colab.kernel.invokeFunction('convertToInteractive',\n",
              "                                                     [key], {});\n",
              "          if (!dataTable) return;\n",
              "\n",
              "          const docLinkHtml = 'Like what you see? Visit the ' +\n",
              "            '<a target=\"_blank\" href=https://colab.research.google.com/notebooks/data_table.ipynb>data table notebook</a>'\n",
              "            + ' to learn more about interactive tables.';\n",
              "          element.innerHTML = '';\n",
              "          dataTable['output_type'] = 'display_data';\n",
              "          await google.colab.output.renderOutput(dataTable, element);\n",
              "          const docLink = document.createElement('div');\n",
              "          docLink.innerHTML = docLinkHtml;\n",
              "          element.appendChild(docLink);\n",
              "        }\n",
              "      </script>\n",
              "    </div>\n",
              "  </div>\n",
              "  "
            ]
          },
          "metadata": {},
          "execution_count": 14
        }
      ]
    },
    {
      "cell_type": "code",
      "source": [
        "import os\n",
        "import tarfile\n",
        "import urllib.request\n",
        "\n",
        "#df12 = pd.read_csv('/content/drive/Othercomputers/My Laptop/Data Science/final test python.csv') # Wir lesen die Datei housing.csv ein\n",
        "\n",
        "df2= df01.drop(['scraped location','city district','geo_location']  , 1)\n",
        "\n",
        "#del df2['scraped location']\n",
        "#del df2['City district']\n",
        "#del df2['Indikatoren 2021.city district']\n",
        "\n",
        "\n",
        "\n",
        "df2 = df2.dropna() # löscht alle Zeile mit fehlenden Attributen\n",
        "df2 = df2.reset_index(drop=True) # zählt unsere Daten neu durch\n",
        "\n",
        "def get_features_and_targets(df2):\n",
        "    X = df2.drop([\"purchasing price [in €]\"], axis=1).values\n",
        "    y = np.stack(df2[\"purchasing price [in €]\"])\n",
        "    return X, y\n",
        "\n",
        "description = df2.describe()\n",
        "\n",
        "bins = [0] + list(description[\"purchasing price [in €]\"][\n",
        "    [\"25%\", \"50%\", \"75%\"]\n",
        "].astype(int)) + [np.inf]\n",
        "\n",
        "df2[\"house_cat\"] = pd.cut(\n",
        "    df2[\"purchasing price [in €]\"],\n",
        "    bins=bins,\n",
        "    labels=[\"0 - 25%\", \"25 - 50%\", \"50 - 75%\", \"75 - 100%\"]\n",
        ")\n",
        "\n",
        "split = StratifiedShuffleSplit(n_splits=1, test_size=0.1, random_state=0)\n",
        "for train_index, test_index in split.split(df2, df2[\"house_cat\"]):\n",
        "    df2_train = df2.loc[train_index]\n",
        "    df2_test = df2.loc[test_index]\n",
        "    \n",
        "df2_train = df2_train.drop(\"house_cat\", axis=1)\n",
        "df2_test = df2_test.drop(\"house_cat\", axis=1)\n",
        "\n",
        "##df_train = df_train.drop(filter_df_by_proximity(df_train, \"ISLAND\").index)\n",
        "##df_test = df_test.drop(filter_df_by_proximity(df_test, \"ISLAND\").index)\n",
        "\n",
        "##df_train = engineer_features(df_train)\n",
        "##df_test = engineer_features(df_test)\n",
        "\n",
        "\n",
        "\n",
        "df2_train_ml = pd.get_dummies(df2_train) # One-Hot Encoding\n",
        "df2_test_ml = pd.get_dummies(df2_test)\n",
        "\n",
        "\n",
        "\n",
        "X_train, y_train = get_features_and_targets(df2_train_ml)\n",
        "X_test, y_test = get_features_and_targets(df2_test_ml)\n",
        "\n",
        "\n",
        "\n",
        "\n",
        "clf = LinearRegression()\n",
        "clf.fit(X_train, y_train)"
      ],
      "metadata": {
        "colab": {
          "base_uri": "https://localhost:8080/"
        },
        "id": "yuRGCaxnar3D",
        "outputId": "73fcb48e-b43c-4517-ced2-29c2e6194770"
      },
      "execution_count": 15,
      "outputs": [
        {
          "output_type": "stream",
          "name": "stderr",
          "text": [
            "/usr/local/lib/python3.7/dist-packages/ipykernel_launcher.py:7: FutureWarning: In a future version of pandas all arguments of DataFrame.drop except for the argument 'labels' will be keyword-only\n",
            "  import sys\n"
          ]
        },
        {
          "output_type": "execute_result",
          "data": {
            "text/plain": [
              "LinearRegression()"
            ]
          },
          "metadata": {},
          "execution_count": 15
        }
      ]
    },
    {
      "cell_type": "code",
      "source": [
        "predictions = clf.predict(X_test)"
      ],
      "metadata": {
        "id": "yDjqNkJxaszt"
      },
      "execution_count": 16,
      "outputs": []
    },
    {
      "cell_type": "code",
      "source": [
        "print(\"Prediction\\t|True Value\")\n",
        "print(\"-\"*30)\n",
        "for idx, (pred, annotation) in enumerate(zip(predictions, y_test)):\n",
        "    if idx == 25:\n",
        "        break\n",
        "    pred = int(pred)\n",
        "    annotation = int(annotation)\n",
        "    print(f\"{pred}\\t\\t|{annotation}\")"
      ],
      "metadata": {
        "colab": {
          "base_uri": "https://localhost:8080/"
        },
        "id": "6UnwVN-yavNh",
        "outputId": "47b7131f-c0f6-4c5d-dbd8-3cfa6ee2d885"
      },
      "execution_count": 17,
      "outputs": [
        {
          "output_type": "stream",
          "name": "stdout",
          "text": [
            "Prediction\t|True Value\n",
            "------------------------------\n",
            "1703\t\t|1400\n",
            "5071\t\t|5100\n",
            "1914\t\t|1486\n",
            "1808\t\t|1900\n",
            "1294\t\t|1265\n",
            "2370\t\t|2500\n",
            "1012\t\t|930\n",
            "2301\t\t|2100\n",
            "1196\t\t|1250\n",
            "3530\t\t|2600\n",
            "1359\t\t|1150\n",
            "949\t\t|980\n",
            "1772\t\t|1950\n",
            "1275\t\t|1100\n",
            "1564\t\t|1915\n",
            "1948\t\t|1985\n",
            "1572\t\t|1697\n",
            "2236\t\t|2025\n",
            "865\t\t|1090\n",
            "1704\t\t|1470\n",
            "4177\t\t|4842\n",
            "1280\t\t|750\n",
            "2167\t\t|3000\n",
            "1781\t\t|1800\n",
            "708\t\t|750\n"
          ]
        }
      ]
    },
    {
      "cell_type": "code",
      "source": [
        "mae = metrics.mean_absolute_error(y_test, predictions)\n",
        "mae_ratio = metrics.mean_absolute_percentage_error(y_test, predictions)\n",
        "r2_score = metrics.r2_score(y_test, predictions)"
      ],
      "metadata": {
        "id": "V60nnBtaayY5"
      },
      "execution_count": 18,
      "outputs": []
    },
    {
      "cell_type": "code",
      "source": [
        "\n",
        "print(f\"Wir können durchschnittlich mit einem Fehler von {np.round(mae)} rechnen;\")\n",
        "print(f\"Das entspricht im Schnitt einer Fehlerquote von {np.round(mae_ratio * 100)}%;\")\n",
        "print(f\"Der R^2 Werte liegt bei {np.round(r2_score * 100)}%\")"
      ],
      "metadata": {
        "colab": {
          "base_uri": "https://localhost:8080/"
        },
        "id": "lvb1l30Aa01V",
        "outputId": "e28841c6-2cd9-4bc3-fcf7-8a350b68a330"
      },
      "execution_count": 19,
      "outputs": [
        {
          "output_type": "stream",
          "name": "stdout",
          "text": [
            "Wir können durchschnittlich mit einem Fehler von 309.0 rechnen;\n",
            "Das entspricht im Schnitt einer Fehlerquote von 21.0%;\n",
            "Der R^2 Werte liegt bei 63.0%\n"
          ]
        }
      ]
    },
    {
      "cell_type": "code",
      "source": [
        "df2_test.iloc[0]\n"
      ],
      "metadata": {
        "colab": {
          "base_uri": "https://localhost:8080/"
        },
        "id": "2k_GREtEa2-A",
        "outputId": "7bc6a11d-ae58-4806-d0a7-783b5d76afd7"
      },
      "execution_count": 20,
      "outputs": [
        {
          "output_type": "execute_result",
          "data": {
            "text/plain": [
              "purchasing price [in €]                                                  1400.0\n",
              "number of rooms                                                             2.0\n",
              "square metre                                                               74.0\n",
              "crime rate                                                                 0.04\n",
              "Population  - total                                                  75,658.00 \n",
              "                                                                       ...     \n",
              "Migration rates by nationality - Internal migration (not german)           -1.4\n",
              "Migration rates by nationality - Exterior migration (german)              -16.7\n",
              "Migration rates by nationality - Exterior migration (not german)           25.8\n",
              "Migration rates by nationality - overall migration (german)               -31.5\n",
              "Migration rates by nationality - overall migration (not german)            24.4\n",
              "Name: 1130, Length: 114, dtype: object"
            ]
          },
          "metadata": {},
          "execution_count": 20
        }
      ]
    },
    {
      "cell_type": "code",
      "source": [
        "\n",
        "\n",
        "single_pred = clf.predict([X_test[0]])[0]\n",
        "print(f\"Die Prognose liegt bei {single_pred}.\")\n",
        "print(f\"Der Realwert war {y_test[0]}.\")\n"
      ],
      "metadata": {
        "id": "sJQ5UF9Ca5fx"
      },
      "execution_count": null,
      "outputs": []
    },
    {
      "cell_type": "code",
      "source": [
        "\n",
        "df2_test['predictions']=predictions\n",
        "#print(df2_test)\n",
        "\n",
        "df2_test.append([df2_train])\n",
        "df2_test.head(6000)\n",
        "#df12.head(6000)"
      ],
      "metadata": {
        "id": "ogchvU9Xa7pM"
      },
      "execution_count": null,
      "outputs": []
    },
    {
      "cell_type": "code",
      "source": [
        "dffinal=pd.merge(df12, df2_test, left_index=True, right_index=True, how='left')"
      ],
      "metadata": {
        "id": "j-R7Dvsaa97Y"
      },
      "execution_count": null,
      "outputs": []
    },
    {
      "cell_type": "code",
      "source": [
        "dffinal.to_csv('/content/drive/Othercomputers/My Laptop/Data Science/ML Python/python export predictions ohne indikatoren.csv')"
      ],
      "metadata": {
        "id": "83p3gwxibA7U"
      },
      "execution_count": null,
      "outputs": []
    }
  ]
}