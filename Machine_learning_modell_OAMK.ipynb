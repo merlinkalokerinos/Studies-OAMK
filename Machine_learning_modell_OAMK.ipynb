{
  "nbformat": 4,
  "nbformat_minor": 0,
  "metadata": {
    "colab": {
      "name": "Machine learning modell OAMK.ipynb",
      "provenance": [],
      "mount_file_id": "1xdIZ5iTJYugpCiwK0RvxoGc8MjOcCj84",
      "authorship_tag": "ABX9TyO67pza3E/sXlqX/4NMByc0",
      "include_colab_link": true
    },
    "kernelspec": {
      "name": "python3",
      "display_name": "Python 3"
    },
    "language_info": {
      "name": "python"
    }
  },
  "cells": [
    {
      "cell_type": "markdown",
      "metadata": {
        "id": "view-in-github",
        "colab_type": "text"
      },
      "source": [
        "<a href=\"https://colab.research.google.com/github/merlinkalokerinos/Studies-OAMK/blob/main/Machine_learning_modell_OAMK.ipynb\" target=\"_parent\"><img src=\"https://colab.research.google.com/assets/colab-badge.svg\" alt=\"Open In Colab\"/></a>"
      ]
    },
    {
      "cell_type": "code",
      "source": [
        "import os # u.a. zur Entwicklung plattformübergreifender Systempfade\n",
        "import yaml # für Konfigurationen\n",
        "import pandas as pd # Datenmanagement\n",
        "import numpy as np # Hilfsfunktionen für mathematische Operationen\n",
        "\n",
        "# Datenvisualisierung\n",
        "import seaborn as sns \n",
        "%matplotlib inline\n",
        "import matplotlib.pyplot as plt\n",
        "from pandas.plotting import scatter_matrix\n",
        "\n",
        "from sklearn.model_selection import StratifiedShuffleSplit, train_test_split # Datensplits\n",
        "from sklearn.linear_model import LinearRegression # Machine Learning\n",
        "from sklearn import metrics # Modellevaluierung\n"
      ],
      "metadata": {
        "id": "DGxC7jOjm5UO"
      },
      "execution_count": 1,
      "outputs": []
    },
    {
      "cell_type": "code",
      "execution_count": 2,
      "metadata": {
        "colab": {
          "base_uri": "https://localhost:8080/",
          "height": 595
        },
        "id": "oVz7pUynDDeh",
        "outputId": "d98934a8-4f95-4924-c08b-fa0b665e7a90"
      },
      "outputs": [
        {
          "output_type": "execute_result",
          "data": {
            "text/plain": [
              "             scraped location  purchasing price [in €]  number of rooms  \\\n",
              "0       München (Maxvorstadt)                    18500               24   \n",
              "1        München, Maxvorstadt                    18500               24   \n",
              "2  Schönfeldvorstadt, München                     6184                3   \n",
              "3       München (Maxvorstadt)                     6184                3   \n",
              "4          St. Benno, München                     5400                5   \n",
              "\n",
              "   square metre                                       geo_location  \\\n",
              "0         700.0          Maxvorstadt, München, Bayern, Deutschland   \n",
              "1         700.0          Maxvorstadt, München, Bayern, Deutschland   \n",
              "2         149.0  Schönfeldvorstadt, Maxvorstadt, München, Bayer...   \n",
              "3         149.0          Maxvorstadt, München, Bayern, Deutschland   \n",
              "4         204.0  St. Benno, Maxvorstadt, München, Bayern, Deuts...   \n",
              "\n",
              "    city district  crime rate Population  - total  \\\n",
              "0  03 Maxvorstadt        0.04           51,228.00   \n",
              "1  03 Maxvorstadt        0.04           51,228.00   \n",
              "2  03 Maxvorstadt        0.04           51,228.00   \n",
              "3  03 Maxvorstadt        0.04           51,228.00   \n",
              "4  03 Maxvorstadt        0.04           51,228.00   \n",
              "\n",
              "   Population  - german with migration background  \\\n",
              "0                                            14.5   \n",
              "1                                            14.5   \n",
              "2                                            14.5   \n",
              "3                                            14.5   \n",
              "4                                            14.5   \n",
              "\n",
              "  Population  - women (15 to 44)  ...  Migration rates - Exterior migration  \\\n",
              "0                      14,823.00  ...                                   9.8   \n",
              "1                      14,823.00  ...                                   9.8   \n",
              "2                      14,823.00  ...                                   9.8   \n",
              "3                      14,823.00  ...                                   9.8   \n",
              "4                      14,823.00  ...                                   9.8   \n",
              "\n",
              "   Migration rates - overall migration  \\\n",
              "0                                -13.0   \n",
              "1                                -13.0   \n",
              "2                                -13.0   \n",
              "3                                -13.0   \n",
              "4                                -13.0   \n",
              "\n",
              "   Migration rates by nationality - medium population (german)  \\\n",
              "0                                          38,284.00             \n",
              "1                                          38,284.00             \n",
              "2                                          38,284.00             \n",
              "3                                          38,284.00             \n",
              "4                                          38,284.00             \n",
              "\n",
              "   Migration rates by nationality - medium population (not german)  \\\n",
              "0                                          13,158.00                 \n",
              "1                                          13,158.00                 \n",
              "2                                          13,158.00                 \n",
              "3                                          13,158.00                 \n",
              "4                                          13,158.00                 \n",
              "\n",
              "   Migration rates by nationality - Internal migration (german)  \\\n",
              "0                                              -20.2              \n",
              "1                                              -20.2              \n",
              "2                                              -20.2              \n",
              "3                                              -20.2              \n",
              "4                                              -20.2              \n",
              "\n",
              "   Migration rates by nationality - Internal migration (not german)  \\\n",
              "0                                              -30.2                  \n",
              "1                                              -30.2                  \n",
              "2                                              -30.2                  \n",
              "3                                              -30.2                  \n",
              "4                                              -30.2                  \n",
              "\n",
              "  Migration rates by nationality - Exterior migration (german)  \\\n",
              "0                                                1.3             \n",
              "1                                                1.3             \n",
              "2                                                1.3             \n",
              "3                                                1.3             \n",
              "4                                                1.3             \n",
              "\n",
              "  Migration rates by nationality - Exterior migration (not german)  \\\n",
              "0                                               34.4                 \n",
              "1                                               34.4                 \n",
              "2                                               34.4                 \n",
              "3                                               34.4                 \n",
              "4                                               34.4                 \n",
              "\n",
              "  Migration rates by nationality - overall migration (german)  \\\n",
              "0                                              -18.9            \n",
              "1                                              -18.9            \n",
              "2                                              -18.9            \n",
              "3                                              -18.9            \n",
              "4                                              -18.9            \n",
              "\n",
              "  Migration rates by nationality - overall migration (not german)  \n",
              "0                                                4.2               \n",
              "1                                                4.2               \n",
              "2                                                4.2               \n",
              "3                                                4.2               \n",
              "4                                                4.2               \n",
              "\n",
              "[5 rows x 117 columns]"
            ],
            "text/html": [
              "\n",
              "  <div id=\"df-c3719d38-1780-4110-8eb0-f97232c85265\">\n",
              "    <div class=\"colab-df-container\">\n",
              "      <div>\n",
              "<style scoped>\n",
              "    .dataframe tbody tr th:only-of-type {\n",
              "        vertical-align: middle;\n",
              "    }\n",
              "\n",
              "    .dataframe tbody tr th {\n",
              "        vertical-align: top;\n",
              "    }\n",
              "\n",
              "    .dataframe thead th {\n",
              "        text-align: right;\n",
              "    }\n",
              "</style>\n",
              "<table border=\"1\" class=\"dataframe\">\n",
              "  <thead>\n",
              "    <tr style=\"text-align: right;\">\n",
              "      <th></th>\n",
              "      <th>scraped location</th>\n",
              "      <th>purchasing price [in €]</th>\n",
              "      <th>number of rooms</th>\n",
              "      <th>square metre</th>\n",
              "      <th>geo_location</th>\n",
              "      <th>city district</th>\n",
              "      <th>crime rate</th>\n",
              "      <th>Population  - total</th>\n",
              "      <th>Population  - german with migration background</th>\n",
              "      <th>Population  - women (15 to 44)</th>\n",
              "      <th>...</th>\n",
              "      <th>Migration rates - Exterior migration</th>\n",
              "      <th>Migration rates - overall migration</th>\n",
              "      <th>Migration rates by nationality - medium population (german)</th>\n",
              "      <th>Migration rates by nationality - medium population (not german)</th>\n",
              "      <th>Migration rates by nationality - Internal migration (german)</th>\n",
              "      <th>Migration rates by nationality - Internal migration (not german)</th>\n",
              "      <th>Migration rates by nationality - Exterior migration (german)</th>\n",
              "      <th>Migration rates by nationality - Exterior migration (not german)</th>\n",
              "      <th>Migration rates by nationality - overall migration (german)</th>\n",
              "      <th>Migration rates by nationality - overall migration (not german)</th>\n",
              "    </tr>\n",
              "  </thead>\n",
              "  <tbody>\n",
              "    <tr>\n",
              "      <th>0</th>\n",
              "      <td>München (Maxvorstadt)</td>\n",
              "      <td>18500</td>\n",
              "      <td>24</td>\n",
              "      <td>700.0</td>\n",
              "      <td>Maxvorstadt, München, Bayern, Deutschland</td>\n",
              "      <td>03 Maxvorstadt</td>\n",
              "      <td>0.04</td>\n",
              "      <td>51,228.00</td>\n",
              "      <td>14.5</td>\n",
              "      <td>14,823.00</td>\n",
              "      <td>...</td>\n",
              "      <td>9.8</td>\n",
              "      <td>-13.0</td>\n",
              "      <td>38,284.00</td>\n",
              "      <td>13,158.00</td>\n",
              "      <td>-20.2</td>\n",
              "      <td>-30.2</td>\n",
              "      <td>1.3</td>\n",
              "      <td>34.4</td>\n",
              "      <td>-18.9</td>\n",
              "      <td>4.2</td>\n",
              "    </tr>\n",
              "    <tr>\n",
              "      <th>1</th>\n",
              "      <td>München, Maxvorstadt</td>\n",
              "      <td>18500</td>\n",
              "      <td>24</td>\n",
              "      <td>700.0</td>\n",
              "      <td>Maxvorstadt, München, Bayern, Deutschland</td>\n",
              "      <td>03 Maxvorstadt</td>\n",
              "      <td>0.04</td>\n",
              "      <td>51,228.00</td>\n",
              "      <td>14.5</td>\n",
              "      <td>14,823.00</td>\n",
              "      <td>...</td>\n",
              "      <td>9.8</td>\n",
              "      <td>-13.0</td>\n",
              "      <td>38,284.00</td>\n",
              "      <td>13,158.00</td>\n",
              "      <td>-20.2</td>\n",
              "      <td>-30.2</td>\n",
              "      <td>1.3</td>\n",
              "      <td>34.4</td>\n",
              "      <td>-18.9</td>\n",
              "      <td>4.2</td>\n",
              "    </tr>\n",
              "    <tr>\n",
              "      <th>2</th>\n",
              "      <td>Schönfeldvorstadt, München</td>\n",
              "      <td>6184</td>\n",
              "      <td>3</td>\n",
              "      <td>149.0</td>\n",
              "      <td>Schönfeldvorstadt, Maxvorstadt, München, Bayer...</td>\n",
              "      <td>03 Maxvorstadt</td>\n",
              "      <td>0.04</td>\n",
              "      <td>51,228.00</td>\n",
              "      <td>14.5</td>\n",
              "      <td>14,823.00</td>\n",
              "      <td>...</td>\n",
              "      <td>9.8</td>\n",
              "      <td>-13.0</td>\n",
              "      <td>38,284.00</td>\n",
              "      <td>13,158.00</td>\n",
              "      <td>-20.2</td>\n",
              "      <td>-30.2</td>\n",
              "      <td>1.3</td>\n",
              "      <td>34.4</td>\n",
              "      <td>-18.9</td>\n",
              "      <td>4.2</td>\n",
              "    </tr>\n",
              "    <tr>\n",
              "      <th>3</th>\n",
              "      <td>München (Maxvorstadt)</td>\n",
              "      <td>6184</td>\n",
              "      <td>3</td>\n",
              "      <td>149.0</td>\n",
              "      <td>Maxvorstadt, München, Bayern, Deutschland</td>\n",
              "      <td>03 Maxvorstadt</td>\n",
              "      <td>0.04</td>\n",
              "      <td>51,228.00</td>\n",
              "      <td>14.5</td>\n",
              "      <td>14,823.00</td>\n",
              "      <td>...</td>\n",
              "      <td>9.8</td>\n",
              "      <td>-13.0</td>\n",
              "      <td>38,284.00</td>\n",
              "      <td>13,158.00</td>\n",
              "      <td>-20.2</td>\n",
              "      <td>-30.2</td>\n",
              "      <td>1.3</td>\n",
              "      <td>34.4</td>\n",
              "      <td>-18.9</td>\n",
              "      <td>4.2</td>\n",
              "    </tr>\n",
              "    <tr>\n",
              "      <th>4</th>\n",
              "      <td>St. Benno, München</td>\n",
              "      <td>5400</td>\n",
              "      <td>5</td>\n",
              "      <td>204.0</td>\n",
              "      <td>St. Benno, Maxvorstadt, München, Bayern, Deuts...</td>\n",
              "      <td>03 Maxvorstadt</td>\n",
              "      <td>0.04</td>\n",
              "      <td>51,228.00</td>\n",
              "      <td>14.5</td>\n",
              "      <td>14,823.00</td>\n",
              "      <td>...</td>\n",
              "      <td>9.8</td>\n",
              "      <td>-13.0</td>\n",
              "      <td>38,284.00</td>\n",
              "      <td>13,158.00</td>\n",
              "      <td>-20.2</td>\n",
              "      <td>-30.2</td>\n",
              "      <td>1.3</td>\n",
              "      <td>34.4</td>\n",
              "      <td>-18.9</td>\n",
              "      <td>4.2</td>\n",
              "    </tr>\n",
              "  </tbody>\n",
              "</table>\n",
              "<p>5 rows × 117 columns</p>\n",
              "</div>\n",
              "      <button class=\"colab-df-convert\" onclick=\"convertToInteractive('df-c3719d38-1780-4110-8eb0-f97232c85265')\"\n",
              "              title=\"Convert this dataframe to an interactive table.\"\n",
              "              style=\"display:none;\">\n",
              "        \n",
              "  <svg xmlns=\"http://www.w3.org/2000/svg\" height=\"24px\"viewBox=\"0 0 24 24\"\n",
              "       width=\"24px\">\n",
              "    <path d=\"M0 0h24v24H0V0z\" fill=\"none\"/>\n",
              "    <path d=\"M18.56 5.44l.94 2.06.94-2.06 2.06-.94-2.06-.94-.94-2.06-.94 2.06-2.06.94zm-11 1L8.5 8.5l.94-2.06 2.06-.94-2.06-.94L8.5 2.5l-.94 2.06-2.06.94zm10 10l.94 2.06.94-2.06 2.06-.94-2.06-.94-.94-2.06-.94 2.06-2.06.94z\"/><path d=\"M17.41 7.96l-1.37-1.37c-.4-.4-.92-.59-1.43-.59-.52 0-1.04.2-1.43.59L10.3 9.45l-7.72 7.72c-.78.78-.78 2.05 0 2.83L4 21.41c.39.39.9.59 1.41.59.51 0 1.02-.2 1.41-.59l7.78-7.78 2.81-2.81c.8-.78.8-2.07 0-2.86zM5.41 20L4 18.59l7.72-7.72 1.47 1.35L5.41 20z\"/>\n",
              "  </svg>\n",
              "      </button>\n",
              "      \n",
              "  <style>\n",
              "    .colab-df-container {\n",
              "      display:flex;\n",
              "      flex-wrap:wrap;\n",
              "      gap: 12px;\n",
              "    }\n",
              "\n",
              "    .colab-df-convert {\n",
              "      background-color: #E8F0FE;\n",
              "      border: none;\n",
              "      border-radius: 50%;\n",
              "      cursor: pointer;\n",
              "      display: none;\n",
              "      fill: #1967D2;\n",
              "      height: 32px;\n",
              "      padding: 0 0 0 0;\n",
              "      width: 32px;\n",
              "    }\n",
              "\n",
              "    .colab-df-convert:hover {\n",
              "      background-color: #E2EBFA;\n",
              "      box-shadow: 0px 1px 2px rgba(60, 64, 67, 0.3), 0px 1px 3px 1px rgba(60, 64, 67, 0.15);\n",
              "      fill: #174EA6;\n",
              "    }\n",
              "\n",
              "    [theme=dark] .colab-df-convert {\n",
              "      background-color: #3B4455;\n",
              "      fill: #D2E3FC;\n",
              "    }\n",
              "\n",
              "    [theme=dark] .colab-df-convert:hover {\n",
              "      background-color: #434B5C;\n",
              "      box-shadow: 0px 1px 3px 1px rgba(0, 0, 0, 0.15);\n",
              "      filter: drop-shadow(0px 1px 2px rgba(0, 0, 0, 0.3));\n",
              "      fill: #FFFFFF;\n",
              "    }\n",
              "  </style>\n",
              "\n",
              "      <script>\n",
              "        const buttonEl =\n",
              "          document.querySelector('#df-c3719d38-1780-4110-8eb0-f97232c85265 button.colab-df-convert');\n",
              "        buttonEl.style.display =\n",
              "          google.colab.kernel.accessAllowed ? 'block' : 'none';\n",
              "\n",
              "        async function convertToInteractive(key) {\n",
              "          const element = document.querySelector('#df-c3719d38-1780-4110-8eb0-f97232c85265');\n",
              "          const dataTable =\n",
              "            await google.colab.kernel.invokeFunction('convertToInteractive',\n",
              "                                                     [key], {});\n",
              "          if (!dataTable) return;\n",
              "\n",
              "          const docLinkHtml = 'Like what you see? Visit the ' +\n",
              "            '<a target=\"_blank\" href=https://colab.research.google.com/notebooks/data_table.ipynb>data table notebook</a>'\n",
              "            + ' to learn more about interactive tables.';\n",
              "          element.innerHTML = '';\n",
              "          dataTable['output_type'] = 'display_data';\n",
              "          await google.colab.output.renderOutput(dataTable, element);\n",
              "          const docLink = document.createElement('div');\n",
              "          docLink.innerHTML = docLinkHtml;\n",
              "          element.appendChild(docLink);\n",
              "        }\n",
              "      </script>\n",
              "    </div>\n",
              "  </div>\n",
              "  "
            ]
          },
          "metadata": {},
          "execution_count": 2
        }
      ],
      "source": [
        "import pandas as pd \n",
        "\n",
        "df01 = pd.read_csv('/content/drive/Othercomputers/My Laptop/Data Science/final test pythontest3.csv')\n",
        "df11=pd.read_csv('/content/drive/Othercomputers/My Laptop/Data Science/Indikatoren München Gesamt test3.csv')\n",
        "df112=pd.merge(df01,df11, left_on=['city district'], right_on= ['city district'])\n",
        "\n",
        "\n",
        "df=df112\n",
        "\n",
        "\n",
        "df.head()"
      ]
    },
    {
      "cell_type": "code",
      "source": [
        "groupby = df.groupby('city district')['city district'].count()\n",
        "groupby.head(25)\n"
      ],
      "metadata": {
        "colab": {
          "base_uri": "https://localhost:8080/"
        },
        "id": "2vD0D0vLda5e",
        "outputId": "c651ef12-5479-41d9-f4f0-b07f6c056ca5"
      },
      "execution_count": 3,
      "outputs": [
        {
          "output_type": "execute_result",
          "data": {
            "text/plain": [
              "city district\n",
              "01 Altstadt - Lehel                                                  228\n",
              "02 Ludwigsvorstadt - Isarvorstadt                                    275\n",
              "03 Maxvorstadt                                                       186\n",
              "04 Schwabing - West                                                  312\n",
              "05 Au - Haidhausen                                                   293\n",
              "06 Sendling                                                          172\n",
              "07 Sendling - Westpark                                               287\n",
              "08 Schwanthalerhöhe                                                   77\n",
              "09 Neuhausen - Nymphenburg                                           270\n",
              "10 Moosach                                                           222\n",
              "11 Milbertshofen - Am Hart                                           273\n",
              "12 Schwabing - Freimann                                              322\n",
              "13 Bogenhausen                                                       446\n",
              "14 Berg am Laim                                                      138\n",
              "15 Trudering - Riem                                                  288\n",
              "16 Ramersdorf - Perlach                                              367\n",
              "17 Obergiesing - Fasangarten                                         167\n",
              "18 Untergiesing - Harlaching                                         272\n",
              "19 Thalkirchen - Obersendling - Forstenried - Fürstenried - Solln    504\n",
              "20 Hadern                                                            130\n",
              "21 Pasing - Obermenzing                                              422\n",
              "22 Aubing - Lochhausen - Langwied                                    255\n",
              "23 Allach - Untermenzing                                             203\n",
              "24 Feldmoching - Hasenbergl                                          120\n",
              "25 Laim                                                              237\n",
              "Name: city district, dtype: int64"
            ]
          },
          "metadata": {},
          "execution_count": 3
        }
      ]
    },
    {
      "cell_type": "code",
      "source": [
        "# wie viele Datenpunkte haben nicht-vollständige Attribute?\n",
        "num_missing = len(df) - len(df.dropna())\n",
        "ratio_missing = num_missing / len(df) \n",
        "# wir konvertieren in Prozente und runden auf 3 Nachkommastellen\n",
        "ratio_missing = np.round(ratio_missing * 100, 3) \n",
        "print(f\"{ratio_missing}% der Daten ({num_missing} Punkte) haben fehlende Werte!\")"
      ],
      "metadata": {
        "colab": {
          "base_uri": "https://localhost:8080/"
        },
        "id": "fGqvlRfWmTKj",
        "outputId": "6dbc422d-718b-483e-d653-a5f1b2d5c8d5"
      },
      "execution_count": 4,
      "outputs": [
        {
          "output_type": "stream",
          "name": "stdout",
          "text": [
            "0.0% der Daten (0 Punkte) haben fehlende Werte!\n"
          ]
        }
      ]
    },
    {
      "cell_type": "code",
      "source": [
        "df.loc[df.isnull().sum(axis=1) == 1] # ein kleiner Trick zum anzeigen von Daten mit fehlenden Attributen"
      ],
      "metadata": {
        "colab": {
          "base_uri": "https://localhost:8080/",
          "height": 247
        },
        "id": "E-DJh7NJnDwo",
        "outputId": "63dd91ab-e068-4139-882d-be5bdf695e2e"
      },
      "execution_count": 5,
      "outputs": [
        {
          "output_type": "execute_result",
          "data": {
            "text/plain": [
              "Empty DataFrame\n",
              "Columns: [scraped location, purchasing price [in €], number of rooms, square metre, geo_location, city district, crime rate, Population  - total, Population  - german with migration background, Population  - women (15 to 44), Population  - not german, Population  - total (0 to 17), Population  - not german (0 to 17), Population  - total (18 to 64), Population  - not german (18 to 64), Population  - total (65 and older), Population ratios  - total (0 to 14), Population ratios  - total (15 to 64), Population ratios  - total (65 and older), Population ratios  - total (75 and older), Population ratios  - Youth quotient, Population ratios  - Old-age quotient, Population ratios  - Overageing ratio, Population ratios  - High aged, Population  - not german (65 and older), Population  - single, Population  - married, Population  - Divorced, Population  - widowed, Population  - Religion (Roman Catholic), Population  - Religion (evangelical), Population  - Religion (orthodox), Population  - Religion (jewish), Population  - Religion (others), Population  - Religion (none), Population density - (Inhab. per ha), Area in ha, Birth and death rates - crude birth rate, Birth and death rates - Born, Birth and death rates - general birth rate, Birth and death rates - death rate, Intra and extraurban migration movements - Moved within the municipality (total), Intra and extraurban migration movements - Moved within the municipality (not german), Intra and extraurban migration movements - moved to inner city (total), Intra and extraurban migration movements - moved to inner city (not german), Intra and extraurban migration movements - moved in from out of town (total), Intra and extraurban migration movements - moved in from out of town (not german), Intra and extraurban migration movements - moved from inner city (total), Intra and extraurban migration movements - moved from inner city (not german), Intra and extraurban migration movements - moved away from out of town (total), Intra and extraurban migration movements - moved away from out of town (not german), Intra and extraurban migration movements - Net migration (total), Intra and extraurban migration movements - Net migration (not german), Inner-city migration movements by origin and destination city district total, Inner-city migration movements by origin and destination city district 1, Inner-city migration movements by origin and destination city district 2, Inner-city migration movements by origin and destination city district 3, Inner-city migration movements by origin and destination city district 4, Inner-city migration movements by origin and destination city district 5, Inner-city migration movements by origin and destination city district 6, Inner-city migration movements by origin and destination city district 7, Inner-city migration movements by origin and destination city district 8, Inner-city migration movements by origin and destination city district 9, Inner-city migration movements by origin and destination city district 10, Inner-city migration movements by origin and destination city district 11, Inner-city migration movements by origin and destination city district 12, Inner-city migration movements by origin and destination city district 13, Inner-city migration movements by origin and destination city district 14, Inner-city migration movements by origin and destination city district 15, Inner-city migration movements by origin and destination city district 16, Inner-city migration movements by origin and destination city district 17, Inner-city migration movements by origin and destination city district 18, Inner-city migration movements by origin and destination city district 19, Inner-city migration movements by origin and destination city district 20, Inner-city migration movements by origin and destination city district 21, Inner-city migration movements by origin and destination city district 22, Inner-city migration movements by origin and destination city district 23, Inner-city migration movements by origin and destination city district 24, Inner-city migration movements by origin and destination city district 25, Non-German population - total, Non-German population - croatian, Non-German population - turkish, Non-German population - italian, Non-German population - greek, Non-German population - bosnian-herzegov, Non-German population - austrian, Non-German population - romanian, Non-German population - polish, Non-German population - Serbian, Non-German population - Bulgarian, Private households by household size - household size in persons (total), Private households by household size - household size in persons (2), Private households by household size - household size in persons (3), Private households by household size - household size in persons (4), Private households by household size - household size in persons (5+), Private households by household type - total, Private households by household type - Single person household, Private households by household type - Couple without minor child/children, Private households by household type - Couple with minor child/children, Private households by household type - Single parent with minor child/children, ...]\n",
              "Index: []\n",
              "\n",
              "[0 rows x 117 columns]"
            ],
            "text/html": [
              "\n",
              "  <div id=\"df-15a01fb9-db14-46d0-9a2b-7bbadb4a4e81\">\n",
              "    <div class=\"colab-df-container\">\n",
              "      <div>\n",
              "<style scoped>\n",
              "    .dataframe tbody tr th:only-of-type {\n",
              "        vertical-align: middle;\n",
              "    }\n",
              "\n",
              "    .dataframe tbody tr th {\n",
              "        vertical-align: top;\n",
              "    }\n",
              "\n",
              "    .dataframe thead th {\n",
              "        text-align: right;\n",
              "    }\n",
              "</style>\n",
              "<table border=\"1\" class=\"dataframe\">\n",
              "  <thead>\n",
              "    <tr style=\"text-align: right;\">\n",
              "      <th></th>\n",
              "      <th>scraped location</th>\n",
              "      <th>purchasing price [in €]</th>\n",
              "      <th>number of rooms</th>\n",
              "      <th>square metre</th>\n",
              "      <th>geo_location</th>\n",
              "      <th>city district</th>\n",
              "      <th>crime rate</th>\n",
              "      <th>Population  - total</th>\n",
              "      <th>Population  - german with migration background</th>\n",
              "      <th>Population  - women (15 to 44)</th>\n",
              "      <th>...</th>\n",
              "      <th>Migration rates - Exterior migration</th>\n",
              "      <th>Migration rates - overall migration</th>\n",
              "      <th>Migration rates by nationality - medium population (german)</th>\n",
              "      <th>Migration rates by nationality - medium population (not german)</th>\n",
              "      <th>Migration rates by nationality - Internal migration (german)</th>\n",
              "      <th>Migration rates by nationality - Internal migration (not german)</th>\n",
              "      <th>Migration rates by nationality - Exterior migration (german)</th>\n",
              "      <th>Migration rates by nationality - Exterior migration (not german)</th>\n",
              "      <th>Migration rates by nationality - overall migration (german)</th>\n",
              "      <th>Migration rates by nationality - overall migration (not german)</th>\n",
              "    </tr>\n",
              "  </thead>\n",
              "  <tbody>\n",
              "  </tbody>\n",
              "</table>\n",
              "<p>0 rows × 117 columns</p>\n",
              "</div>\n",
              "      <button class=\"colab-df-convert\" onclick=\"convertToInteractive('df-15a01fb9-db14-46d0-9a2b-7bbadb4a4e81')\"\n",
              "              title=\"Convert this dataframe to an interactive table.\"\n",
              "              style=\"display:none;\">\n",
              "        \n",
              "  <svg xmlns=\"http://www.w3.org/2000/svg\" height=\"24px\"viewBox=\"0 0 24 24\"\n",
              "       width=\"24px\">\n",
              "    <path d=\"M0 0h24v24H0V0z\" fill=\"none\"/>\n",
              "    <path d=\"M18.56 5.44l.94 2.06.94-2.06 2.06-.94-2.06-.94-.94-2.06-.94 2.06-2.06.94zm-11 1L8.5 8.5l.94-2.06 2.06-.94-2.06-.94L8.5 2.5l-.94 2.06-2.06.94zm10 10l.94 2.06.94-2.06 2.06-.94-2.06-.94-.94-2.06-.94 2.06-2.06.94z\"/><path d=\"M17.41 7.96l-1.37-1.37c-.4-.4-.92-.59-1.43-.59-.52 0-1.04.2-1.43.59L10.3 9.45l-7.72 7.72c-.78.78-.78 2.05 0 2.83L4 21.41c.39.39.9.59 1.41.59.51 0 1.02-.2 1.41-.59l7.78-7.78 2.81-2.81c.8-.78.8-2.07 0-2.86zM5.41 20L4 18.59l7.72-7.72 1.47 1.35L5.41 20z\"/>\n",
              "  </svg>\n",
              "      </button>\n",
              "      \n",
              "  <style>\n",
              "    .colab-df-container {\n",
              "      display:flex;\n",
              "      flex-wrap:wrap;\n",
              "      gap: 12px;\n",
              "    }\n",
              "\n",
              "    .colab-df-convert {\n",
              "      background-color: #E8F0FE;\n",
              "      border: none;\n",
              "      border-radius: 50%;\n",
              "      cursor: pointer;\n",
              "      display: none;\n",
              "      fill: #1967D2;\n",
              "      height: 32px;\n",
              "      padding: 0 0 0 0;\n",
              "      width: 32px;\n",
              "    }\n",
              "\n",
              "    .colab-df-convert:hover {\n",
              "      background-color: #E2EBFA;\n",
              "      box-shadow: 0px 1px 2px rgba(60, 64, 67, 0.3), 0px 1px 3px 1px rgba(60, 64, 67, 0.15);\n",
              "      fill: #174EA6;\n",
              "    }\n",
              "\n",
              "    [theme=dark] .colab-df-convert {\n",
              "      background-color: #3B4455;\n",
              "      fill: #D2E3FC;\n",
              "    }\n",
              "\n",
              "    [theme=dark] .colab-df-convert:hover {\n",
              "      background-color: #434B5C;\n",
              "      box-shadow: 0px 1px 3px 1px rgba(0, 0, 0, 0.15);\n",
              "      filter: drop-shadow(0px 1px 2px rgba(0, 0, 0, 0.3));\n",
              "      fill: #FFFFFF;\n",
              "    }\n",
              "  </style>\n",
              "\n",
              "      <script>\n",
              "        const buttonEl =\n",
              "          document.querySelector('#df-15a01fb9-db14-46d0-9a2b-7bbadb4a4e81 button.colab-df-convert');\n",
              "        buttonEl.style.display =\n",
              "          google.colab.kernel.accessAllowed ? 'block' : 'none';\n",
              "\n",
              "        async function convertToInteractive(key) {\n",
              "          const element = document.querySelector('#df-15a01fb9-db14-46d0-9a2b-7bbadb4a4e81');\n",
              "          const dataTable =\n",
              "            await google.colab.kernel.invokeFunction('convertToInteractive',\n",
              "                                                     [key], {});\n",
              "          if (!dataTable) return;\n",
              "\n",
              "          const docLinkHtml = 'Like what you see? Visit the ' +\n",
              "            '<a target=\"_blank\" href=https://colab.research.google.com/notebooks/data_table.ipynb>data table notebook</a>'\n",
              "            + ' to learn more about interactive tables.';\n",
              "          element.innerHTML = '';\n",
              "          dataTable['output_type'] = 'display_data';\n",
              "          await google.colab.output.renderOutput(dataTable, element);\n",
              "          const docLink = document.createElement('div');\n",
              "          docLink.innerHTML = docLinkHtml;\n",
              "          element.appendChild(docLink);\n",
              "        }\n",
              "      </script>\n",
              "    </div>\n",
              "  </div>\n",
              "  "
            ]
          },
          "metadata": {},
          "execution_count": 5
        }
      ]
    },
    {
      "cell_type": "code",
      "source": [
        "\n",
        "\n",
        "df.isnull().sum(axis=0)\n",
        "\n"
      ],
      "metadata": {
        "colab": {
          "base_uri": "https://localhost:8080/"
        },
        "id": "3V-QtnlinO5T",
        "outputId": "5f28ca0f-19f4-449b-c78e-c0656f9fd5b8"
      },
      "execution_count": 6,
      "outputs": [
        {
          "output_type": "execute_result",
          "data": {
            "text/plain": [
              "scraped location                                                    0\n",
              "purchasing price [in €]                                             0\n",
              "number of rooms                                                     0\n",
              "square metre                                                        0\n",
              "geo_location                                                        0\n",
              "                                                                   ..\n",
              "Migration rates by nationality - Internal migration (not german)    0\n",
              "Migration rates by nationality - Exterior migration (german)        0\n",
              "Migration rates by nationality - Exterior migration (not german)    0\n",
              "Migration rates by nationality - overall migration (german)         0\n",
              "Migration rates by nationality - overall migration (not german)     0\n",
              "Length: 117, dtype: int64"
            ]
          },
          "metadata": {},
          "execution_count": 6
        }
      ]
    },
    {
      "cell_type": "code",
      "source": [
        "derived_df = df[['purchasing price [in €]']]\n",
        "print(derived_df, \"\\n\")"
      ],
      "metadata": {
        "colab": {
          "base_uri": "https://localhost:8080/"
        },
        "id": "rsyYUQM3x8hu",
        "outputId": "99c838b0-9a60-4418-c10a-dfd36bd2c0a2"
      },
      "execution_count": 7,
      "outputs": [
        {
          "output_type": "stream",
          "name": "stdout",
          "text": [
            "      purchasing price [in €]\n",
            "0                       18500\n",
            "1                       18500\n",
            "2                        6184\n",
            "3                        6184\n",
            "4                        5400\n",
            "...                       ...\n",
            "6461                      690\n",
            "6462                      675\n",
            "6463                      600\n",
            "6464                      600\n",
            "6465                      540\n",
            "\n",
            "[6466 rows x 1 columns] \n",
            "\n"
          ]
        }
      ]
    },
    {
      "cell_type": "code",
      "source": [
        "\n",
        "\n",
        "df = df.dropna() # löscht alle Zeilen mit fehlenden Attributen\n",
        "df = df.reset_index(drop=True) # zählt unsere Daten neu durch\n",
        "\n"
      ],
      "metadata": {
        "id": "5z0zrXAynS0V"
      },
      "execution_count": 8,
      "outputs": []
    },
    {
      "cell_type": "code",
      "source": [
        "\n",
        "\n",
        "sns.displot(data=df, x=\"purchasing price [in €]\", kde=True);\n"
      ],
      "metadata": {
        "colab": {
          "base_uri": "https://localhost:8080/",
          "height": 369
        },
        "id": "0B49aZ3HnYoZ",
        "outputId": "1d3d90ff-51e8-4494-ce76-f75fc9d583c7"
      },
      "execution_count": 9,
      "outputs": [
        {
          "output_type": "display_data",
          "data": {
            "text/plain": [
              "<Figure size 360x360 with 1 Axes>"
            ],
            "image/png": "[encoded data removed]"
          },
          "metadata": {
            "needs_background": "light"
          }
        }
      ]
    },
    {
      "cell_type": "code",
      "source": [
        "\n",
        "\n",
        "description = df.describe()\n",
        "description\n",
        "\n"
      ],
      "metadata": {
        "colab": {
          "base_uri": "https://localhost:8080/",
          "height": 498
        },
        "id": "7C2lHcuBoOcD",
        "outputId": "a6544da4-70a5-40ac-d85f-1fbfd26e5a8c"
      },
      "execution_count": 10,
      "outputs": [
        {
          "output_type": "execute_result",
          "data": {
            "text/plain": [
              "       purchasing price [in €]  number of rooms  square metre   crime rate  \\\n",
              "count              6466.000000      6466.000000   6466.000000  6466.000000   \n",
              "mean               1607.829879         2.240643     69.595246     0.042020   \n",
              "std                 971.584947         1.218671     40.372711     0.025444   \n",
              "min                  60.000000         1.000000     20.420000     0.010000   \n",
              "25%                1050.000000         1.000000     41.210000     0.030000   \n",
              "50%                1390.000000         2.000000     64.000000     0.040000   \n",
              "75%                1900.000000         3.000000     86.475000     0.040000   \n",
              "max               18500.000000        24.000000    700.000000     0.130000   \n",
              "\n",
              "       Population  - german with migration background  \\\n",
              "count                                     6466.000000   \n",
              "mean                                        17.237751   \n",
              "std                                          2.424650   \n",
              "min                                         13.400000   \n",
              "25%                                         15.600000   \n",
              "50%                                         16.700000   \n",
              "75%                                         19.100000   \n",
              "max                                         22.700000   \n",
              "\n",
              "       Population  - not german  Population  - total (0 to 17)  \\\n",
              "count               6466.000000                    6466.000000   \n",
              "mean                  28.240752                      15.345206   \n",
              "std                    4.464113                       2.306267   \n",
              "min                   23.300000                      10.000000   \n",
              "25%                   24.200000                      13.900000   \n",
              "50%                   27.800000                      15.200000   \n",
              "75%                   30.400000                      17.200000   \n",
              "max                   42.000000                      20.100000   \n",
              "\n",
              "       Population  - not german (0 to 17)  Population  - total (18 to 64)  \\\n",
              "count                         6466.000000                     6466.000000   \n",
              "mean                             9.912233                       67.522502   \n",
              "std                              2.339626                        4.020202   \n",
              "min                              5.600000                       62.900000   \n",
              "25%                              8.400000                       63.900000   \n",
              "50%                             10.000000                       67.200000   \n",
              "75%                             11.600000                       70.300000   \n",
              "max                             13.700000                       77.900000   \n",
              "\n",
              "       Population  - not german (18 to 64)  ...  \\\n",
              "count                          6466.000000  ...   \n",
              "mean                             79.330575  ...   \n",
              "std                               1.991571  ...   \n",
              "min                              75.800000  ...   \n",
              "25%                              78.300000  ...   \n",
              "50%                              78.700000  ...   \n",
              "75%                              80.300000  ...   \n",
              "max                              85.100000  ...   \n",
              "\n",
              "       Private households by children - with child/children 3+  \\\n",
              "count                                        6466.000000         \n",
              "mean                                            9.977034         \n",
              "std                                             1.873678         \n",
              "min                                             7.100000         \n",
              "25%                                             8.500000         \n",
              "50%                                            10.100000         \n",
              "75%                                            11.300000         \n",
              "max                                            13.500000         \n",
              "\n",
              "       Migration rates - Internal migration  \\\n",
              "count                           6466.000000   \n",
              "mean                               0.481070   \n",
              "std                               12.376374   \n",
              "min                              -23.300000   \n",
              "25%                               -9.000000   \n",
              "50%                                2.500000   \n",
              "75%                                8.400000   \n",
              "max                               26.600000   \n",
              "\n",
              "       Migration rates - Exterior migration  \\\n",
              "count                           6466.000000   \n",
              "mean                              -3.580019   \n",
              "std                                4.503574   \n",
              "min                              -11.100000   \n",
              "25%                               -4.800000   \n",
              "50%                               -3.800000   \n",
              "75%                               -2.500000   \n",
              "max                                9.800000   \n",
              "\n",
              "       Migration rates - overall migration  \\\n",
              "count                          6466.000000   \n",
              "mean                             -3.111243   \n",
              "std                              11.769235   \n",
              "min                             -21.000000   \n",
              "25%                             -11.200000   \n",
              "50%                              -2.300000   \n",
              "75%                               4.600000   \n",
              "max                              26.700000   \n",
              "\n",
              "       Migration rates by nationality - Internal migration (german)  \\\n",
              "count                                        6466.000000              \n",
              "mean                                            0.571250              \n",
              "std                                            10.572492              \n",
              "min                                           -20.200000              \n",
              "25%                                            -7.100000              \n",
              "50%                                             0.800000              \n",
              "75%                                             8.700000              \n",
              "max                                            25.500000              \n",
              "\n",
              "       Migration rates by nationality - Internal migration (not german)  \\\n",
              "count                                        6466.000000                  \n",
              "mean                                            0.006990                  \n",
              "std                                            20.007793                  \n",
              "min                                           -51.100000                  \n",
              "25%                                           -14.000000                  \n",
              "50%                                             4.300000                  \n",
              "75%                                            11.300000                  \n",
              "max                                            36.900000                  \n",
              "\n",
              "       Migration rates by nationality - Exterior migration (german)  \\\n",
              "count                                        6466.000000              \n",
              "mean                                          -13.337689              \n",
              "std                                             3.845286              \n",
              "min                                           -19.200000              \n",
              "25%                                           -16.300000              \n",
              "50%                                           -13.600000              \n",
              "75%                                           -10.900000              \n",
              "max                                             1.300000              \n",
              "\n",
              "       Migration rates by nationality - Exterior migration (not german)  \\\n",
              "count                                        6466.000000                  \n",
              "mean                                           20.729075                  \n",
              "std                                            12.372434                  \n",
              "min                                            -4.400000                  \n",
              "25%                                            10.700000                  \n",
              "50%                                            20.800000                  \n",
              "75%                                            27.900000                  \n",
              "max                                            48.000000                  \n",
              "\n",
              "       Migration rates by nationality - overall migration (german)  \\\n",
              "count                                        6466.000000             \n",
              "mean                                          -12.768435             \n",
              "std                                            11.150788             \n",
              "min                                           -31.500000             \n",
              "25%                                           -19.500000             \n",
              "50%                                           -14.700000             \n",
              "75%                                            -7.600000             \n",
              "max                                            15.800000             \n",
              "\n",
              "       Migration rates by nationality - overall migration (not german)  \n",
              "count                                        6466.000000                \n",
              "mean                                           20.745685                \n",
              "std                                            20.713149                \n",
              "min                                           -28.300000                \n",
              "25%                                            11.700000                \n",
              "50%                                            22.500000                \n",
              "75%                                            30.100000                \n",
              "max                                            62.300000                \n",
              "\n",
              "[8 rows x 67 columns]"
            ],
            "text/html": [
              "\n",
              "  <div id=\"df-48d221f2-bdc3-4b54-86bb-a2dd9785a2a1\">\n",
              "    <div class=\"colab-df-container\">\n",
              "      <div>\n",
              "<style scoped>\n",
              "    .dataframe tbody tr th:only-of-type {\n",
              "        vertical-align: middle;\n",
              "    }\n",
              "\n",
              "    .dataframe tbody tr th {\n",
              "        vertical-align: top;\n",
              "    }\n",
              "\n",
              "    .dataframe thead th {\n",
              "        text-align: right;\n",
              "    }\n",
              "</style>\n",
              "<table border=\"1\" class=\"dataframe\">\n",
              "  <thead>\n",
              "    <tr style=\"text-align: right;\">\n",
              "      <th></th>\n",
              "      <th>purchasing price [in €]</th>\n",
              "      <th>number of rooms</th>\n",
              "      <th>square metre</th>\n",
              "      <th>crime rate</th>\n",
              "      <th>Population  - german with migration background</th>\n",
              "      <th>Population  - not german</th>\n",
              "      <th>Population  - total (0 to 17)</th>\n",
              "      <th>Population  - not german (0 to 17)</th>\n",
              "      <th>Population  - total (18 to 64)</th>\n",
              "      <th>Population  - not german (18 to 64)</th>\n",
              "      <th>...</th>\n",
              "      <th>Private households by children - with child/children 3+</th>\n",
              "      <th>Migration rates - Internal migration</th>\n",
              "      <th>Migration rates - Exterior migration</th>\n",
              "      <th>Migration rates - overall migration</th>\n",
              "      <th>Migration rates by nationality - Internal migration (german)</th>\n",
              "      <th>Migration rates by nationality - Internal migration (not german)</th>\n",
              "      <th>Migration rates by nationality - Exterior migration (german)</th>\n",
              "      <th>Migration rates by nationality - Exterior migration (not german)</th>\n",
              "      <th>Migration rates by nationality - overall migration (german)</th>\n",
              "      <th>Migration rates by nationality - overall migration (not german)</th>\n",
              "    </tr>\n",
              "  </thead>\n",
              "  <tbody>\n",
              "    <tr>\n",
              "      <th>count</th>\n",
              "      <td>6466.000000</td>\n",
              "      <td>6466.000000</td>\n",
              "      <td>6466.000000</td>\n",
              "      <td>6466.000000</td>\n",
              "      <td>6466.000000</td>\n",
              "      <td>6466.000000</td>\n",
              "      <td>6466.000000</td>\n",
              "      <td>6466.000000</td>\n",
              "      <td>6466.000000</td>\n",
              "      <td>6466.000000</td>\n",
              "      <td>...</td>\n",
              "      <td>6466.000000</td>\n",
              "      <td>6466.000000</td>\n",
              "      <td>6466.000000</td>\n",
              "      <td>6466.000000</td>\n",
              "      <td>6466.000000</td>\n",
              "      <td>6466.000000</td>\n",
              "      <td>6466.000000</td>\n",
              "      <td>6466.000000</td>\n",
              "      <td>6466.000000</td>\n",
              "      <td>6466.000000</td>\n",
              "    </tr>\n",
              "    <tr>\n",
              "      <th>mean</th>\n",
              "      <td>1607.829879</td>\n",
              "      <td>2.240643</td>\n",
              "      <td>69.595246</td>\n",
              "      <td>0.042020</td>\n",
              "      <td>17.237751</td>\n",
              "      <td>28.240752</td>\n",
              "      <td>15.345206</td>\n",
              "      <td>9.912233</td>\n",
              "      <td>67.522502</td>\n",
              "      <td>79.330575</td>\n",
              "      <td>...</td>\n",
              "      <td>9.977034</td>\n",
              "      <td>0.481070</td>\n",
              "      <td>-3.580019</td>\n",
              "      <td>-3.111243</td>\n",
              "      <td>0.571250</td>\n",
              "      <td>0.006990</td>\n",
              "      <td>-13.337689</td>\n",
              "      <td>20.729075</td>\n",
              "      <td>-12.768435</td>\n",
              "      <td>20.745685</td>\n",
              "    </tr>\n",
              "    <tr>\n",
              "      <th>std</th>\n",
              "      <td>971.584947</td>\n",
              "      <td>1.218671</td>\n",
              "      <td>40.372711</td>\n",
              "      <td>0.025444</td>\n",
              "      <td>2.424650</td>\n",
              "      <td>4.464113</td>\n",
              "      <td>2.306267</td>\n",
              "      <td>2.339626</td>\n",
              "      <td>4.020202</td>\n",
              "      <td>1.991571</td>\n",
              "      <td>...</td>\n",
              "      <td>1.873678</td>\n",
              "      <td>12.376374</td>\n",
              "      <td>4.503574</td>\n",
              "      <td>11.769235</td>\n",
              "      <td>10.572492</td>\n",
              "      <td>20.007793</td>\n",
              "      <td>3.845286</td>\n",
              "      <td>12.372434</td>\n",
              "      <td>11.150788</td>\n",
              "      <td>20.713149</td>\n",
              "    </tr>\n",
              "    <tr>\n",
              "      <th>min</th>\n",
              "      <td>60.000000</td>\n",
              "      <td>1.000000</td>\n",
              "      <td>20.420000</td>\n",
              "      <td>0.010000</td>\n",
              "      <td>13.400000</td>\n",
              "      <td>23.300000</td>\n",
              "      <td>10.000000</td>\n",
              "      <td>5.600000</td>\n",
              "      <td>62.900000</td>\n",
              "      <td>75.800000</td>\n",
              "      <td>...</td>\n",
              "      <td>7.100000</td>\n",
              "      <td>-23.300000</td>\n",
              "      <td>-11.100000</td>\n",
              "      <td>-21.000000</td>\n",
              "      <td>-20.200000</td>\n",
              "      <td>-51.100000</td>\n",
              "      <td>-19.200000</td>\n",
              "      <td>-4.400000</td>\n",
              "      <td>-31.500000</td>\n",
              "      <td>-28.300000</td>\n",
              "    </tr>\n",
              "    <tr>\n",
              "      <th>25%</th>\n",
              "      <td>1050.000000</td>\n",
              "      <td>1.000000</td>\n",
              "      <td>41.210000</td>\n",
              "      <td>0.030000</td>\n",
              "      <td>15.600000</td>\n",
              "      <td>24.200000</td>\n",
              "      <td>13.900000</td>\n",
              "      <td>8.400000</td>\n",
              "      <td>63.900000</td>\n",
              "      <td>78.300000</td>\n",
              "      <td>...</td>\n",
              "      <td>8.500000</td>\n",
              "      <td>-9.000000</td>\n",
              "      <td>-4.800000</td>\n",
              "      <td>-11.200000</td>\n",
              "      <td>-7.100000</td>\n",
              "      <td>-14.000000</td>\n",
              "      <td>-16.300000</td>\n",
              "      <td>10.700000</td>\n",
              "      <td>-19.500000</td>\n",
              "      <td>11.700000</td>\n",
              "    </tr>\n",
              "    <tr>\n",
              "      <th>50%</th>\n",
              "      <td>1390.000000</td>\n",
              "      <td>2.000000</td>\n",
              "      <td>64.000000</td>\n",
              "      <td>0.040000</td>\n",
              "      <td>16.700000</td>\n",
              "      <td>27.800000</td>\n",
              "      <td>15.200000</td>\n",
              "      <td>10.000000</td>\n",
              "      <td>67.200000</td>\n",
              "      <td>78.700000</td>\n",
              "      <td>...</td>\n",
              "      <td>10.100000</td>\n",
              "      <td>2.500000</td>\n",
              "      <td>-3.800000</td>\n",
              "      <td>-2.300000</td>\n",
              "      <td>0.800000</td>\n",
              "      <td>4.300000</td>\n",
              "      <td>-13.600000</td>\n",
              "      <td>20.800000</td>\n",
              "      <td>-14.700000</td>\n",
              "      <td>22.500000</td>\n",
              "    </tr>\n",
              "    <tr>\n",
              "      <th>75%</th>\n",
              "      <td>1900.000000</td>\n",
              "      <td>3.000000</td>\n",
              "      <td>86.475000</td>\n",
              "      <td>0.040000</td>\n",
              "      <td>19.100000</td>\n",
              "      <td>30.400000</td>\n",
              "      <td>17.200000</td>\n",
              "      <td>11.600000</td>\n",
              "      <td>70.300000</td>\n",
              "      <td>80.300000</td>\n",
              "      <td>...</td>\n",
              "      <td>11.300000</td>\n",
              "      <td>8.400000</td>\n",
              "      <td>-2.500000</td>\n",
              "      <td>4.600000</td>\n",
              "      <td>8.700000</td>\n",
              "      <td>11.300000</td>\n",
              "      <td>-10.900000</td>\n",
              "      <td>27.900000</td>\n",
              "      <td>-7.600000</td>\n",
              "      <td>30.100000</td>\n",
              "    </tr>\n",
              "    <tr>\n",
              "      <th>max</th>\n",
              "      <td>18500.000000</td>\n",
              "      <td>24.000000</td>\n",
              "      <td>700.000000</td>\n",
              "      <td>0.130000</td>\n",
              "      <td>22.700000</td>\n",
              "      <td>42.000000</td>\n",
              "      <td>20.100000</td>\n",
              "      <td>13.700000</td>\n",
              "      <td>77.900000</td>\n",
              "      <td>85.100000</td>\n",
              "      <td>...</td>\n",
              "      <td>13.500000</td>\n",
              "      <td>26.600000</td>\n",
              "      <td>9.800000</td>\n",
              "      <td>26.700000</td>\n",
              "      <td>25.500000</td>\n",
              "      <td>36.900000</td>\n",
              "      <td>1.300000</td>\n",
              "      <td>48.000000</td>\n",
              "      <td>15.800000</td>\n",
              "      <td>62.300000</td>\n",
              "    </tr>\n",
              "  </tbody>\n",
              "</table>\n",
              "<p>8 rows × 67 columns</p>\n",
              "</div>\n",
              "      <button class=\"colab-df-convert\" onclick=\"convertToInteractive('df-48d221f2-bdc3-4b54-86bb-a2dd9785a2a1')\"\n",
              "              title=\"Convert this dataframe to an interactive table.\"\n",
              "              style=\"display:none;\">\n",
              "        \n",
              "  <svg xmlns=\"http://www.w3.org/2000/svg\" height=\"24px\"viewBox=\"0 0 24 24\"\n",
              "       width=\"24px\">\n",
              "    <path d=\"M0 0h24v24H0V0z\" fill=\"none\"/>\n",
              "    <path d=\"M18.56 5.44l.94 2.06.94-2.06 2.06-.94-2.06-.94-.94-2.06-.94 2.06-2.06.94zm-11 1L8.5 8.5l.94-2.06 2.06-.94-2.06-.94L8.5 2.5l-.94 2.06-2.06.94zm10 10l.94 2.06.94-2.06 2.06-.94-2.06-.94-.94-2.06-.94 2.06-2.06.94z\"/><path d=\"M17.41 7.96l-1.37-1.37c-.4-.4-.92-.59-1.43-.59-.52 0-1.04.2-1.43.59L10.3 9.45l-7.72 7.72c-.78.78-.78 2.05 0 2.83L4 21.41c.39.39.9.59 1.41.59.51 0 1.02-.2 1.41-.59l7.78-7.78 2.81-2.81c.8-.78.8-2.07 0-2.86zM5.41 20L4 18.59l7.72-7.72 1.47 1.35L5.41 20z\"/>\n",
              "  </svg>\n",
              "      </button>\n",
              "      \n",
              "  <style>\n",
              "    .colab-df-container {\n",
              "      display:flex;\n",
              "      flex-wrap:wrap;\n",
              "      gap: 12px;\n",
              "    }\n",
              "\n",
              "    .colab-df-convert {\n",
              "      background-color: #E8F0FE;\n",
              "      border: none;\n",
              "      border-radius: 50%;\n",
              "      cursor: pointer;\n",
              "      display: none;\n",
              "      fill: #1967D2;\n",
              "      height: 32px;\n",
              "      padding: 0 0 0 0;\n",
              "      width: 32px;\n",
              "    }\n",
              "\n",
              "    .colab-df-convert:hover {\n",
              "      background-color: #E2EBFA;\n",
              "      box-shadow: 0px 1px 2px rgba(60, 64, 67, 0.3), 0px 1px 3px 1px rgba(60, 64, 67, 0.15);\n",
              "      fill: #174EA6;\n",
              "    }\n",
              "\n",
              "    [theme=dark] .colab-df-convert {\n",
              "      background-color: #3B4455;\n",
              "      fill: #D2E3FC;\n",
              "    }\n",
              "\n",
              "    [theme=dark] .colab-df-convert:hover {\n",
              "      background-color: #434B5C;\n",
              "      box-shadow: 0px 1px 3px 1px rgba(0, 0, 0, 0.15);\n",
              "      filter: drop-shadow(0px 1px 2px rgba(0, 0, 0, 0.3));\n",
              "      fill: #FFFFFF;\n",
              "    }\n",
              "  </style>\n",
              "\n",
              "      <script>\n",
              "        const buttonEl =\n",
              "          document.querySelector('#df-48d221f2-bdc3-4b54-86bb-a2dd9785a2a1 button.colab-df-convert');\n",
              "        buttonEl.style.display =\n",
              "          google.colab.kernel.accessAllowed ? 'block' : 'none';\n",
              "\n",
              "        async function convertToInteractive(key) {\n",
              "          const element = document.querySelector('#df-48d221f2-bdc3-4b54-86bb-a2dd9785a2a1');\n",
              "          const dataTable =\n",
              "            await google.colab.kernel.invokeFunction('convertToInteractive',\n",
              "                                                     [key], {});\n",
              "          if (!dataTable) return;\n",
              "\n",
              "          const docLinkHtml = 'Like what you see? Visit the ' +\n",
              "            '<a target=\"_blank\" href=https://colab.research.google.com/notebooks/data_table.ipynb>data table notebook</a>'\n",
              "            + ' to learn more about interactive tables.';\n",
              "          element.innerHTML = '';\n",
              "          dataTable['output_type'] = 'display_data';\n",
              "          await google.colab.output.renderOutput(dataTable, element);\n",
              "          const docLink = document.createElement('div');\n",
              "          docLink.innerHTML = docLinkHtml;\n",
              "          element.appendChild(docLink);\n",
              "        }\n",
              "      </script>\n",
              "    </div>\n",
              "  </div>\n",
              "  "
            ]
          },
          "metadata": {},
          "execution_count": 10
        }
      ]
    },
    {
      "cell_type": "code",
      "source": [
        "avgkaufpreis = df[\"purchasing price [in €]\"].mean()"
      ],
      "metadata": {
        "id": "nqCta3JDsdTy"
      },
      "execution_count": 11,
      "outputs": []
    },
    {
      "cell_type": "code",
      "source": [
        "\n",
        "\n",
        "bins = [0] + list(description[\"purchasing price [in €]\"][\n",
        "    [\"25%\", \"50%\", \"75%\"]\n",
        "].astype(int)) + [np.inf]\n",
        "print(bins) # 0 bis 119.500 = 0 - 25% Quantil, 119.500 bis 179.700 = 25 - 50% Quantil, ...\n",
        "\n"
      ],
      "metadata": {
        "colab": {
          "base_uri": "https://localhost:8080/"
        },
        "id": "APpz1_bQoYbc",
        "outputId": "ae858e49-b8ea-4475-82e7-16f9862e1250"
      },
      "execution_count": 12,
      "outputs": [
        {
          "output_type": "stream",
          "name": "stdout",
          "text": [
            "[0, 1050, 1390, 1900, inf]\n"
          ]
        }
      ]
    },
    {
      "cell_type": "code",
      "source": [
        "\n",
        "\n",
        "df[\"house_cat\"] = pd.cut(\n",
        "    df[\"purchasing price [in €]\"],\n",
        "    bins=bins,\n",
        "    labels=[\"0 - 25%\", \"25 - 50%\", \"50 - 75%\", \"75 - 100%\"]\n",
        ")\n",
        "\n"
      ],
      "metadata": {
        "id": "rzgoKxM7u83W"
      },
      "execution_count": 13,
      "outputs": []
    },
    {
      "cell_type": "code",
      "source": [
        "\n",
        "\n",
        "sns.countplot(data=df, x=\"house_cat\");\n",
        "\n"
      ],
      "metadata": {
        "colab": {
          "base_uri": "https://localhost:8080/",
          "height": 280
        },
        "id": "umvNSGsmvFt4",
        "outputId": "9c0e939f-e372-4ea3-92fd-353968f2a8b4"
      },
      "execution_count": 14,
      "outputs": [
        {
          "output_type": "display_data",
          "data": {
            "text/plain": [
              "<Figure size 432x288 with 1 Axes>"
            ],
            "image/png": "[encoded data removed]"
          },
          "metadata": {
            "needs_background": "light"
          }
        }
      ]
    },
    {
      "cell_type": "code",
      "source": [
        "split = StratifiedShuffleSplit(n_splits=1, test_size=0.1, random_state=0)\n",
        "for train_index, test_index in split.split(df, df[\"house_cat\"]):\n",
        "    df_train = df.loc[train_index]\n",
        "    df_test = df.loc[test_index]"
      ],
      "metadata": {
        "id": "v-8OYAaUvmia"
      },
      "execution_count": 15,
      "outputs": []
    },
    {
      "cell_type": "code",
      "source": [
        "\n",
        "\n",
        "sns.countplot(data=df_train, x=\"house_cat\");\n",
        "\n"
      ],
      "metadata": {
        "colab": {
          "base_uri": "https://localhost:8080/",
          "height": 280
        },
        "id": "g-xn_nvqv4Mu",
        "outputId": "144c6e9d-7334-475e-e727-16a3d9fa02e4"
      },
      "execution_count": 16,
      "outputs": [
        {
          "output_type": "display_data",
          "data": {
            "text/plain": [
              "<Figure size 432x288 with 1 Axes>"
            ],
            "image/png": "[encoded data removed]"
          },
          "metadata": {
            "needs_background": "light"
          }
        }
      ]
    },
    {
      "cell_type": "code",
      "source": [
        "\n",
        "\n",
        "sns.countplot(data=df_test, x=\"house_cat\");\n",
        "\n"
      ],
      "metadata": {
        "colab": {
          "base_uri": "https://localhost:8080/",
          "height": 280
        },
        "id": "HHA_Qw5Kv79-",
        "outputId": "a4efca9e-50e5-48f8-b61f-6da89a196faa"
      },
      "execution_count": 17,
      "outputs": [
        {
          "output_type": "display_data",
          "data": {
            "text/plain": [
              "<Figure size 432x288 with 1 Axes>"
            ],
            "image/png": "[encoded data removed]"
          },
          "metadata": {
            "needs_background": "light"
          }
        }
      ]
    },
    {
      "cell_type": "code",
      "source": [
        "\n",
        "\n",
        "df_train = df_train.drop(\"house_cat\", axis=1)\n",
        "df_test = df_test.drop(\"house_cat\", axis=1)\n",
        "\n"
      ],
      "metadata": {
        "id": "moRcAOHvwNiB"
      },
      "execution_count": 18,
      "outputs": []
    },
    {
      "cell_type": "markdown",
      "source": [
        "\n",
        "\n",
        "# Correlation calculation"
      ],
      "metadata": {
        "id": "yJftERO00Jyt"
      }
    },
    {
      "cell_type": "code",
      "source": [
        "df_train.corr()[\"purchasing price [in €]\"].abs().sort_values(ascending=False)"
      ],
      "metadata": {
        "colab": {
          "base_uri": "https://localhost:8080/"
        },
        "id": "YO6RoHPHwgKI",
        "outputId": "ef85c67c-6e2f-4b0a-edf4-0b502a2d9de0"
      },
      "execution_count": 19,
      "outputs": [
        {
          "output_type": "execute_result",
          "data": {
            "text/plain": [
              "purchasing price [in €]                                                      1.000000\n",
              "square metre                                                                 0.848383\n",
              "number of rooms                                                              0.716893\n",
              "Inner-city migration movements by origin and destination city district 1     0.194274\n",
              "Population  - widowed                                                        0.145722\n",
              "                                                                               ...   \n",
              "Migration rates - Exterior migration                                         0.014635\n",
              "Migration rates by nationality - Exterior migration (not german)             0.008955\n",
              "Inner-city migration movements by origin and destination city district 7     0.008003\n",
              "Inner-city migration movements by origin and destination city district 18    0.006919\n",
              "Population  - Religion (none)                                                0.001715\n",
              "Name: purchasing price [in €], Length: 67, dtype: float64"
            ]
          },
          "metadata": {},
          "execution_count": 19
        }
      ]
    },
    {
      "cell_type": "code",
      "source": [
        "def engineer_features(df):\n",
        "    df[\"ratio_rooms\"] = df[\"square metre\"] / df[\"number of rooms\"]\n",
        "    return df"
      ],
      "metadata": {
        "id": "rlMlH28v2Ia6"
      },
      "execution_count": 20,
      "outputs": []
    },
    {
      "cell_type": "code",
      "source": [
        "\n",
        "\n",
        "df_train = engineer_features(df_train)\n",
        "df_test = engineer_features(df_test)\n",
        "\n"
      ],
      "metadata": {
        "id": "tTyvBzlI2uih"
      },
      "execution_count": 21,
      "outputs": []
    },
    {
      "cell_type": "code",
      "source": [
        ""
      ],
      "metadata": {
        "id": "M9MIdRG9xLsu"
      },
      "execution_count": 21,
      "outputs": []
    },
    {
      "cell_type": "code",
      "source": [
        "\n",
        "dfcorr = df_train.corr()[\"purchasing price [in €]\"].abs().sort_values(ascending=False)\n",
        "\n",
        "dfcorr.head(50)"
      ],
      "metadata": {
        "colab": {
          "base_uri": "https://localhost:8080/"
        },
        "id": "lsxCn4TV2kLH",
        "outputId": "0d647d61-1c99-4777-874a-0cbf3e00c01e"
      },
      "execution_count": 22,
      "outputs": [
        {
          "output_type": "execute_result",
          "data": {
            "text/plain": [
              "purchasing price [in €]                                                           1.000000\n",
              "square metre                                                                      0.848383\n",
              "number of rooms                                                                   0.716893\n",
              "ratio_rooms                                                                       0.278457\n",
              "Inner-city migration movements by origin and destination city district 1          0.194274\n",
              "Population  - widowed                                                             0.145722\n",
              "Population  - single                                                              0.141088\n",
              "Private households by household type - Single parent with minor child/children    0.140540\n",
              "Private households by household size - household size in persons (2)              0.136408\n",
              "Population  - married                                                             0.135267\n",
              "Private households by household type - Single person household                    0.134610\n",
              "Private households by household type - Couple without minor child/children        0.133282\n",
              "Private households by household size - household size in persons (3)              0.132887\n",
              "Population  - Religion (orthodox)                                                 0.131935\n",
              "Migration rates by nationality - overall migration (not german)                   0.131143\n",
              "Private households by children - with minor child/children                        0.130358\n",
              "Private households by children - without minor children                           0.130358\n",
              "Migration rates by nationality - Internal migration (not german)                  0.130071\n",
              "Population  - german with migration background                                    0.129464\n",
              "Private households by household size - household size in persons (5+)             0.128236\n",
              "Private households by household size - household size in persons (4)              0.125878\n",
              "Private households by household type - Couple with minor child/children           0.124652\n",
              "Population  - total (18 to 64)                                                    0.123966\n",
              "Population  - total (0 to 17)                                                     0.123600\n",
              "Population ratios  - Youth quotient                                               0.121967\n",
              "crime rate                                                                        0.121488\n",
              "Inner-city migration movements by origin and destination city district 2          0.116886\n",
              "Migration rates - overall migration                                               0.113188\n",
              "Migration rates - Internal migration                                              0.112797\n",
              "Private households by children - with child/children 3+                           0.108935\n",
              "Private households by household type - Other multi-person household               0.108312\n",
              "Population  - not german (0 to 17)                                                0.104148\n",
              "Population  - Religion (evangelical)                                              0.103330\n",
              "Population  - not german (18 to 64)                                               0.102509\n",
              "Population ratios  - Old-age quotient                                             0.098938\n",
              "Birth and death rates - general birth rate                                        0.091355\n",
              "Population  - total (65 and older)                                                0.091309\n",
              "Population  - not german                                                          0.090175\n",
              "Private households by children - with child/children 1                            0.086586\n",
              "Migration rates by nationality - Internal migration (german)                      0.084064\n",
              "Migration rates by nationality - Exterior migration (german)                      0.081456\n",
              "Inner-city migration movements by origin and destination city district 22         0.081039\n",
              "Population ratios  - High aged                                                    0.080370\n",
              "Inner-city migration movements by origin and destination city district 3          0.078244\n",
              "Population  - Religion (jewish)                                                   0.072706\n",
              "Population  - Divorced                                                            0.066980\n",
              "Population  - Religion (Roman Catholic)                                           0.065463\n",
              "Area in ha                                                                        0.062094\n",
              "Population  - Religion (others)                                                   0.058376\n",
              "Migration rates by nationality - overall migration (german)                       0.051676\n",
              "Name: purchasing price [in €], dtype: float64"
            ]
          },
          "metadata": {},
          "execution_count": 22
        }
      ]
    },
    {
      "cell_type": "markdown",
      "source": [
        "# ML-Coding"
      ],
      "metadata": {
        "id": "t4cRzGuKJuGw"
      }
    },
    {
      "cell_type": "code",
      "source": [
        "\n",
        "\n",
        "!pip3 install scikit-learn==1.0.0\n",
        "\n"
      ],
      "metadata": {
        "colab": {
          "base_uri": "https://localhost:8080/"
        },
        "id": "nTtXPDrYJroF",
        "outputId": "6d67da39-12b7-4347-e785-b6e7829aa4ff"
      },
      "execution_count": 23,
      "outputs": [
        {
          "output_type": "stream",
          "name": "stdout",
          "text": [
            "Requirement already satisfied: scikit-learn==1.0.0 in /usr/local/lib/python3.7/dist-packages (1.0)\n",
            "Requirement already satisfied: joblib>=0.11 in /usr/local/lib/python3.7/dist-packages (from scikit-learn==1.0.0) (1.1.0)\n",
            "Requirement already satisfied: threadpoolctl>=2.0.0 in /usr/local/lib/python3.7/dist-packages (from scikit-learn==1.0.0) (3.1.0)\n",
            "Requirement already satisfied: numpy>=1.14.6 in /usr/local/lib/python3.7/dist-packages (from scikit-learn==1.0.0) (1.21.6)\n",
            "Requirement already satisfied: scipy>=1.1.0 in /usr/local/lib/python3.7/dist-packages (from scikit-learn==1.0.0) (1.4.1)\n"
          ]
        }
      ]
    },
    {
      "cell_type": "code",
      "source": [
        "import os # u.a. zur Entwicklugn plattformübergreifender Systempfade\n",
        "import pandas as pd # Datenmanagement\n",
        "import numpy as np # Hilfsfunktionen für mathematische Operationen\n",
        "\n",
        "# Datenvisualisierung\n",
        "import seaborn as sns \n",
        "%matplotlib inline\n",
        "import matplotlib.pyplot as plt\n",
        "from pandas.plotting import scatter_matrix\n",
        "\n",
        "from sklearn.model_selection import StratifiedShuffleSplit, train_test_split # Datensplits\n",
        "from sklearn.linear_model import LinearRegression # Machine Learning\n",
        "from sklearn import metrics # Modellevaluierung\n",
        "\n",
        "## eigene Funktionen\n",
        "##def filter_df_by_proximity(df, proximity):\n",
        "##    return df.loc[df[\"ocean_proximity\"] == proximity]\n",
        "\n",
        "##def engineer_features(df):\n",
        "##    df[\"ratio_bedrooms\"] = df[\"total_bedrooms\"] / df[\"total_rooms\"]\n",
        "##    df[\"people_per_household\"] = df[\"population\"] / df[\"households\"]\n",
        "##    return df\n",
        "\n",
        "##def get_features_and_targets(df):\n",
        "##    X = df.drop([\"median_house_value\"], axis=1).values\n",
        "##    y = np.stack(df[\"median_house_value\"])\n",
        "##    return X, y"
      ],
      "metadata": {
        "id": "fTvrBAF3M84S"
      },
      "execution_count": 24,
      "outputs": []
    },
    {
      "cell_type": "code",
      "source": [
        "#df2 = pd.read_csv('final test python.csv') # Wir lesen die Datei housing.csv ein\n",
        "\n",
        "#del df2['scraped location']\n",
        "\n",
        "#del df2['City district']\n",
        "#del df2['Indikatoren 2021.city district']\n"
      ],
      "metadata": {
        "id": "KRhK9yOKr-D-"
      },
      "execution_count": 25,
      "outputs": []
    },
    {
      "cell_type": "code",
      "source": [
        "import os\n",
        "import tarfile\n",
        "import urllib.request\n",
        "\n",
        "#df2 = pd.read_csv('final test python.csv') # Wir lesen die Datei housing.csv ein\n",
        "df1=df\n",
        "\n",
        "df2= df1.drop(['scraped location','city district','geo_location']  , 1)\n",
        "\n",
        "\n",
        "\n",
        "df2 = df2.dropna() # löscht alle Zeile mit fehlenden Attributen\n",
        "df2 = df2.reset_index(drop=True) # zählt unsere Daten neu durch\n",
        "\n",
        "def get_features_and_targets(df2):\n",
        "    X = df2.drop([\"purchasing price [in €]\"], axis=1).values\n",
        "    y = np.stack(df2[\"purchasing price [in €]\"])\n",
        "    return X, y\n",
        "\n",
        "description = df2.describe()\n",
        "\n",
        "bins = [0] + list(description[\"purchasing price [in €]\"][\n",
        "    [\"25%\", \"50%\", \"75%\"]\n",
        "].astype(int)) + [np.inf]\n",
        "\n",
        "df2[\"house_cat\"] = pd.cut(\n",
        "    df2[\"purchasing price [in €]\"],\n",
        "    bins=bins,\n",
        "    labels=[\"0 - 25%\", \"25 - 50%\", \"50 - 75%\", \"75 - 100%\"]\n",
        ")\n",
        "\n",
        "split = StratifiedShuffleSplit(n_splits=1, test_size=0.1, random_state=0)\n",
        "for train_index, test_index in split.split(df2, df2[\"house_cat\"]):\n",
        "    df2_train = df2.loc[train_index]\n",
        "    df2_test = df2.loc[test_index]\n",
        "    \n",
        "df2_train = df2_train.drop(\"house_cat\", axis=1)\n",
        "df2_test = df2_test.drop(\"house_cat\", axis=1)\n",
        "\n",
        "##df_train = df_train.drop(filter_df_by_proximity(df_train, \"ISLAND\").index)\n",
        "##df_test = df_test.drop(filter_df_by_proximity(df_test, \"ISLAND\").index)\n",
        "\n",
        "##df_train = engineer_features(df_train)\n",
        "##df_test = engineer_features(df_test)\n",
        "\n",
        "df2_train_ml = pd.get_dummies(df2_train) # One-Hot Encoding\n",
        "df2_test_ml = pd.get_dummies(df2_test)\n",
        "\n",
        "X_train, y_train = get_features_and_targets(df2_train_ml)\n",
        "X_test, y_test = get_features_and_targets(df2_test_ml)\n",
        "\n",
        "\n",
        "\n",
        "\n",
        "clf = LinearRegression()\n",
        "clf.fit(X_train, y_train)"
      ],
      "metadata": {
        "colab": {
          "base_uri": "https://localhost:8080/"
        },
        "id": "XPr0mnOVN1s4",
        "outputId": "b32aae83-dca6-49ab-f545-221a5e3d9111"
      },
      "execution_count": 26,
      "outputs": [
        {
          "output_type": "stream",
          "name": "stderr",
          "text": [
            "/usr/local/lib/python3.7/dist-packages/ipykernel_launcher.py:8: FutureWarning: In a future version of pandas all arguments of DataFrame.drop except for the argument 'labels' will be keyword-only\n",
            "  \n"
          ]
        },
        {
          "output_type": "execute_result",
          "data": {
            "text/plain": [
              "LinearRegression()"
            ]
          },
          "metadata": {},
          "execution_count": 26
        }
      ]
    },
    {
      "cell_type": "code",
      "source": [
        "\n",
        "\n",
        "predictions = clf.predict(X_test)\n",
        "\n"
      ],
      "metadata": {
        "id": "iGJHgoM2u6Sr"
      },
      "execution_count": 27,
      "outputs": []
    },
    {
      "cell_type": "code",
      "source": [
        "print(\"Prediction\\t|True Value\")\n",
        "print(\"-\"*30)\n",
        "for idx, (pred, annotation) in enumerate(zip(predictions, y_test)):\n",
        "    if idx == 25:\n",
        "        break\n",
        "    pred = int(pred)\n",
        "    annotation = int(annotation)\n",
        "    print(f\"{pred}\\t\\t|{annotation}\")"
      ],
      "metadata": {
        "colab": {
          "base_uri": "https://localhost:8080/"
        },
        "id": "oHlMEKT1u8ef",
        "outputId": "9c81f304-eafc-4325-9ba6-04724885244e"
      },
      "execution_count": 28,
      "outputs": [
        {
          "output_type": "stream",
          "name": "stdout",
          "text": [
            "Prediction\t|True Value\n",
            "------------------------------\n",
            "1512\t\t|1471\n",
            "2137\t\t|2500\n",
            "1579\t\t|1585\n",
            "1300\t\t|1540\n",
            "1729\t\t|1283\n",
            "1737\t\t|2100\n",
            "758\t\t|570\n",
            "2480\t\t|3100\n",
            "1214\t\t|1130\n",
            "2577\t\t|2730\n",
            "1169\t\t|1250\n",
            "682\t\t|760\n",
            "1368\t\t|2160\n",
            "1072\t\t|1080\n",
            "2376\t\t|1992\n",
            "2177\t\t|2800\n",
            "1521\t\t|1900\n",
            "2020\t\t|2195\n",
            "490\t\t|1120\n",
            "1521\t\t|1680\n",
            "2756\t\t|2900\n",
            "528\t\t|792\n",
            "2635\t\t|4805\n",
            "1645\t\t|1600\n",
            "473\t\t|325\n"
          ]
        }
      ]
    },
    {
      "cell_type": "code",
      "source": [
        "mae = metrics.mean_absolute_error(y_test, predictions)\n",
        "mae_ratio = metrics.mean_absolute_percentage_error(y_test, predictions)\n",
        "r2_score = metrics.r2_score(y_test, predictions)\n"
      ],
      "metadata": {
        "id": "-aov9rEQwdNO"
      },
      "execution_count": 29,
      "outputs": []
    },
    {
      "cell_type": "code",
      "source": [
        "\n",
        "\n",
        "print(f\"Wir können durchschnittlich mit einem Fehler von {np.round(mae)} rechnen;\")\n",
        "print(f\"Das entspricht im Schnitt einer Fehlerquote von {np.round(mae_ratio * 100)}%;\")\n",
        "print(f\"Der R^2 Werte liegt bei {np.round(r2_score * 100)}%\")\n"
      ],
      "metadata": {
        "colab": {
          "base_uri": "https://localhost:8080/"
        },
        "id": "Jtc2jw4xwgjy",
        "outputId": "fb80ea79-fd73-4994-d2fe-528050448032"
      },
      "execution_count": 30,
      "outputs": [
        {
          "output_type": "stream",
          "name": "stdout",
          "text": [
            "Wir können durchschnittlich mit einem Fehler von 289.0 rechnen;\n",
            "Das entspricht im Schnitt einer Fehlerquote von 20.0%;\n",
            "Der R^2 Werte liegt bei 76.0%\n"
          ]
        }
      ]
    },
    {
      "cell_type": "code",
      "source": [
        "\n",
        "\n",
        "df2_test.iloc[0]\n",
        "\n"
      ],
      "metadata": {
        "colab": {
          "base_uri": "https://localhost:8080/"
        },
        "id": "4dkpB8H1zbTb",
        "outputId": "27ce2807-5814-4d6d-ba88-d18a53ba2562"
      },
      "execution_count": 31,
      "outputs": [
        {
          "output_type": "execute_result",
          "data": {
            "text/plain": [
              "purchasing price [in €]                                                  1471\n",
              "number of rooms                                                             2\n",
              "square metre                                                             56.6\n",
              "crime rate                                                               0.04\n",
              "Population  - total                                                 62,315.00\n",
              "                                                                      ...    \n",
              "Migration rates by nationality - Internal migration (not german)        -18.3\n",
              "Migration rates by nationality - Exterior migration (german)            -12.6\n",
              "Migration rates by nationality - Exterior migration (not german)         30.0\n",
              "Migration rates by nationality - overall migration (german)             -12.9\n",
              "Migration rates by nationality - overall migration (not german)          11.7\n",
              "Name: 1097, Length: 114, dtype: object"
            ]
          },
          "metadata": {},
          "execution_count": 31
        }
      ]
    },
    {
      "cell_type": "code",
      "source": [
        ""
      ],
      "metadata": {
        "colab": {
          "base_uri": "https://localhost:8080/"
        },
        "id": "gxZp8FqSzjka",
        "outputId": "6e07ab3b-c4d2-45f6-d5db-56f534449455"
      },
      "execution_count": 32,
      "outputs": [
        {
          "output_type": "execute_result",
          "data": {
            "text/plain": [
              "array([2.00e+00, 5.66e+01, 4.00e-02, ..., 0.00e+00, 0.00e+00, 0.00e+00])"
            ]
          },
          "metadata": {},
          "execution_count": 32
        }
      ]
    },
    {
      "cell_type": "code",
      "source": [
        "\n",
        "\n",
        "single_pred = clf.predict([X_test[0]])[0]\n",
        "print(f\"Die Prognose liegt bei {single_pred}.\")\n",
        "print(f\"Der Realwert war {y_test[0]}.\")\n",
        "\n"
      ],
      "metadata": {
        "colab": {
          "base_uri": "https://localhost:8080/"
        },
        "id": "GSP7w82qzuUN",
        "outputId": "674f7360-7a2d-4140-e4e6-2baedd0fe428"
      },
      "execution_count": 33,
      "outputs": [
        {
          "output_type": "stream",
          "name": "stdout",
          "text": [
            "Die Prognose liegt bei 1512.7236328125.\n",
            "Der Realwert war 1471.\n"
          ]
        }
      ]
    }
  ]
}