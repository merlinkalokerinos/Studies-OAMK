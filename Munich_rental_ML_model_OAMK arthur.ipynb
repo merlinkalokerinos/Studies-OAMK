{
  "nbformat": 4,
  "nbformat_minor": 0,
  "metadata": {
    "colab": {
      "name": "Munich rental ML model - OAMK.ipynb",
      "provenance": [],
      "collapsed_sections": [
        "BEEKsXAssk5X",
        "uDJ7t6hysh2_"
      ],
      "private_outputs": true,
      "include_colab_link": true
    },
    "kernelspec": {
      "name": "python3",
      "display_name": "Python 3"
    },
    "language_info": {
      "name": "python"
    }
  },
  "cells": [
    {
      "cell_type": "markdown",
      "metadata": {
        "id": "view-in-github",
        "colab_type": "text"
      },
      "source": [
        "<a href=\"https://colab.research.google.com/github/merlinkalokerinos/Studies-OAMK/blob/main/Munich_rental_ML_model_OAMK%20arthur.ipynb\" target=\"_parent\"><img src=\"https://colab.research.google.com/assets/colab-badge.svg\" alt=\"Open In Colab\"/></a>"
      ]
    },
    {
      "cell_type": "markdown",
      "source": [
        "# Initialisation"
      ],
      "metadata": {
        "id": "BEEKsXAssk5X"
      }
    },
    {
      "cell_type": "code",
      "source": [
        "# \n",
        "from google.colab import drive\n",
        "drive.mount('/content/drive')"
      ],
      "metadata": {
        "id": "I74h9rzBjEow"
      },
      "execution_count": null,
      "outputs": []
    },
    {
      "cell_type": "code",
      "source": [
        "# !google-drive-ocamlfuse -cc"
      ],
      "metadata": {
        "id": "cAq1FYeDCN5Z"
      },
      "execution_count": null,
      "outputs": []
    },
    {
      "cell_type": "code",
      "source": [
        "# !pip install scikit-learn"
      ],
      "metadata": {
        "id": "PhnwxXc06F8e"
      },
      "execution_count": null,
      "outputs": []
    },
    {
      "cell_type": "code",
      "source": [
        "# !pip install lightgbm"
      ],
      "metadata": {
        "id": "cz6JhaGsnMGy"
      },
      "execution_count": null,
      "outputs": []
    },
    {
      "cell_type": "code",
      "source": [
        "import os \n",
        "import yaml \n",
        "import pandas as pd\n",
        "import numpy as np \n",
        "\n",
        "import seaborn as sns \n",
        "import matplotlib.pyplot as plt\n",
        "%matplotlib inline\n",
        "\n",
        "from pandas.plotting import scatter_matrix\n",
        "\n",
        "# ML imports\n",
        "from sklearn.model_selection import StratifiedShuffleSplit, train_test_split\n",
        "from sklearn.linear_model import LinearRegression # Machine Learning\n",
        "from sklearn import metrics # Evaluation\n",
        "from sklearn.model_selection import train_test_split\n",
        "from sklearn import*\n",
        "\n",
        "import tarfile\n",
        "import urllib.request\n",
        "\n",
        "import lightgbm as lgb"
      ],
      "metadata": {
        "id": "DGxC7jOjm5UO"
      },
      "execution_count": null,
      "outputs": []
    },
    {
      "cell_type": "markdown",
      "source": [
        "# Data transformation"
      ],
      "metadata": {
        "id": "uDJ7t6hysh2_"
      }
    },
    {
      "cell_type": "code",
      "execution_count": null,
      "metadata": {
        "id": "oVz7pUynDDeh"
      },
      "outputs": [],
      "source": [
        "df01 = pd.read_csv('/content/drive/Othercomputers/My computer/Documents/HNU/OAMK/Lectures OAMK/Data Analysis Case Study/final test.csv')\n",
        "df02=pd.read_csv('/content/drive/Othercomputers/My computer/Documents/HNU/OAMK/Lectures OAMK/Data Analysis Case Study/data per district/Indikatoren München Gesamt.csv')\n",
        "\n",
        "df01.head(20)"
      ]
    },
    {
      "cell_type": "code",
      "source": [
        "df02.head(5)"
      ],
      "metadata": {
        "id": "6VvTn0bwP1wx"
      },
      "execution_count": null,
      "outputs": []
    },
    {
      "cell_type": "code",
      "source": [
        "# convert room column to int \n",
        "df01[\"rooms\"] = df01[\"rooms\"].astype(int)"
      ],
      "metadata": {
        "id": "J037lzPPPsHB"
      },
      "execution_count": null,
      "outputs": []
    },
    {
      "cell_type": "code",
      "source": [
        "# add price per square and round to two decimals\n",
        "# df01[\"price per square\"] = df01[\"price\"]/df01[\"square metres\"]\n",
        "df01 = df01.round({'price per square': 2})"
      ],
      "metadata": {
        "id": "riuKLhMVV8_O"
      },
      "execution_count": null,
      "outputs": []
    },
    {
      "cell_type": "code",
      "source": [
        "# merge apartment data with demographic data\n",
        "df=pd.merge(df01,df02, left_on=['city district'], right_on= ['city district'])\n",
        "df.head()"
      ],
      "metadata": {
        "id": "sxlPYF2pKFk4"
      },
      "execution_count": null,
      "outputs": []
    },
    {
      "cell_type": "code",
      "source": [
        "# lets count data sets by district\n",
        "df.groupby('district name')['district name'].count().head(25)"
      ],
      "metadata": {
        "id": "2vD0D0vLda5e"
      },
      "execution_count": null,
      "outputs": []
    },
    {
      "cell_type": "markdown",
      "source": [
        "Filter"
      ],
      "metadata": {
        "id": "87DyxqRTVtwX"
      }
    },
    {
      "cell_type": "code",
      "source": [
        "# calculate missing attributes\n",
        "num_missing = len(df) - len(df.dropna())\n",
        "ratio_missing = num_missing / len(df) \n",
        "\n",
        "# convert and print ratios\n",
        "ratio_missing = np.round(ratio_missing * 100, 3) \n",
        "print(f\"{ratio_missing}% of data ({num_missing} data points) have missing values!\")"
      ],
      "metadata": {
        "id": "fGqvlRfWmTKj"
      },
      "execution_count": null,
      "outputs": []
    },
    {
      "cell_type": "code",
      "source": [
        "df.loc[df.isnull().sum(axis=1) == 1] # show missing values, if any are left"
      ],
      "metadata": {
        "id": "E-DJh7NJnDwo"
      },
      "execution_count": null,
      "outputs": []
    },
    {
      "cell_type": "code",
      "source": [
        "df.isnull().sum(axis=0) # count missing values per column, if any are left"
      ],
      "metadata": {
        "id": "3V-QtnlinO5T"
      },
      "execution_count": null,
      "outputs": []
    },
    {
      "cell_type": "markdown",
      "source": [
        "# Peek into our data"
      ],
      "metadata": {
        "id": "YeAfxAGqaIOX"
      }
    },
    {
      "cell_type": "code",
      "source": [
        "pd.set_option('display.max_rows', 30)\n",
        "print(df.groupby('district name')['price per square'].mean().sort_values(ascending=False))"
      ],
      "metadata": {
        "id": "QedfXhMf8haF"
      },
      "execution_count": null,
      "outputs": []
    },
    {
      "cell_type": "code",
      "source": [
        "# lets collect the price per square values\n",
        "derived_df = df['price per square']\n",
        "print(derived_df, \"\\n\")"
      ],
      "metadata": {
        "id": "rsyYUQM3x8hu"
      },
      "execution_count": null,
      "outputs": []
    },
    {
      "cell_type": "code",
      "source": [
        "df = df.dropna() # drop N/A sets, if any (just in case)\n",
        "df = df.reset_index(drop=True) # re-index our data"
      ],
      "metadata": {
        "id": "5z0zrXAynS0V"
      },
      "execution_count": null,
      "outputs": []
    },
    {
      "cell_type": "code",
      "source": [
        "# lets look at the distribution\n",
        "sns.displot(data=df, x=\"price per square\", kde=True);"
      ],
      "metadata": {
        "id": "0B49aZ3HnYoZ"
      },
      "execution_count": null,
      "outputs": []
    },
    {
      "cell_type": "code",
      "source": [
        "# display option for whole url / reset to default (50 characters)\n",
        "# pd.set_option('display.max_colwidth', None)\n",
        "pd.set_option('display.max_colwidth', 50)\n",
        "\n",
        "# view by price, descending\n",
        "df01.sort_values(by='price', ascending=True)"
      ],
      "metadata": {
        "id": "7Nz6Anrwac96"
      },
      "execution_count": null,
      "outputs": []
    },
    {
      "cell_type": "markdown",
      "source": [
        "=> seems like those are hotel rooms rentable per month, this will drastically increase our average price per square meter, since those have up to ten times the average price"
      ],
      "metadata": {
        "id": "C04NqnjxqpO_"
      }
    },
    {
      "cell_type": "code",
      "source": [
        "# lets get an overview of table values and check the average price per square\n",
        "# the average rent price in Germany is around 10€ per square meter\n",
        "# the average rent price in Munich has surpased 20€ per square meter according to engel & völkers\n",
        "description = df.describe()\n",
        "description"
      ],
      "metadata": {
        "id": "7C2lHcuBoOcD"
      },
      "execution_count": null,
      "outputs": []
    },
    {
      "cell_type": "markdown",
      "source": [
        "=> the average price, as expected, is at around 25€ for our data set, which is high compared to the average suggested by engel & völkers\n",
        "\n",
        "I SUGGEST DELETION OF ALL ENTRIES THAT DEVIATE FROM THE MEAN BY MORE THAN DOUBLE THE AVERAGE PRICE, ALSO SOME VERY EXPENSIVE APPARTMENTS ARE OUTLIERS, AS WELL AS SOME CHEAP ONES, THAT ARE UP FOR \"TRADE\", WE SET A LOWER AND UPPER BOUNDARY TO INCREASE DATA QUALITY AND RELIABILIY OF OUR MODEL"
      ],
      "metadata": {
        "id": "V8H7eK3MtAGX"
      }
    },
    {
      "cell_type": "code",
      "source": [
        "# filter for appartments with very high price or price per square metre\n",
        "filtered_df = df.query('`price per square` >= 50 | price >= 5000 | price <= 400')\n",
        "print(filtered_df.count())"
      ],
      "metadata": {
        "id": "eFDS_jh5PhAU"
      },
      "execution_count": null,
      "outputs": []
    },
    {
      "cell_type": "code",
      "source": [
        "# drop the filtered rows, reindex and build new description table for bins\n",
        "df = df.drop(filtered_df.index.values)\n",
        "df = df.reset_index(drop=True) # re-index our data\n",
        "description = df.describe()\n",
        "description"
      ],
      "metadata": {
        "id": "-9sWyjf9RWNR"
      },
      "execution_count": null,
      "outputs": []
    },
    {
      "cell_type": "code",
      "source": [
        "avgkaufpreis = df[\"price per square\"].mean()\n",
        "print(avgkaufpreis)"
      ],
      "metadata": {
        "id": "nqCta3JDsdTy"
      },
      "execution_count": null,
      "outputs": []
    },
    {
      "cell_type": "code",
      "source": [
        "sns.displot(data=df, x=\"price per square\", kde=True);"
      ],
      "metadata": {
        "id": "Z7cFyjDfx0m7"
      },
      "execution_count": null,
      "outputs": []
    },
    {
      "cell_type": "code",
      "source": [
        "sns.displot(data=df, x=\"price\", kde=True);"
      ],
      "metadata": {
        "id": "ostGg0kZyrmB"
      },
      "execution_count": null,
      "outputs": []
    },
    {
      "cell_type": "code",
      "source": [
        "# display option for whole url / reset to default (50 characters)\n",
        "pd.set_option('display.max_colwidth', None)\n",
        "# pd.set_option('display.max_colwidth', 50)\n",
        "\n",
        "# view by price, descending\n",
        "df.sort_values(by='price', ascending=True)"
      ],
      "metadata": {
        "id": "0UQT0RFJx7Uv"
      },
      "execution_count": null,
      "outputs": []
    },
    {
      "cell_type": "markdown",
      "source": [
        "# Prepare testing data"
      ],
      "metadata": {
        "id": "zTSipP2yu2mr"
      }
    },
    {
      "cell_type": "code",
      "source": [
        "# Define four equal sets\n",
        "\n",
        "bins = [0] + list(description[\"price per square\"][\n",
        "    [\"25%\", \"50%\", \"75%\", \"max\"]\n",
        "].astype(float))\n",
        "print(bins) # "
      ],
      "metadata": {
        "id": "APpz1_bQoYbc"
      },
      "execution_count": null,
      "outputs": []
    },
    {
      "cell_type": "code",
      "source": [
        "# Categorize data according to their bin\n",
        "\n",
        "df[\"house_cat\"] = pd.cut(\n",
        "    df[\"price per square\"],\n",
        "    bins=bins,\n",
        "    labels=[\"0 - 25%\", \"25 - 50%\", \"50 - 75%\", \"75 - 100%\"]\n",
        ")\n",
        "\n"
      ],
      "metadata": {
        "id": "rzgoKxM7u83W"
      },
      "execution_count": null,
      "outputs": []
    },
    {
      "cell_type": "code",
      "source": [
        "# lets visualize the bins\n",
        "sns.countplot(data=df, x=\"house_cat\");"
      ],
      "metadata": {
        "id": "umvNSGsmvFt4"
      },
      "execution_count": null,
      "outputs": []
    },
    {
      "cell_type": "code",
      "source": [
        "# compare the numbers\n",
        "print(df.groupby(\"house_cat\")[\"house_cat\"].count())"
      ],
      "metadata": {
        "id": "dmojOS4W3Heh"
      },
      "execution_count": null,
      "outputs": []
    },
    {
      "cell_type": "code",
      "source": [
        "# defining train and test sets\n",
        "split = StratifiedShuffleSplit(n_splits=1, test_size=0.1, random_state=69)\n",
        "for train_index, test_index in split.split(df, df[\"house_cat\"]):\n",
        "    df_train = df.loc[train_index]\n",
        "    df_test = df.loc[test_index]"
      ],
      "metadata": {
        "id": "v-8OYAaUvmia"
      },
      "execution_count": null,
      "outputs": []
    },
    {
      "cell_type": "code",
      "source": [
        "# visualize train bins\n",
        "sns.countplot(data=df_train, x=\"house_cat\");"
      ],
      "metadata": {
        "id": "g-xn_nvqv4Mu"
      },
      "execution_count": null,
      "outputs": []
    },
    {
      "cell_type": "code",
      "source": [
        "# visualize test bins\n",
        "sns.countplot(data=df_test, x=\"house_cat\");"
      ],
      "metadata": {
        "id": "HHA_Qw5Kv79-"
      },
      "execution_count": null,
      "outputs": []
    },
    {
      "cell_type": "code",
      "source": [
        "# drop the category from the data frame\n",
        "train = df_train.drop(\"house_cat\", axis=1)\n",
        "test = df_test.drop(\"house_cat\", axis=1)"
      ],
      "metadata": {
        "id": "moRcAOHvwNiB"
      },
      "execution_count": null,
      "outputs": []
    },
    {
      "cell_type": "markdown",
      "source": [
        "\n",
        "\n",
        "# Correlation calculation"
      ],
      "metadata": {
        "id": "yJftERO00Jyt"
      }
    },
    {
      "cell_type": "code",
      "source": [
        "train.corr()[\"price per square\"].abs().sort_values(ascending=False)"
      ],
      "metadata": {
        "id": "YO6RoHPHwgKI"
      },
      "execution_count": null,
      "outputs": []
    },
    {
      "cell_type": "code",
      "source": [
        "def engineer_features(df):\n",
        "    df[\"ratio_rooms\"] = df[\"square metres\"] / df[\"rooms\"]\n",
        "    return df"
      ],
      "metadata": {
        "id": "rlMlH28v2Ia6"
      },
      "execution_count": null,
      "outputs": []
    },
    {
      "cell_type": "code",
      "source": [
        "train = engineer_features(train)\n",
        "test = engineer_features(test)"
      ],
      "metadata": {
        "id": "tTyvBzlI2uih"
      },
      "execution_count": null,
      "outputs": []
    },
    {
      "cell_type": "code",
      "source": [
        "\n",
        "dfcorr = train.corr()[\"price per square\"].abs().sort_values(ascending=False)\n",
        "#dfcorr.head(50)\n",
        "pd.set_option('display.max_rows', 158)\n",
        "dfcorr.head(15)"
      ],
      "metadata": {
        "id": "lsxCn4TV2kLH"
      },
      "execution_count": null,
      "outputs": []
    },
    {
      "cell_type": "markdown",
      "source": [
        "# ML-Coding | Linear regression"
      ],
      "metadata": {
        "id": "t4cRzGuKJuGw"
      }
    },
    {
      "cell_type": "code",
      "source": [
        "\n",
        "df1=df\n",
        "\n",
        "# drop unnecessary values\n",
        "df2= df1.drop(['url', 'scraped location','city district','geo location','district name','price'], 1)\n",
        "\n",
        "df2 = df2.dropna() # delete N/A values, if any are left\n",
        "# df2 = df2.reset_index(drop=True) # re-index\n",
        "\n",
        "def get_features_and_targets(df2):\n",
        "    x = df2.drop([\"price per square\"], axis=1).values\n",
        "    y = np.stack(df2[\"price per square\"])\n",
        "    return x, y\n",
        "\n",
        "description = df2.describe()\n",
        "\n",
        "bins = [0] + list(description[\"price per square\"][\n",
        "    [\"25%\", \"50%\", \"75%\",\"max\"]\n",
        "].astype(float))\n",
        "\n",
        "df2[\"house_cat\"] = pd.cut(\n",
        "    df2[\"price per square\"],\n",
        "    bins=bins,\n",
        "    labels=[\"0 - 25%\", \"25 - 50%\", \"50 - 75%\", \"75 - 100%\"]\n",
        ")\n",
        "\n",
        "split = StratifiedShuffleSplit(n_splits=1, test_size=0.2, random_state=69)\n",
        "for train_index, test_index in split.split(df2, df2[\"house_cat\"]):\n",
        "    df2_train = df2.loc[train_index]\n",
        "    df2_test = df2.loc[test_index]\n",
        "    \n",
        "df2_train = df2_train.drop(\"house_cat\", axis=1)\n",
        "df2_test = df2_test.drop(\"house_cat\", axis=1)\n",
        "\n",
        "# convert categories to indicator variables\n",
        "df2_train_ml = pd.get_dummies(df2_train) # One-Hot Encoding\n",
        "df2_test_ml = pd.get_dummies(df2_test)\n",
        "\n",
        "x_train, y_train = get_features_and_targets(df2_train_ml)\n",
        "x_test, y_test = get_features_and_targets(df2_test_ml)\n",
        "\n",
        "clf = LinearRegression()\n",
        "clf.fit(x_train, y_train)\n"
      ],
      "metadata": {
        "id": "XPr0mnOVN1s4"
      },
      "execution_count": null,
      "outputs": []
    },
    {
      "cell_type": "code",
      "source": [
        "'''\n",
        "# drop unnecessary values\n",
        "df2= df1.drop(['url', 'scraped location','city district','geo location','district name','price'], 1)\n",
        "\n",
        "target = df2[\"price per square\"]\n",
        "features = df2.drop(\"price per square\",axis=1)\n",
        "\n",
        "# train and test split\n",
        "x_train, x_test, y_train, y_test = train_test_split(features,target,test_size=.1,random_state=69)\n",
        "'''"
      ],
      "metadata": {
        "id": "4WaNFzWkIC4v"
      },
      "execution_count": null,
      "outputs": []
    },
    {
      "cell_type": "code",
      "source": [
        "'''\n",
        "# convert categories to indicator variables\n",
        "x_train = pd.get_dummies(x_train) # One-Hot Encoding\n",
        "x_test = pd.get_dummies(x_test)\n",
        "\n",
        "x_train['district code'] = pd.Series(x_train['district code'], dtype='category')\n",
        "x_test['district code'] = pd.Series(x_test['district code'], dtype='category')\n",
        "'''"
      ],
      "metadata": {
        "id": "ovpA599MvILb"
      },
      "execution_count": null,
      "outputs": []
    },
    {
      "cell_type": "code",
      "source": [
        "predictions = clf.predict(x_test)"
      ],
      "metadata": {
        "id": "iGJHgoM2u6Sr"
      },
      "execution_count": null,
      "outputs": []
    },
    {
      "cell_type": "code",
      "source": [
        "print(\"Prediction\\t|True Value\")\n",
        "print(\"-\"*30)\n",
        "for idx, (pred, annotation) in enumerate(zip(predictions, y_test)):\n",
        "    if idx == 25:\n",
        "        break\n",
        "    pred = round(float(pred),2)\n",
        "    annotation = float(annotation)\n",
        "    print(f\"{pred}\\t\\t|\"+f\"{annotation}\")"
      ],
      "metadata": {
        "id": "oHlMEKT1u8ef"
      },
      "execution_count": null,
      "outputs": []
    },
    {
      "cell_type": "code",
      "source": [
        "mae = metrics.mean_absolute_error(y_test, predictions)\n",
        "mae_ratio = metrics.mean_absolute_percentage_error(y_test, predictions)\n",
        "r2_score = metrics.r2_score(y_test, predictions)"
      ],
      "metadata": {
        "id": "-aov9rEQwdNO"
      },
      "execution_count": null,
      "outputs": []
    },
    {
      "cell_type": "code",
      "source": [
        "print(f\"Average deviation is {np.round(mae)};\")\n",
        "print(f\"Failure quota is {np.round(mae_ratio * 100)}%;\")\n",
        "print(f\"Coefficient of determination (R^2) is {np.round(r2_score * 100)}%\")"
      ],
      "metadata": {
        "id": "Jtc2jw4xwgjy"
      },
      "execution_count": null,
      "outputs": []
    },
    {
      "cell_type": "code",
      "source": [
        "df2_test.iloc[0]"
      ],
      "metadata": {
        "id": "4dkpB8H1zbTb"
      },
      "execution_count": null,
      "outputs": []
    },
    {
      "cell_type": "code",
      "source": [
        "for x in range(10):\n",
        "  single_pred = clf.predict([x_test[x]])[0]\n",
        "  print(f\"Predicted price per square is \" + str(round(single_pred,2)) + \".\")\n",
        "  print(f\"Real value is {y_test[x]}.\")\n",
        "  print(\" \")"
      ],
      "metadata": {
        "id": "GSP7w82qzuUN"
      },
      "execution_count": null,
      "outputs": []
    },
    {
      "cell_type": "code",
      "source": [
        "print('Training accuracy {:.4f}'.format(clf.score(x_train,y_train)))\n",
        "print('Testing accuracy {:.4f}'.format(clf.score(x_test,y_test)))"
      ],
      "metadata": {
        "id": "1FmXmr9z7Ern"
      },
      "execution_count": null,
      "outputs": []
    },
    {
      "cell_type": "code",
      "source": [
        "# visualizing in a plot\n",
        "x_ax = range(len(y_test))\n",
        "plt.figure(figsize=(12, 6))\n",
        "plt.plot(x_ax, y_test, label=\"original\")\n",
        "plt.plot(x_ax, predictions, label=\"predicted\")\n",
        "plt.title(\"\")\n",
        "plt.xlabel('X')\n",
        "plt.ylabel('Price')\n",
        "plt.legend(loc='best',fancybox=True, shadow=True)\n",
        "plt.grid(True)\n",
        "plt.show() "
      ],
      "metadata": {
        "id": "5uPx4Sr17pi6"
      },
      "execution_count": null,
      "outputs": []
    },
    {
      "cell_type": "markdown",
      "source": [
        "# ML Coding | Light GBM"
      ],
      "metadata": {
        "id": "yBPBV9w3_V5G"
      }
    },
    {
      "cell_type": "code",
      "source": [
        "# display option for whole url / reset to default (50 characters)\n",
        "pd.set_option('display.max_colwidth', None)\n",
        "# pd.set_option('display.max_colwidth', 50)\n",
        "\n",
        "# define testing and target\n",
        "df2.head(20)\n",
        "target = df2[\"price per square\"]\n",
        "features = df2.drop(['price per square','house_cat'],axis=1)\n",
        "\n",
        "# train and test split\n",
        "x_train, x_test, y_train, y_test = train_test_split(features,target,test_size=.1,random_state=69)\n",
        "\n",
        "features.dtypes.head(200)"
      ],
      "metadata": {
        "id": "RLXkZG5RAhL-"
      },
      "execution_count": null,
      "outputs": []
    },
    {
      "cell_type": "code",
      "source": [
        "# convert categories to indicator variables\n",
        "x_train = pd.get_dummies(x_train) # One-Hot Encoding\n",
        "x_test = pd.get_dummies(x_test)\n",
        "\n",
        "x_train['district code'] = pd.Series(x_train['district code'], dtype='category')\n",
        "x_test['district code'] = pd.Series(x_test['district code'], dtype='category')\n"
      ],
      "metadata": {
        "id": "h6zL4r8539Aw"
      },
      "execution_count": null,
      "outputs": []
    },
    {
      "cell_type": "code",
      "source": [
        "# fitting model\n",
        "model = lgb.LGBMRegressor(learning_rate=0.15,max_depth=-5,random_state=69,boosting_type='gbdt',num_leaves=128, objective='regression')\n",
        "result= model.fit(x_train,y_train,eval_set=[(x_test,y_test),(x_train,y_train)],verbose=20,eval_metric='logloss')"
      ],
      "metadata": {
        "id": "a41nKJiA1DhW"
      },
      "execution_count": null,
      "outputs": []
    },
    {
      "cell_type": "code",
      "source": [
        "print('Training accuracy {:.4f}'.format(model.score(x_train,y_train)))\n",
        "print('Testing accuracy {:.4f}'.format(model.score(x_test,y_test)))"
      ],
      "metadata": {
        "id": "RsSHa_G-5En9"
      },
      "execution_count": null,
      "outputs": []
    },
    {
      "cell_type": "code",
      "source": [
        "# prediction\n",
        "y_pred = model.predict(x_test)\n"
      ],
      "metadata": {
        "id": "ggMAc6upF1tR"
      },
      "execution_count": null,
      "outputs": []
    },
    {
      "cell_type": "code",
      "source": [
        "# visualizing in a plot\n",
        "x_ax = range(len(y_test))\n",
        "plt.figure(figsize=(12, 6))\n",
        "plt.plot(x_ax, y_test, label=\"original\")\n",
        "plt.plot(x_ax, y_pred, label=\"predicted\")\n",
        "plt.title(\"\")\n",
        "plt.xlabel('X')\n",
        "plt.ylabel('Price')\n",
        "plt.legend(loc='best',fancybox=True, shadow=True)\n",
        "plt.grid(True)\n",
        "plt.show() "
      ],
      "metadata": {
        "id": "xAKyr5vpFnWW"
      },
      "execution_count": null,
      "outputs": []
    },
    {
      "cell_type": "code",
      "source": [
        "lgb.plot_importance(model,max_num_features=15,height=.5)"
      ],
      "metadata": {
        "id": "xvT3nWUG5SB3"
      },
      "execution_count": null,
      "outputs": []
    },
    {
      "cell_type": "code",
      "source": [
        "lgb.plot_metric(model)"
      ],
      "metadata": {
        "id": "v_J0id6G8xqQ"
      },
      "execution_count": null,
      "outputs": []
    },
    {
      "cell_type": "code",
      "source": [
        "lgb.plot_tree(model,figsize=(240,240))"
      ],
      "metadata": {
        "id": "BRrcXJjc80dC"
      },
      "execution_count": null,
      "outputs": []
    },
    {
      "cell_type": "markdown",
      "source": [
        "# ML Coding | Light GBM with less indicators\n"
      ],
      "metadata": {
        "id": "Cizne3aWSgLy"
      }
    },
    {
      "cell_type": "code",
      "source": [
        "df3 = df1[['price per square','square metres','rooms', 'district code']]\n",
        "\n",
        "target = df3[\"price per square\"]\n",
        "features = df3.drop(\"price per square\",axis=1)\n",
        "\n",
        "# train and test split\n",
        "x_train, x_test, y_train, y_test = train_test_split(features,target,test_size=.1,random_state=69)"
      ],
      "metadata": {
        "id": "aIbx1QAOShKC"
      },
      "execution_count": null,
      "outputs": []
    },
    {
      "cell_type": "code",
      "source": [
        "# convert categories to indicator variables\n",
        "x_train = pd.get_dummies(x_train) # One-Hot Encoding\n",
        "x_test = pd.get_dummies(x_test)\n",
        "\n",
        "x_train['district code'] = pd.Series(x_train['district code'], dtype='category')\n",
        "x_test['district code'] = pd.Series(x_test['district code'], dtype='category')"
      ],
      "metadata": {
        "id": "t326zGf6T-FW"
      },
      "execution_count": null,
      "outputs": []
    },
    {
      "cell_type": "code",
      "source": [
        "# fitting model\n",
        "model = lgb.LGBMRegressor(learning_rate=0.15,max_depth=-5,random_state=69,boosting_type='gbdt',num_leaves=256,objective='regression',task='train')\n",
        "result= model.fit(x_train,y_train,eval_set=[(x_test,y_test),(x_train,y_train)],verbose=20,eval_metric='logloss')"
      ],
      "metadata": {
        "id": "QiaBlGniUJJf"
      },
      "execution_count": null,
      "outputs": []
    },
    {
      "cell_type": "code",
      "source": [
        "print('Training accuracy {:.4f}'.format(model.score(x_train,y_train)))\n",
        "print('Testing accuracy {:.4f}'.format(model.score(x_test,y_test)))"
      ],
      "metadata": {
        "id": "OjCf2PHmUNQ7"
      },
      "execution_count": null,
      "outputs": []
    },
    {
      "cell_type": "code",
      "source": [
        "lgb.plot_importance(model,max_num_features=15,height=.5)"
      ],
      "metadata": {
        "id": "ewDItkpmKdjs"
      },
      "execution_count": null,
      "outputs": []
    },
    {
      "cell_type": "code",
      "source": [
        "# prediction\n",
        "y_pred = model.predict(x_test)"
      ],
      "metadata": {
        "id": "vRZq5oyoNTof"
      },
      "execution_count": null,
      "outputs": []
    },
    {
      "cell_type": "code",
      "source": [
        "# visualizing in a plot\n",
        "x_ax = range(len(y_test))\n",
        "plt.figure(figsize=(12, 6))\n",
        "plt.plot(x_ax, y_test, label=\"original\")\n",
        "plt.plot(x_ax, y_pred, label=\"predicted\")\n",
        "plt.title(\"\")\n",
        "plt.xlabel('X')\n",
        "plt.ylabel('Price')\n",
        "plt.legend(loc='best',fancybox=True, shadow=True)\n",
        "plt.grid(True)\n",
        "plt.show() "
      ],
      "metadata": {
        "id": "FqUxkAtmNJuA"
      },
      "execution_count": null,
      "outputs": []
    },
    {
      "cell_type": "code",
      "source": [
        "lgb.plot_metric(model)"
      ],
      "metadata": {
        "id": "6B4LoN1bNe4n"
      },
      "execution_count": null,
      "outputs": []
    },
    {
      "cell_type": "code",
      "source": [
        "mae = metrics.mean_absolute_error(y_test, y_pred)\n",
        "mae_ratio = metrics.mean_absolute_percentage_error(y_test, y_pred)\n",
        "r2_score = metrics.r2_score(y_test, y_pred)"
      ],
      "metadata": {
        "id": "L-ciPB0mz-bz"
      },
      "execution_count": null,
      "outputs": []
    },
    {
      "cell_type": "code",
      "source": [
        "print(f\"Average deviation is {np.round(mae)};\")\n",
        "print(f\"Failure quota is {np.round(mae_ratio * 100)}%;\")\n",
        "print(f\"Coefficient of determination (R^2) is {np.round(r2_score * 100)}%\")"
      ],
      "metadata": {
        "id": "26zOzKSa0DEr"
      },
      "execution_count": null,
      "outputs": []
    }
  ]
}