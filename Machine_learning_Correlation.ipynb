{
  "nbformat": 4,
  "nbformat_minor": 0,
  "metadata": {
    "colab": {
      "name": "Machine learning / Correlation.ipynb",
      "provenance": [],
      "authorship_tag": "ABX9TyOMOaCEaRwnNhZqDNVfuUmn",
      "include_colab_link": true
    },
    "kernelspec": {
      "name": "python3",
      "display_name": "Python 3"
    },
    "language_info": {
      "name": "python"
    }
  },
  "cells": [
    {
      "cell_type": "markdown",
      "metadata": {
        "id": "view-in-github",
        "colab_type": "text"
      },
      "source": [
        "<a href=\"https://colab.research.google.com/github/merlinkalokerinos/Studies-OAMK/blob/main/Machine_learning_Correlation.ipynb\" target=\"_parent\"><img src=\"https://colab.research.google.com/assets/colab-badge.svg\" alt=\"Open In Colab\"/></a>"
      ]
    },
    {
      "cell_type": "code",
      "source": [
        "import os # u.a. zur Entwicklung plattformübergreifender Systempfade\n",
        "import yaml # für Konfigurationen\n",
        "import pandas as pd # Datenmanagement\n",
        "import numpy as np # Hilfsfunktionen für mathematische Operationen\n",
        "\n",
        "# Datenvisualisierung\n",
        "import seaborn as sns \n",
        "%matplotlib inline\n",
        "import matplotlib.pyplot as plt\n",
        "from pandas.plotting import scatter_matrix\n",
        "\n",
        "from sklearn.model_selection import StratifiedShuffleSplit, train_test_split # Datensplits\n",
        "from sklearn.linear_model import LinearRegression # Machine Learning\n",
        "from sklearn import metrics # Modellevaluierung\n"
      ],
      "metadata": {
        "id": "DGxC7jOjm5UO"
      },
      "execution_count": 94,
      "outputs": []
    },
    {
      "cell_type": "code",
      "execution_count": 95,
      "metadata": {
        "colab": {
          "base_uri": "https://localhost:8080/",
          "height": 424
        },
        "id": "oVz7pUynDDeh",
        "outputId": "1628bb46-6413-4589-84d8-3e094b549194"
      },
      "outputs": [
        {
          "output_type": "execute_result",
          "data": {
            "text/plain": [
              "                             Straße-Stadtteil-Stadt  Kaufpreis  Zimmeranzahl  \\\n",
              "0                                Dom Pedro, München   522500.0           2.0   \n",
              "1                          Haidhausen Nord, München  1498000.0           4.0   \n",
              "2   Düsseldorfer Straße 7, Am Luitpoldpark, München   849900.0           3.0   \n",
              "3                            Am Riesenfeld, München   455000.0           2.0   \n",
              "4                          Am Luitpoldpark, München   750000.0           3.0   \n",
              "..                                              ...        ...           ...   \n",
              "95      Clemensstraße 120, Am Luitpoldpark, München   749000.0           2.0   \n",
              "96                             Universität, München   379900.0           1.0   \n",
              "97                           Untersendling, München   699000.0           2.0   \n",
              "98             Schwanthalerhöhe (Ortsteil), München   759000.0           3.0   \n",
              "99       Waldschulstraße 58, Waldtrudering, München  1079500.0           3.0   \n",
              "\n",
              "    Quadratmeter                                        geolocation  \n",
              "0          51.00  Dom Pedro, Neuhausen-Nymphenburg, München, Bay...  \n",
              "1         120.00  Haidhausen-Nord, Haidhausen - Nord, Au-Haidhau...  \n",
              "2          79.00  Schwabinger Sauna, 7, Düsseldorfer Straße, Am ...  \n",
              "3          57.20  Am Riesenfeld, Milbertshofen-Am Hart, München,...  \n",
              "4          75.00  Am Luitpoldpark, Schwabing-West, München, Baye...  \n",
              "..           ...                                                ...  \n",
              "95         58.00  120, Clemensstraße, Am Luitpoldpark, Schwabing...  \n",
              "96         25.00  Universität, Ludwigstraße, Schönfeldvorstadt, ...  \n",
              "97         67.18  Untersendling, Stemmerhof, Sendling, München, ...  \n",
              "98         76.22                                                NaN  \n",
              "99         90.00  58, Waldschulstraße, Waldtrudering, Trudering-...  \n",
              "\n",
              "[100 rows x 5 columns]"
            ],
            "text/html": [
              "\n",
              "  <div id=\"df-23aafabd-d847-4b78-98fd-cefb55ebcf15\">\n",
              "    <div class=\"colab-df-container\">\n",
              "      <div>\n",
              "<style scoped>\n",
              "    .dataframe tbody tr th:only-of-type {\n",
              "        vertical-align: middle;\n",
              "    }\n",
              "\n",
              "    .dataframe tbody tr th {\n",
              "        vertical-align: top;\n",
              "    }\n",
              "\n",
              "    .dataframe thead th {\n",
              "        text-align: right;\n",
              "    }\n",
              "</style>\n",
              "<table border=\"1\" class=\"dataframe\">\n",
              "  <thead>\n",
              "    <tr style=\"text-align: right;\">\n",
              "      <th></th>\n",
              "      <th>Straße-Stadtteil-Stadt</th>\n",
              "      <th>Kaufpreis</th>\n",
              "      <th>Zimmeranzahl</th>\n",
              "      <th>Quadratmeter</th>\n",
              "      <th>geolocation</th>\n",
              "    </tr>\n",
              "  </thead>\n",
              "  <tbody>\n",
              "    <tr>\n",
              "      <th>0</th>\n",
              "      <td>Dom Pedro, München</td>\n",
              "      <td>522500.0</td>\n",
              "      <td>2.0</td>\n",
              "      <td>51.00</td>\n",
              "      <td>Dom Pedro, Neuhausen-Nymphenburg, München, Bay...</td>\n",
              "    </tr>\n",
              "    <tr>\n",
              "      <th>1</th>\n",
              "      <td>Haidhausen Nord, München</td>\n",
              "      <td>1498000.0</td>\n",
              "      <td>4.0</td>\n",
              "      <td>120.00</td>\n",
              "      <td>Haidhausen-Nord, Haidhausen - Nord, Au-Haidhau...</td>\n",
              "    </tr>\n",
              "    <tr>\n",
              "      <th>2</th>\n",
              "      <td>Düsseldorfer Straße 7, Am Luitpoldpark, München</td>\n",
              "      <td>849900.0</td>\n",
              "      <td>3.0</td>\n",
              "      <td>79.00</td>\n",
              "      <td>Schwabinger Sauna, 7, Düsseldorfer Straße, Am ...</td>\n",
              "    </tr>\n",
              "    <tr>\n",
              "      <th>3</th>\n",
              "      <td>Am Riesenfeld, München</td>\n",
              "      <td>455000.0</td>\n",
              "      <td>2.0</td>\n",
              "      <td>57.20</td>\n",
              "      <td>Am Riesenfeld, Milbertshofen-Am Hart, München,...</td>\n",
              "    </tr>\n",
              "    <tr>\n",
              "      <th>4</th>\n",
              "      <td>Am Luitpoldpark, München</td>\n",
              "      <td>750000.0</td>\n",
              "      <td>3.0</td>\n",
              "      <td>75.00</td>\n",
              "      <td>Am Luitpoldpark, Schwabing-West, München, Baye...</td>\n",
              "    </tr>\n",
              "    <tr>\n",
              "      <th>...</th>\n",
              "      <td>...</td>\n",
              "      <td>...</td>\n",
              "      <td>...</td>\n",
              "      <td>...</td>\n",
              "      <td>...</td>\n",
              "    </tr>\n",
              "    <tr>\n",
              "      <th>95</th>\n",
              "      <td>Clemensstraße 120, Am Luitpoldpark, München</td>\n",
              "      <td>749000.0</td>\n",
              "      <td>2.0</td>\n",
              "      <td>58.00</td>\n",
              "      <td>120, Clemensstraße, Am Luitpoldpark, Schwabing...</td>\n",
              "    </tr>\n",
              "    <tr>\n",
              "      <th>96</th>\n",
              "      <td>Universität, München</td>\n",
              "      <td>379900.0</td>\n",
              "      <td>1.0</td>\n",
              "      <td>25.00</td>\n",
              "      <td>Universität, Ludwigstraße, Schönfeldvorstadt, ...</td>\n",
              "    </tr>\n",
              "    <tr>\n",
              "      <th>97</th>\n",
              "      <td>Untersendling, München</td>\n",
              "      <td>699000.0</td>\n",
              "      <td>2.0</td>\n",
              "      <td>67.18</td>\n",
              "      <td>Untersendling, Stemmerhof, Sendling, München, ...</td>\n",
              "    </tr>\n",
              "    <tr>\n",
              "      <th>98</th>\n",
              "      <td>Schwanthalerhöhe (Ortsteil), München</td>\n",
              "      <td>759000.0</td>\n",
              "      <td>3.0</td>\n",
              "      <td>76.22</td>\n",
              "      <td>NaN</td>\n",
              "    </tr>\n",
              "    <tr>\n",
              "      <th>99</th>\n",
              "      <td>Waldschulstraße 58, Waldtrudering, München</td>\n",
              "      <td>1079500.0</td>\n",
              "      <td>3.0</td>\n",
              "      <td>90.00</td>\n",
              "      <td>58, Waldschulstraße, Waldtrudering, Trudering-...</td>\n",
              "    </tr>\n",
              "  </tbody>\n",
              "</table>\n",
              "<p>100 rows × 5 columns</p>\n",
              "</div>\n",
              "      <button class=\"colab-df-convert\" onclick=\"convertToInteractive('df-23aafabd-d847-4b78-98fd-cefb55ebcf15')\"\n",
              "              title=\"Convert this dataframe to an interactive table.\"\n",
              "              style=\"display:none;\">\n",
              "        \n",
              "  <svg xmlns=\"http://www.w3.org/2000/svg\" height=\"24px\"viewBox=\"0 0 24 24\"\n",
              "       width=\"24px\">\n",
              "    <path d=\"M0 0h24v24H0V0z\" fill=\"none\"/>\n",
              "    <path d=\"M18.56 5.44l.94 2.06.94-2.06 2.06-.94-2.06-.94-.94-2.06-.94 2.06-2.06.94zm-11 1L8.5 8.5l.94-2.06 2.06-.94-2.06-.94L8.5 2.5l-.94 2.06-2.06.94zm10 10l.94 2.06.94-2.06 2.06-.94-2.06-.94-.94-2.06-.94 2.06-2.06.94z\"/><path d=\"M17.41 7.96l-1.37-1.37c-.4-.4-.92-.59-1.43-.59-.52 0-1.04.2-1.43.59L10.3 9.45l-7.72 7.72c-.78.78-.78 2.05 0 2.83L4 21.41c.39.39.9.59 1.41.59.51 0 1.02-.2 1.41-.59l7.78-7.78 2.81-2.81c.8-.78.8-2.07 0-2.86zM5.41 20L4 18.59l7.72-7.72 1.47 1.35L5.41 20z\"/>\n",
              "  </svg>\n",
              "      </button>\n",
              "      \n",
              "  <style>\n",
              "    .colab-df-container {\n",
              "      display:flex;\n",
              "      flex-wrap:wrap;\n",
              "      gap: 12px;\n",
              "    }\n",
              "\n",
              "    .colab-df-convert {\n",
              "      background-color: #E8F0FE;\n",
              "      border: none;\n",
              "      border-radius: 50%;\n",
              "      cursor: pointer;\n",
              "      display: none;\n",
              "      fill: #1967D2;\n",
              "      height: 32px;\n",
              "      padding: 0 0 0 0;\n",
              "      width: 32px;\n",
              "    }\n",
              "\n",
              "    .colab-df-convert:hover {\n",
              "      background-color: #E2EBFA;\n",
              "      box-shadow: 0px 1px 2px rgba(60, 64, 67, 0.3), 0px 1px 3px 1px rgba(60, 64, 67, 0.15);\n",
              "      fill: #174EA6;\n",
              "    }\n",
              "\n",
              "    [theme=dark] .colab-df-convert {\n",
              "      background-color: #3B4455;\n",
              "      fill: #D2E3FC;\n",
              "    }\n",
              "\n",
              "    [theme=dark] .colab-df-convert:hover {\n",
              "      background-color: #434B5C;\n",
              "      box-shadow: 0px 1px 3px 1px rgba(0, 0, 0, 0.15);\n",
              "      filter: drop-shadow(0px 1px 2px rgba(0, 0, 0, 0.3));\n",
              "      fill: #FFFFFF;\n",
              "    }\n",
              "  </style>\n",
              "\n",
              "      <script>\n",
              "        const buttonEl =\n",
              "          document.querySelector('#df-23aafabd-d847-4b78-98fd-cefb55ebcf15 button.colab-df-convert');\n",
              "        buttonEl.style.display =\n",
              "          google.colab.kernel.accessAllowed ? 'block' : 'none';\n",
              "\n",
              "        async function convertToInteractive(key) {\n",
              "          const element = document.querySelector('#df-23aafabd-d847-4b78-98fd-cefb55ebcf15');\n",
              "          const dataTable =\n",
              "            await google.colab.kernel.invokeFunction('convertToInteractive',\n",
              "                                                     [key], {});\n",
              "          if (!dataTable) return;\n",
              "\n",
              "          const docLinkHtml = 'Like what you see? Visit the ' +\n",
              "            '<a target=\"_blank\" href=https://colab.research.google.com/notebooks/data_table.ipynb>data table notebook</a>'\n",
              "            + ' to learn more about interactive tables.';\n",
              "          element.innerHTML = '';\n",
              "          dataTable['output_type'] = 'display_data';\n",
              "          await google.colab.output.renderOutput(dataTable, element);\n",
              "          const docLink = document.createElement('div');\n",
              "          docLink.innerHTML = docLinkHtml;\n",
              "          element.appendChild(docLink);\n",
              "        }\n",
              "      </script>\n",
              "    </div>\n",
              "  </div>\n",
              "  "
            ]
          },
          "metadata": {},
          "execution_count": 95
        }
      ],
      "source": [
        "import pandas as pd \n",
        "df = pd.read_csv('leonasci3.csv', encoding='latin-1')\n",
        "df.head(100)"
      ]
    },
    {
      "cell_type": "code",
      "source": [
        "# wie viele Datenpunkte haben nicht-vollständige Attribute?\n",
        "num_missing = len(df) - len(df.dropna())\n",
        "ratio_missing = num_missing / len(df) \n",
        "# wir konvertieren in Prozente und runden auf 3 Nachkommastellen\n",
        "ratio_missing = np.round(ratio_missing * 100, 3) \n",
        "print(f\"{ratio_missing}% der Daten ({num_missing} Punkte) haben fehlende Werte!\")"
      ],
      "metadata": {
        "colab": {
          "base_uri": "https://localhost:8080/"
        },
        "id": "fGqvlRfWmTKj",
        "outputId": "202e8ade-b6a6-4f16-c4d7-7b5f2063cdf3"
      },
      "execution_count": 96,
      "outputs": [
        {
          "output_type": "stream",
          "name": "stdout",
          "text": [
            "2.47% der Daten (29 Punkte) haben fehlende Werte!\n"
          ]
        }
      ]
    },
    {
      "cell_type": "code",
      "source": [
        "df.loc[df.isnull().sum(axis=1) == 1] # ein kleiner Trick zum anzeigen von Daten mit fehlenden Attributen"
      ],
      "metadata": {
        "colab": {
          "base_uri": "https://localhost:8080/",
          "height": 959
        },
        "id": "E-DJh7NJnDwo",
        "outputId": "b6740407-4672-4ab9-b2ee-fccfbe890810"
      },
      "execution_count": 97,
      "outputs": [
        {
          "output_type": "execute_result",
          "data": {
            "text/plain": [
              "                                 Straße-Stadtteil-Stadt  Kaufpreis  \\\n",
              "15        Leopoldstraße 169, Münchner Freiheit, München   826000.0   \n",
              "32    Parkstraße 15, Schwanthalerhöhe (Ortsteil), Mü...   385000.0   \n",
              "57          Leopoldstr. 109, Münchner Freiheit, München   498000.0   \n",
              "85               Niemöllerallee 24, Altperlach, München  1240000.0   \n",
              "88                   Trudering-Riem (Ortsteil), München   215000.0   \n",
              "98                 Schwanthalerhöhe (Ortsteil), München   759000.0   \n",
              "270                  Trudering-Riem (Ortsteil), München   825000.0   \n",
              "285      Leopoldstrasse 108, Münchner Freiheit, München  1150000.0   \n",
              "343          Ungererstr. 82, Münchner Freiheit, München   975000.0   \n",
              "373                  Trudering-Riem (Ortsteil), München   315000.0   \n",
              "516     Kunigundenstraße 16, Münchner Freiheit, München   660000.0   \n",
              "525            Am Schatzbogen 182, Josephsburg, München   490000.0   \n",
              "586         Rümannstraße 86, Münchner Freiheit, München   205000.0   \n",
              "662      Wessobrunner Straße 33, Land in Sonne, München  1670000.0   \n",
              "674        Antonienstraße 7, Münchner Freiheit, München  1198000.0   \n",
              "685          Prinzregenstraße 142, Steinhausen, München  1100000.0   \n",
              "790         Leopoldstr. 109, Münchner Freiheit, München   498000.0   \n",
              "805                Schwanthalerhöhe (Ortsteil), München   999000.0   \n",
              "810         Ernst-Häckel-Str. 98, Untermenzing, München  1199000.0   \n",
              "811   Riemerstr. 344a, Trudering-Riem (Ortsteil), Mü...   664900.0   \n",
              "882        Wartburgplatz 14, Münchner Freiheit, München   669000.0   \n",
              "892                Schwanthalerhöhe (Ortsteil), München  1537650.0   \n",
              "905         Paul-Gerhard-Allee 59, Obermenzing, München   799000.0   \n",
              "958                  Trudering-Riem (Ortsteil), München   650000.0   \n",
              "993       Rothschwaigsstr. 66, Moosach-Bahnhof, München   719000.0   \n",
              "1085  Theresienhöhe 6a, Schwanthalerhöhe (Ortsteil),...   412000.0   \n",
              "1166                 Trudering-Riem (Ortsteil), München   249000.0   \n",
              "1168  Lehel,München,Oettingenstr.24,Lehel,München, i...  1100000.0   \n",
              "1173                         Ottobrunn, München (Kreis)  1419000.0   \n",
              "\n",
              "      Zimmeranzahl  Quadratmeter geolocation  \n",
              "15             2.0         66.15         NaN  \n",
              "32             2.0         50.13         NaN  \n",
              "57             1.0         40.00         NaN  \n",
              "85             4.0        120.51         NaN  \n",
              "88             1.0         18.18         NaN  \n",
              "98             3.0         76.22         NaN  \n",
              "270            4.0         93.78         NaN  \n",
              "285            3.0         87.00         NaN  \n",
              "343            2.5         81.00         NaN  \n",
              "373            1.0         35.40         NaN  \n",
              "516            2.0         55.24         NaN  \n",
              "525            2.0         57.00         NaN  \n",
              "586            1.0         38.20         NaN  \n",
              "662            4.0        110.00         NaN  \n",
              "674            3.5         86.00         NaN  \n",
              "685            4.0        130.00         NaN  \n",
              "790            1.0         40.00         NaN  \n",
              "805            2.0         52.63         NaN  \n",
              "810            4.5        113.10         NaN  \n",
              "811            3.0         78.00         NaN  \n",
              "882            2.0         57.00         NaN  \n",
              "892            4.5        111.00         NaN  \n",
              "905            3.0         82.50         NaN  \n",
              "958            2.5         70.00         NaN  \n",
              "993            3.0         80.00         NaN  \n",
              "1085           1.0         34.00         NaN  \n",
              "1166           1.0         50.00         NaN  \n",
              "1168           2.0         70.00         NaN  \n",
              "1173           5.0        159.00         NaN  "
            ],
            "text/html": [
              "\n",
              "  <div id=\"df-be06dea7-28de-4e69-ad29-1937a6fc184b\">\n",
              "    <div class=\"colab-df-container\">\n",
              "      <div>\n",
              "<style scoped>\n",
              "    .dataframe tbody tr th:only-of-type {\n",
              "        vertical-align: middle;\n",
              "    }\n",
              "\n",
              "    .dataframe tbody tr th {\n",
              "        vertical-align: top;\n",
              "    }\n",
              "\n",
              "    .dataframe thead th {\n",
              "        text-align: right;\n",
              "    }\n",
              "</style>\n",
              "<table border=\"1\" class=\"dataframe\">\n",
              "  <thead>\n",
              "    <tr style=\"text-align: right;\">\n",
              "      <th></th>\n",
              "      <th>Straße-Stadtteil-Stadt</th>\n",
              "      <th>Kaufpreis</th>\n",
              "      <th>Zimmeranzahl</th>\n",
              "      <th>Quadratmeter</th>\n",
              "      <th>geolocation</th>\n",
              "    </tr>\n",
              "  </thead>\n",
              "  <tbody>\n",
              "    <tr>\n",
              "      <th>15</th>\n",
              "      <td>Leopoldstraße 169, Münchner Freiheit, München</td>\n",
              "      <td>826000.0</td>\n",
              "      <td>2.0</td>\n",
              "      <td>66.15</td>\n",
              "      <td>NaN</td>\n",
              "    </tr>\n",
              "    <tr>\n",
              "      <th>32</th>\n",
              "      <td>Parkstraße 15, Schwanthalerhöhe (Ortsteil), Mü...</td>\n",
              "      <td>385000.0</td>\n",
              "      <td>2.0</td>\n",
              "      <td>50.13</td>\n",
              "      <td>NaN</td>\n",
              "    </tr>\n",
              "    <tr>\n",
              "      <th>57</th>\n",
              "      <td>Leopoldstr. 109, Münchner Freiheit, München</td>\n",
              "      <td>498000.0</td>\n",
              "      <td>1.0</td>\n",
              "      <td>40.00</td>\n",
              "      <td>NaN</td>\n",
              "    </tr>\n",
              "    <tr>\n",
              "      <th>85</th>\n",
              "      <td>Niemöllerallee 24, Altperlach, München</td>\n",
              "      <td>1240000.0</td>\n",
              "      <td>4.0</td>\n",
              "      <td>120.51</td>\n",
              "      <td>NaN</td>\n",
              "    </tr>\n",
              "    <tr>\n",
              "      <th>88</th>\n",
              "      <td>Trudering-Riem (Ortsteil), München</td>\n",
              "      <td>215000.0</td>\n",
              "      <td>1.0</td>\n",
              "      <td>18.18</td>\n",
              "      <td>NaN</td>\n",
              "    </tr>\n",
              "    <tr>\n",
              "      <th>98</th>\n",
              "      <td>Schwanthalerhöhe (Ortsteil), München</td>\n",
              "      <td>759000.0</td>\n",
              "      <td>3.0</td>\n",
              "      <td>76.22</td>\n",
              "      <td>NaN</td>\n",
              "    </tr>\n",
              "    <tr>\n",
              "      <th>270</th>\n",
              "      <td>Trudering-Riem (Ortsteil), München</td>\n",
              "      <td>825000.0</td>\n",
              "      <td>4.0</td>\n",
              "      <td>93.78</td>\n",
              "      <td>NaN</td>\n",
              "    </tr>\n",
              "    <tr>\n",
              "      <th>285</th>\n",
              "      <td>Leopoldstrasse 108, Münchner Freiheit, München</td>\n",
              "      <td>1150000.0</td>\n",
              "      <td>3.0</td>\n",
              "      <td>87.00</td>\n",
              "      <td>NaN</td>\n",
              "    </tr>\n",
              "    <tr>\n",
              "      <th>343</th>\n",
              "      <td>Ungererstr. 82, Münchner Freiheit, München</td>\n",
              "      <td>975000.0</td>\n",
              "      <td>2.5</td>\n",
              "      <td>81.00</td>\n",
              "      <td>NaN</td>\n",
              "    </tr>\n",
              "    <tr>\n",
              "      <th>373</th>\n",
              "      <td>Trudering-Riem (Ortsteil), München</td>\n",
              "      <td>315000.0</td>\n",
              "      <td>1.0</td>\n",
              "      <td>35.40</td>\n",
              "      <td>NaN</td>\n",
              "    </tr>\n",
              "    <tr>\n",
              "      <th>516</th>\n",
              "      <td>Kunigundenstraße 16, Münchner Freiheit, München</td>\n",
              "      <td>660000.0</td>\n",
              "      <td>2.0</td>\n",
              "      <td>55.24</td>\n",
              "      <td>NaN</td>\n",
              "    </tr>\n",
              "    <tr>\n",
              "      <th>525</th>\n",
              "      <td>Am Schatzbogen 182, Josephsburg, München</td>\n",
              "      <td>490000.0</td>\n",
              "      <td>2.0</td>\n",
              "      <td>57.00</td>\n",
              "      <td>NaN</td>\n",
              "    </tr>\n",
              "    <tr>\n",
              "      <th>586</th>\n",
              "      <td>Rümannstraße 86, Münchner Freiheit, München</td>\n",
              "      <td>205000.0</td>\n",
              "      <td>1.0</td>\n",
              "      <td>38.20</td>\n",
              "      <td>NaN</td>\n",
              "    </tr>\n",
              "    <tr>\n",
              "      <th>662</th>\n",
              "      <td>Wessobrunner Straße 33, Land in Sonne, München</td>\n",
              "      <td>1670000.0</td>\n",
              "      <td>4.0</td>\n",
              "      <td>110.00</td>\n",
              "      <td>NaN</td>\n",
              "    </tr>\n",
              "    <tr>\n",
              "      <th>674</th>\n",
              "      <td>Antonienstraße 7, Münchner Freiheit, München</td>\n",
              "      <td>1198000.0</td>\n",
              "      <td>3.5</td>\n",
              "      <td>86.00</td>\n",
              "      <td>NaN</td>\n",
              "    </tr>\n",
              "    <tr>\n",
              "      <th>685</th>\n",
              "      <td>Prinzregenstraße 142, Steinhausen, München</td>\n",
              "      <td>1100000.0</td>\n",
              "      <td>4.0</td>\n",
              "      <td>130.00</td>\n",
              "      <td>NaN</td>\n",
              "    </tr>\n",
              "    <tr>\n",
              "      <th>790</th>\n",
              "      <td>Leopoldstr. 109, Münchner Freiheit, München</td>\n",
              "      <td>498000.0</td>\n",
              "      <td>1.0</td>\n",
              "      <td>40.00</td>\n",
              "      <td>NaN</td>\n",
              "    </tr>\n",
              "    <tr>\n",
              "      <th>805</th>\n",
              "      <td>Schwanthalerhöhe (Ortsteil), München</td>\n",
              "      <td>999000.0</td>\n",
              "      <td>2.0</td>\n",
              "      <td>52.63</td>\n",
              "      <td>NaN</td>\n",
              "    </tr>\n",
              "    <tr>\n",
              "      <th>810</th>\n",
              "      <td>Ernst-Häckel-Str. 98, Untermenzing, München</td>\n",
              "      <td>1199000.0</td>\n",
              "      <td>4.5</td>\n",
              "      <td>113.10</td>\n",
              "      <td>NaN</td>\n",
              "    </tr>\n",
              "    <tr>\n",
              "      <th>811</th>\n",
              "      <td>Riemerstr. 344a, Trudering-Riem (Ortsteil), Mü...</td>\n",
              "      <td>664900.0</td>\n",
              "      <td>3.0</td>\n",
              "      <td>78.00</td>\n",
              "      <td>NaN</td>\n",
              "    </tr>\n",
              "    <tr>\n",
              "      <th>882</th>\n",
              "      <td>Wartburgplatz 14, Münchner Freiheit, München</td>\n",
              "      <td>669000.0</td>\n",
              "      <td>2.0</td>\n",
              "      <td>57.00</td>\n",
              "      <td>NaN</td>\n",
              "    </tr>\n",
              "    <tr>\n",
              "      <th>892</th>\n",
              "      <td>Schwanthalerhöhe (Ortsteil), München</td>\n",
              "      <td>1537650.0</td>\n",
              "      <td>4.5</td>\n",
              "      <td>111.00</td>\n",
              "      <td>NaN</td>\n",
              "    </tr>\n",
              "    <tr>\n",
              "      <th>905</th>\n",
              "      <td>Paul-Gerhard-Allee 59, Obermenzing, München</td>\n",
              "      <td>799000.0</td>\n",
              "      <td>3.0</td>\n",
              "      <td>82.50</td>\n",
              "      <td>NaN</td>\n",
              "    </tr>\n",
              "    <tr>\n",
              "      <th>958</th>\n",
              "      <td>Trudering-Riem (Ortsteil), München</td>\n",
              "      <td>650000.0</td>\n",
              "      <td>2.5</td>\n",
              "      <td>70.00</td>\n",
              "      <td>NaN</td>\n",
              "    </tr>\n",
              "    <tr>\n",
              "      <th>993</th>\n",
              "      <td>Rothschwaigsstr. 66, Moosach-Bahnhof, München</td>\n",
              "      <td>719000.0</td>\n",
              "      <td>3.0</td>\n",
              "      <td>80.00</td>\n",
              "      <td>NaN</td>\n",
              "    </tr>\n",
              "    <tr>\n",
              "      <th>1085</th>\n",
              "      <td>Theresienhöhe 6a, Schwanthalerhöhe (Ortsteil),...</td>\n",
              "      <td>412000.0</td>\n",
              "      <td>1.0</td>\n",
              "      <td>34.00</td>\n",
              "      <td>NaN</td>\n",
              "    </tr>\n",
              "    <tr>\n",
              "      <th>1166</th>\n",
              "      <td>Trudering-Riem (Ortsteil), München</td>\n",
              "      <td>249000.0</td>\n",
              "      <td>1.0</td>\n",
              "      <td>50.00</td>\n",
              "      <td>NaN</td>\n",
              "    </tr>\n",
              "    <tr>\n",
              "      <th>1168</th>\n",
              "      <td>Lehel,München,Oettingenstr.24,Lehel,München, i...</td>\n",
              "      <td>1100000.0</td>\n",
              "      <td>2.0</td>\n",
              "      <td>70.00</td>\n",
              "      <td>NaN</td>\n",
              "    </tr>\n",
              "    <tr>\n",
              "      <th>1173</th>\n",
              "      <td>Ottobrunn, München (Kreis)</td>\n",
              "      <td>1419000.0</td>\n",
              "      <td>5.0</td>\n",
              "      <td>159.00</td>\n",
              "      <td>NaN</td>\n",
              "    </tr>\n",
              "  </tbody>\n",
              "</table>\n",
              "</div>\n",
              "      <button class=\"colab-df-convert\" onclick=\"convertToInteractive('df-be06dea7-28de-4e69-ad29-1937a6fc184b')\"\n",
              "              title=\"Convert this dataframe to an interactive table.\"\n",
              "              style=\"display:none;\">\n",
              "        \n",
              "  <svg xmlns=\"http://www.w3.org/2000/svg\" height=\"24px\"viewBox=\"0 0 24 24\"\n",
              "       width=\"24px\">\n",
              "    <path d=\"M0 0h24v24H0V0z\" fill=\"none\"/>\n",
              "    <path d=\"M18.56 5.44l.94 2.06.94-2.06 2.06-.94-2.06-.94-.94-2.06-.94 2.06-2.06.94zm-11 1L8.5 8.5l.94-2.06 2.06-.94-2.06-.94L8.5 2.5l-.94 2.06-2.06.94zm10 10l.94 2.06.94-2.06 2.06-.94-2.06-.94-.94-2.06-.94 2.06-2.06.94z\"/><path d=\"M17.41 7.96l-1.37-1.37c-.4-.4-.92-.59-1.43-.59-.52 0-1.04.2-1.43.59L10.3 9.45l-7.72 7.72c-.78.78-.78 2.05 0 2.83L4 21.41c.39.39.9.59 1.41.59.51 0 1.02-.2 1.41-.59l7.78-7.78 2.81-2.81c.8-.78.8-2.07 0-2.86zM5.41 20L4 18.59l7.72-7.72 1.47 1.35L5.41 20z\"/>\n",
              "  </svg>\n",
              "      </button>\n",
              "      \n",
              "  <style>\n",
              "    .colab-df-container {\n",
              "      display:flex;\n",
              "      flex-wrap:wrap;\n",
              "      gap: 12px;\n",
              "    }\n",
              "\n",
              "    .colab-df-convert {\n",
              "      background-color: #E8F0FE;\n",
              "      border: none;\n",
              "      border-radius: 50%;\n",
              "      cursor: pointer;\n",
              "      display: none;\n",
              "      fill: #1967D2;\n",
              "      height: 32px;\n",
              "      padding: 0 0 0 0;\n",
              "      width: 32px;\n",
              "    }\n",
              "\n",
              "    .colab-df-convert:hover {\n",
              "      background-color: #E2EBFA;\n",
              "      box-shadow: 0px 1px 2px rgba(60, 64, 67, 0.3), 0px 1px 3px 1px rgba(60, 64, 67, 0.15);\n",
              "      fill: #174EA6;\n",
              "    }\n",
              "\n",
              "    [theme=dark] .colab-df-convert {\n",
              "      background-color: #3B4455;\n",
              "      fill: #D2E3FC;\n",
              "    }\n",
              "\n",
              "    [theme=dark] .colab-df-convert:hover {\n",
              "      background-color: #434B5C;\n",
              "      box-shadow: 0px 1px 3px 1px rgba(0, 0, 0, 0.15);\n",
              "      filter: drop-shadow(0px 1px 2px rgba(0, 0, 0, 0.3));\n",
              "      fill: #FFFFFF;\n",
              "    }\n",
              "  </style>\n",
              "\n",
              "      <script>\n",
              "        const buttonEl =\n",
              "          document.querySelector('#df-be06dea7-28de-4e69-ad29-1937a6fc184b button.colab-df-convert');\n",
              "        buttonEl.style.display =\n",
              "          google.colab.kernel.accessAllowed ? 'block' : 'none';\n",
              "\n",
              "        async function convertToInteractive(key) {\n",
              "          const element = document.querySelector('#df-be06dea7-28de-4e69-ad29-1937a6fc184b');\n",
              "          const dataTable =\n",
              "            await google.colab.kernel.invokeFunction('convertToInteractive',\n",
              "                                                     [key], {});\n",
              "          if (!dataTable) return;\n",
              "\n",
              "          const docLinkHtml = 'Like what you see? Visit the ' +\n",
              "            '<a target=\"_blank\" href=https://colab.research.google.com/notebooks/data_table.ipynb>data table notebook</a>'\n",
              "            + ' to learn more about interactive tables.';\n",
              "          element.innerHTML = '';\n",
              "          dataTable['output_type'] = 'display_data';\n",
              "          await google.colab.output.renderOutput(dataTable, element);\n",
              "          const docLink = document.createElement('div');\n",
              "          docLink.innerHTML = docLinkHtml;\n",
              "          element.appendChild(docLink);\n",
              "        }\n",
              "      </script>\n",
              "    </div>\n",
              "  </div>\n",
              "  "
            ]
          },
          "metadata": {},
          "execution_count": 97
        }
      ]
    },
    {
      "cell_type": "code",
      "source": [
        "\n",
        "\n",
        "df.isnull().sum(axis=0)\n",
        "\n"
      ],
      "metadata": {
        "colab": {
          "base_uri": "https://localhost:8080/"
        },
        "id": "3V-QtnlinO5T",
        "outputId": "15845645-1183-4639-a996-bc17e9564987"
      },
      "execution_count": 98,
      "outputs": [
        {
          "output_type": "execute_result",
          "data": {
            "text/plain": [
              "Straße-Stadtteil-Stadt     0\n",
              "Kaufpreis                  0\n",
              "Zimmeranzahl               0\n",
              "Quadratmeter               0\n",
              "geolocation               29\n",
              "dtype: int64"
            ]
          },
          "metadata": {},
          "execution_count": 98
        }
      ]
    },
    {
      "cell_type": "code",
      "source": [
        "derived_df = df[['Kaufpreis']]\n",
        "print(derived_df, \"\\n\")"
      ],
      "metadata": {
        "colab": {
          "base_uri": "https://localhost:8080/"
        },
        "id": "rsyYUQM3x8hu",
        "outputId": "a45e1fc9-1f1a-490a-8438-164baef4969c"
      },
      "execution_count": 123,
      "outputs": [
        {
          "output_type": "stream",
          "name": "stdout",
          "text": [
            "      Kaufpreis\n",
            "0      522500.0\n",
            "1     1498000.0\n",
            "2      849900.0\n",
            "3      455000.0\n",
            "4      750000.0\n",
            "...         ...\n",
            "1140   595000.0\n",
            "1141   252000.0\n",
            "1142   246000.0\n",
            "1143   270000.0\n",
            "1144   268000.0\n",
            "\n",
            "[1145 rows x 1 columns] \n",
            "\n"
          ]
        }
      ]
    },
    {
      "cell_type": "code",
      "source": [
        "\n",
        "\n",
        "df = df.dropna() # löscht alle Zeilen mit fehlenden Attributen\n",
        "df = df.reset_index(drop=True) # zählt unsere Daten neu durch\n",
        "\n"
      ],
      "metadata": {
        "id": "5z0zrXAynS0V"
      },
      "execution_count": 99,
      "outputs": []
    },
    {
      "cell_type": "code",
      "source": [
        "\n",
        "\n",
        "sns.displot(data=df, x=\"Kaufpreis\", kde=True);\n"
      ],
      "metadata": {
        "colab": {
          "base_uri": "https://localhost:8080/",
          "height": 369
        },
        "id": "0B49aZ3HnYoZ",
        "outputId": "c75e6858-e57d-4131-86a2-a00258225f2c"
      },
      "execution_count": 112,
      "outputs": [
        {
          "output_type": "display_data",
          "data": {
            "text/plain": [
              "<Figure size 360x360 with 1 Axes>"
            ],
            "image/png": "[encoded data removed]"
          },
          "metadata": {
            "needs_background": "light"
          }
        }
      ]
    },
    {
      "cell_type": "code",
      "source": [
        "\n",
        "\n",
        "description = df.describe()\n",
        "description\n",
        "\n"
      ],
      "metadata": {
        "colab": {
          "base_uri": "https://localhost:8080/",
          "height": 300
        },
        "id": "7C2lHcuBoOcD",
        "outputId": "d2506a4b-ed66-402a-f15b-ea7e9674cb39"
      },
      "execution_count": 101,
      "outputs": [
        {
          "output_type": "execute_result",
          "data": {
            "text/plain": [
              "          Kaufpreis  Zimmeranzahl  Quadratmeter\n",
              "count  1.145000e+03   1145.000000   1145.000000\n",
              "mean   9.134174e+05      2.646288     80.059424\n",
              "std    8.607107e+05      1.446223     50.515588\n",
              "min    1.000000e+05      1.000000     16.640000\n",
              "25%    4.740000e+05      2.000000     49.000000\n",
              "50%    6.900000e+05      3.000000     72.120000\n",
              "75%    9.950000e+05      3.000000     94.000000\n",
              "max    9.760000e+06     18.000000    473.000000"
            ],
            "text/html": [
              "\n",
              "  <div id=\"df-de43c961-1397-4f5f-8272-7a958980ba30\">\n",
              "    <div class=\"colab-df-container\">\n",
              "      <div>\n",
              "<style scoped>\n",
              "    .dataframe tbody tr th:only-of-type {\n",
              "        vertical-align: middle;\n",
              "    }\n",
              "\n",
              "    .dataframe tbody tr th {\n",
              "        vertical-align: top;\n",
              "    }\n",
              "\n",
              "    .dataframe thead th {\n",
              "        text-align: right;\n",
              "    }\n",
              "</style>\n",
              "<table border=\"1\" class=\"dataframe\">\n",
              "  <thead>\n",
              "    <tr style=\"text-align: right;\">\n",
              "      <th></th>\n",
              "      <th>Kaufpreis</th>\n",
              "      <th>Zimmeranzahl</th>\n",
              "      <th>Quadratmeter</th>\n",
              "    </tr>\n",
              "  </thead>\n",
              "  <tbody>\n",
              "    <tr>\n",
              "      <th>count</th>\n",
              "      <td>1.145000e+03</td>\n",
              "      <td>1145.000000</td>\n",
              "      <td>1145.000000</td>\n",
              "    </tr>\n",
              "    <tr>\n",
              "      <th>mean</th>\n",
              "      <td>9.134174e+05</td>\n",
              "      <td>2.646288</td>\n",
              "      <td>80.059424</td>\n",
              "    </tr>\n",
              "    <tr>\n",
              "      <th>std</th>\n",
              "      <td>8.607107e+05</td>\n",
              "      <td>1.446223</td>\n",
              "      <td>50.515588</td>\n",
              "    </tr>\n",
              "    <tr>\n",
              "      <th>min</th>\n",
              "      <td>1.000000e+05</td>\n",
              "      <td>1.000000</td>\n",
              "      <td>16.640000</td>\n",
              "    </tr>\n",
              "    <tr>\n",
              "      <th>25%</th>\n",
              "      <td>4.740000e+05</td>\n",
              "      <td>2.000000</td>\n",
              "      <td>49.000000</td>\n",
              "    </tr>\n",
              "    <tr>\n",
              "      <th>50%</th>\n",
              "      <td>6.900000e+05</td>\n",
              "      <td>3.000000</td>\n",
              "      <td>72.120000</td>\n",
              "    </tr>\n",
              "    <tr>\n",
              "      <th>75%</th>\n",
              "      <td>9.950000e+05</td>\n",
              "      <td>3.000000</td>\n",
              "      <td>94.000000</td>\n",
              "    </tr>\n",
              "    <tr>\n",
              "      <th>max</th>\n",
              "      <td>9.760000e+06</td>\n",
              "      <td>18.000000</td>\n",
              "      <td>473.000000</td>\n",
              "    </tr>\n",
              "  </tbody>\n",
              "</table>\n",
              "</div>\n",
              "      <button class=\"colab-df-convert\" onclick=\"convertToInteractive('df-de43c961-1397-4f5f-8272-7a958980ba30')\"\n",
              "              title=\"Convert this dataframe to an interactive table.\"\n",
              "              style=\"display:none;\">\n",
              "        \n",
              "  <svg xmlns=\"http://www.w3.org/2000/svg\" height=\"24px\"viewBox=\"0 0 24 24\"\n",
              "       width=\"24px\">\n",
              "    <path d=\"M0 0h24v24H0V0z\" fill=\"none\"/>\n",
              "    <path d=\"M18.56 5.44l.94 2.06.94-2.06 2.06-.94-2.06-.94-.94-2.06-.94 2.06-2.06.94zm-11 1L8.5 8.5l.94-2.06 2.06-.94-2.06-.94L8.5 2.5l-.94 2.06-2.06.94zm10 10l.94 2.06.94-2.06 2.06-.94-2.06-.94-.94-2.06-.94 2.06-2.06.94z\"/><path d=\"M17.41 7.96l-1.37-1.37c-.4-.4-.92-.59-1.43-.59-.52 0-1.04.2-1.43.59L10.3 9.45l-7.72 7.72c-.78.78-.78 2.05 0 2.83L4 21.41c.39.39.9.59 1.41.59.51 0 1.02-.2 1.41-.59l7.78-7.78 2.81-2.81c.8-.78.8-2.07 0-2.86zM5.41 20L4 18.59l7.72-7.72 1.47 1.35L5.41 20z\"/>\n",
              "  </svg>\n",
              "      </button>\n",
              "      \n",
              "  <style>\n",
              "    .colab-df-container {\n",
              "      display:flex;\n",
              "      flex-wrap:wrap;\n",
              "      gap: 12px;\n",
              "    }\n",
              "\n",
              "    .colab-df-convert {\n",
              "      background-color: #E8F0FE;\n",
              "      border: none;\n",
              "      border-radius: 50%;\n",
              "      cursor: pointer;\n",
              "      display: none;\n",
              "      fill: #1967D2;\n",
              "      height: 32px;\n",
              "      padding: 0 0 0 0;\n",
              "      width: 32px;\n",
              "    }\n",
              "\n",
              "    .colab-df-convert:hover {\n",
              "      background-color: #E2EBFA;\n",
              "      box-shadow: 0px 1px 2px rgba(60, 64, 67, 0.3), 0px 1px 3px 1px rgba(60, 64, 67, 0.15);\n",
              "      fill: #174EA6;\n",
              "    }\n",
              "\n",
              "    [theme=dark] .colab-df-convert {\n",
              "      background-color: #3B4455;\n",
              "      fill: #D2E3FC;\n",
              "    }\n",
              "\n",
              "    [theme=dark] .colab-df-convert:hover {\n",
              "      background-color: #434B5C;\n",
              "      box-shadow: 0px 1px 3px 1px rgba(0, 0, 0, 0.15);\n",
              "      filter: drop-shadow(0px 1px 2px rgba(0, 0, 0, 0.3));\n",
              "      fill: #FFFFFF;\n",
              "    }\n",
              "  </style>\n",
              "\n",
              "      <script>\n",
              "        const buttonEl =\n",
              "          document.querySelector('#df-de43c961-1397-4f5f-8272-7a958980ba30 button.colab-df-convert');\n",
              "        buttonEl.style.display =\n",
              "          google.colab.kernel.accessAllowed ? 'block' : 'none';\n",
              "\n",
              "        async function convertToInteractive(key) {\n",
              "          const element = document.querySelector('#df-de43c961-1397-4f5f-8272-7a958980ba30');\n",
              "          const dataTable =\n",
              "            await google.colab.kernel.invokeFunction('convertToInteractive',\n",
              "                                                     [key], {});\n",
              "          if (!dataTable) return;\n",
              "\n",
              "          const docLinkHtml = 'Like what you see? Visit the ' +\n",
              "            '<a target=\"_blank\" href=https://colab.research.google.com/notebooks/data_table.ipynb>data table notebook</a>'\n",
              "            + ' to learn more about interactive tables.';\n",
              "          element.innerHTML = '';\n",
              "          dataTable['output_type'] = 'display_data';\n",
              "          await google.colab.output.renderOutput(dataTable, element);\n",
              "          const docLink = document.createElement('div');\n",
              "          docLink.innerHTML = docLinkHtml;\n",
              "          element.appendChild(docLink);\n",
              "        }\n",
              "      </script>\n",
              "    </div>\n",
              "  </div>\n",
              "  "
            ]
          },
          "metadata": {},
          "execution_count": 101
        }
      ]
    },
    {
      "cell_type": "code",
      "source": [
        "avgkaufpreis = df[\"Kaufpreis\"].mean()"
      ],
      "metadata": {
        "id": "nqCta3JDsdTy"
      },
      "execution_count": 102,
      "outputs": []
    },
    {
      "cell_type": "code",
      "source": [
        "\n",
        "\n",
        "bins = [0] + list(description[\"Kaufpreis\"][\n",
        "    [\"25%\", \"50%\", \"75%\"]\n",
        "].astype(int)) + [np.inf]\n",
        "print(bins) # 0 bis 119.500 = 0 - 25% Quantil, 119.500 bis 179.700 = 25 - 50% Quantil, ...\n",
        "\n"
      ],
      "metadata": {
        "colab": {
          "base_uri": "https://localhost:8080/"
        },
        "id": "APpz1_bQoYbc",
        "outputId": "559b98bf-f23b-490a-fa5a-3db5f69691ff"
      },
      "execution_count": 103,
      "outputs": [
        {
          "output_type": "stream",
          "name": "stdout",
          "text": [
            "[0, 474000, 690000, 995000, inf]\n"
          ]
        }
      ]
    },
    {
      "cell_type": "code",
      "source": [
        "\n",
        "\n",
        "df[\"house_cat\"] = pd.cut(\n",
        "    df[\"Kaufpreis\"],\n",
        "    bins=bins,\n",
        "    labels=[\"0 - 25%\", \"25 - 50%\", \"50 - 75%\", \"75 - 100%\"]\n",
        ")\n",
        "\n"
      ],
      "metadata": {
        "id": "rzgoKxM7u83W"
      },
      "execution_count": 104,
      "outputs": []
    },
    {
      "cell_type": "code",
      "source": [
        "\n",
        "\n",
        "sns.countplot(data=df, x=\"house_cat\");\n",
        "\n"
      ],
      "metadata": {
        "colab": {
          "base_uri": "https://localhost:8080/",
          "height": 280
        },
        "id": "umvNSGsmvFt4",
        "outputId": "1c80f77c-6492-431b-bb03-2e182d54f80c"
      },
      "execution_count": 105,
      "outputs": [
        {
          "output_type": "display_data",
          "data": {
            "text/plain": [
              "<Figure size 432x288 with 1 Axes>"
            ],
            "image/png": "[encoded data removed]"
          },
          "metadata": {
            "needs_background": "light"
          }
        }
      ]
    },
    {
      "cell_type": "code",
      "source": [
        "split = StratifiedShuffleSplit(n_splits=1, test_size=0.1, random_state=0)\n",
        "for train_index, test_index in split.split(df, df[\"house_cat\"]):\n",
        "    df_train = df.loc[train_index]\n",
        "    df_test = df.loc[test_index]"
      ],
      "metadata": {
        "id": "v-8OYAaUvmia"
      },
      "execution_count": 106,
      "outputs": []
    },
    {
      "cell_type": "code",
      "source": [
        "\n",
        "\n",
        "sns.countplot(data=df_train, x=\"house_cat\");\n",
        "\n"
      ],
      "metadata": {
        "colab": {
          "base_uri": "https://localhost:8080/",
          "height": 280
        },
        "id": "g-xn_nvqv4Mu",
        "outputId": "31a09fbb-033c-470e-99af-a38a7f67206d"
      },
      "execution_count": 107,
      "outputs": [
        {
          "output_type": "display_data",
          "data": {
            "text/plain": [
              "<Figure size 432x288 with 1 Axes>"
            ],
            "image/png": "[encoded data removed]"
          },
          "metadata": {
            "needs_background": "light"
          }
        }
      ]
    },
    {
      "cell_type": "code",
      "source": [
        "\n",
        "\n",
        "sns.countplot(data=df_test, x=\"house_cat\");\n",
        "\n"
      ],
      "metadata": {
        "colab": {
          "base_uri": "https://localhost:8080/",
          "height": 281
        },
        "id": "HHA_Qw5Kv79-",
        "outputId": "d2014d01-3c95-49fa-d712-e753fee880dd"
      },
      "execution_count": 108,
      "outputs": [
        {
          "output_type": "display_data",
          "data": {
            "text/plain": [
              "<Figure size 432x288 with 1 Axes>"
            ],
            "image/png": "[encoded data removed]"
          },
          "metadata": {
            "needs_background": "light"
          }
        }
      ]
    },
    {
      "cell_type": "code",
      "source": [
        "\n",
        "\n",
        "df_train = df_train.drop(\"house_cat\", axis=1)\n",
        "df_test = df_test.drop(\"house_cat\", axis=1)\n",
        "\n"
      ],
      "metadata": {
        "id": "moRcAOHvwNiB"
      },
      "execution_count": 109,
      "outputs": []
    },
    {
      "cell_type": "markdown",
      "source": [
        "\n",
        "\n",
        "```\n",
        "\n",
        "```\n",
        "\n",
        "# Correlation calculation"
      ],
      "metadata": {
        "id": "yJftERO00Jyt"
      }
    },
    {
      "cell_type": "code",
      "source": [
        "df_train.corr()[\"Kaufpreis\"].abs().sort_values(ascending=False)"
      ],
      "metadata": {
        "colab": {
          "base_uri": "https://localhost:8080/"
        },
        "id": "YO6RoHPHwgKI",
        "outputId": "c25d44fb-e8d9-4b79-db16-771ecd101b2b"
      },
      "execution_count": 127,
      "outputs": [
        {
          "output_type": "execute_result",
          "data": {
            "text/plain": [
              "Kaufpreis       1.000000\n",
              "Quadratmeter    0.860481\n",
              "Zimmeranzahl    0.604973\n",
              "Name: Kaufpreis, dtype: float64"
            ]
          },
          "metadata": {},
          "execution_count": 127
        }
      ]
    },
    {
      "cell_type": "code",
      "source": [
        "def engineer_features(df):\n",
        "    df[\"ratio_rooms\"] = df[\"Quadratmeter\"] / df[\"Zimmeranzahl\"]\n",
        "    return df"
      ],
      "metadata": {
        "id": "rlMlH28v2Ia6"
      },
      "execution_count": 129,
      "outputs": []
    },
    {
      "cell_type": "code",
      "source": [
        "\n",
        "\n",
        "df_train = engineer_features(df_train)\n",
        "df_test = engineer_features(df_test)\n",
        "\n"
      ],
      "metadata": {
        "id": "tTyvBzlI2uih"
      },
      "execution_count": 132,
      "outputs": []
    },
    {
      "cell_type": "code",
      "source": [
        "\n",
        "df_train.corr()[\"Kaufpreis\"].abs().sort_values(ascending=False)\n",
        "\n"
      ],
      "metadata": {
        "colab": {
          "base_uri": "https://localhost:8080/"
        },
        "id": "lsxCn4TV2kLH",
        "outputId": "f559a2b3-7e9b-4650-b736-f6936d6722a7"
      },
      "execution_count": 133,
      "outputs": [
        {
          "output_type": "execute_result",
          "data": {
            "text/plain": [
              "Kaufpreis       1.000000\n",
              "Quadratmeter    0.860481\n",
              "Zimmeranzahl    0.604973\n",
              "ratio_rooms     0.530522\n",
              "Name: Kaufpreis, dtype: float64"
            ]
          },
          "metadata": {},
          "execution_count": 133
        }
      ]
    }
  ]
}