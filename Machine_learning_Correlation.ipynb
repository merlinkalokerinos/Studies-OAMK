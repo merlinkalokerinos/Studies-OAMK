{
  "nbformat": 4,
  "nbformat_minor": 0,
  "metadata": {
    "colab": {
      "name": "Machine learning / Correlation.ipynb",
      "provenance": [],
      "authorship_tag": "ABX9TyOFUUO2IfcVWRQazk1jNKIC",
      "include_colab_link": true
    },
    "kernelspec": {
      "name": "python3",
      "display_name": "Python 3"
    },
    "language_info": {
      "name": "python"
    }
  },
  "cells": [
    {
      "cell_type": "markdown",
      "metadata": {
        "id": "view-in-github",
        "colab_type": "text"
      },
      "source": [
        "<a href=\"https://colab.research.google.com/github/merlinkalokerinos/Studies-OAMK/blob/main/Machine_learning_Correlation.ipynb\" target=\"_parent\"><img src=\"https://colab.research.google.com/assets/colab-badge.svg\" alt=\"Open In Colab\"/></a>"
      ]
    },
    {
      "cell_type": "code",
      "source": [
        "import os # u.a. zur Entwicklung plattformübergreifender Systempfade\n",
        "import yaml # für Konfigurationen\n",
        "import pandas as pd # Datenmanagement\n",
        "import numpy as np # Hilfsfunktionen für mathematische Operationen\n",
        "\n",
        "# Datenvisualisierung\n",
        "import seaborn as sns \n",
        "%matplotlib inline\n",
        "import matplotlib.pyplot as plt\n",
        "from pandas.plotting import scatter_matrix\n",
        "\n",
        "from sklearn.model_selection import StratifiedShuffleSplit, train_test_split # Datensplits\n",
        "from sklearn.linear_model import LinearRegression # Machine Learning\n",
        "from sklearn import metrics # Modellevaluierung\n"
      ],
      "metadata": {
        "id": "DGxC7jOjm5UO"
      },
      "execution_count": null,
      "outputs": []
    },
    {
      "cell_type": "code",
      "execution_count": 8,
      "metadata": {
        "colab": {
          "base_uri": "https://localhost:8080/",
          "height": 424
        },
        "id": "oVz7pUynDDeh",
        "outputId": "cb7b0ca3-1a26-4c03-a93f-69db1bd1f1ed"
      },
      "outputs": [
        {
          "output_type": "execute_result",
          "data": {
            "text/plain": [
              "                                 scraped location  purchasing price [in €]  \\\n",
              "0     Helene-Mayer-Ring 4, Am Riesenfeld, München                   970.00   \n",
              "1     Helene-Mayer-Ring 4, Am Riesenfeld, München                   980.00   \n",
              "2        Schäftlarnstr. 135, Thalkirchen, München                   990.00   \n",
              "3        Schäftlarnstr. 135, Thalkirchen, München                  1000.00   \n",
              "4            Hohenlohestr. 37, Dom Pedro, München                  1340.00   \n",
              "...                                           ...                      ...   \n",
              "6331                                81379 München                  2279.69   \n",
              "6332                                81379 München                  3114.54   \n",
              "6333                                81379 München                  1522.03   \n",
              "6334                                81737 München                  2390.00   \n",
              "6335                                81379 München                   607.50   \n",
              "\n",
              "      number of rooms  square metre  \\\n",
              "0                 1.0         28.00   \n",
              "1                 1.0         30.00   \n",
              "2                 1.0         35.00   \n",
              "3                 1.0         33.00   \n",
              "4                 2.0         56.97   \n",
              "...               ...           ...   \n",
              "6331              4.0        132.54   \n",
              "6332              5.0        141.57   \n",
              "6333              3.0         88.49   \n",
              "6334              2.0         65.00   \n",
              "6335              1.0         21.00   \n",
              "\n",
              "                                          City district  \n",
              "0                            11 Milbertshofen - Am Hart  \n",
              "1                            11 Milbertshofen - Am Hart  \n",
              "2     19 Thalkirchen - Obersendling -Forstenried - F...  \n",
              "3     19 Thalkirchen - Obersendling -Forstenried - F...  \n",
              "4                            09 Neuhausen - Nymphenburg  \n",
              "...                                                 ...  \n",
              "6331                             07 Sendling - Westpark  \n",
              "6332                             07 Sendling - Westpark  \n",
              "6333                             07 Sendling - Westpark  \n",
              "6334                            16 Ramersdorf - Perlach  \n",
              "6335                             07 Sendling - Westpark  \n",
              "\n",
              "[6336 rows x 5 columns]"
            ],
            "text/html": [
              "\n",
              "  <div id=\"df-f7a24978-40ec-4c40-892e-93d5a42c4e3a\">\n",
              "    <div class=\"colab-df-container\">\n",
              "      <div>\n",
              "<style scoped>\n",
              "    .dataframe tbody tr th:only-of-type {\n",
              "        vertical-align: middle;\n",
              "    }\n",
              "\n",
              "    .dataframe tbody tr th {\n",
              "        vertical-align: top;\n",
              "    }\n",
              "\n",
              "    .dataframe thead th {\n",
              "        text-align: right;\n",
              "    }\n",
              "</style>\n",
              "<table border=\"1\" class=\"dataframe\">\n",
              "  <thead>\n",
              "    <tr style=\"text-align: right;\">\n",
              "      <th></th>\n",
              "      <th>scraped location</th>\n",
              "      <th>purchasing price [in €]</th>\n",
              "      <th>number of rooms</th>\n",
              "      <th>square metre</th>\n",
              "      <th>City district</th>\n",
              "    </tr>\n",
              "  </thead>\n",
              "  <tbody>\n",
              "    <tr>\n",
              "      <th>0</th>\n",
              "      <td>Helene-Mayer-Ring 4, Am Riesenfeld, München</td>\n",
              "      <td>970.00</td>\n",
              "      <td>1.0</td>\n",
              "      <td>28.00</td>\n",
              "      <td>11 Milbertshofen - Am Hart</td>\n",
              "    </tr>\n",
              "    <tr>\n",
              "      <th>1</th>\n",
              "      <td>Helene-Mayer-Ring 4, Am Riesenfeld, München</td>\n",
              "      <td>980.00</td>\n",
              "      <td>1.0</td>\n",
              "      <td>30.00</td>\n",
              "      <td>11 Milbertshofen - Am Hart</td>\n",
              "    </tr>\n",
              "    <tr>\n",
              "      <th>2</th>\n",
              "      <td>Schäftlarnstr. 135, Thalkirchen, München</td>\n",
              "      <td>990.00</td>\n",
              "      <td>1.0</td>\n",
              "      <td>35.00</td>\n",
              "      <td>19 Thalkirchen - Obersendling -Forstenried - F...</td>\n",
              "    </tr>\n",
              "    <tr>\n",
              "      <th>3</th>\n",
              "      <td>Schäftlarnstr. 135, Thalkirchen, München</td>\n",
              "      <td>1000.00</td>\n",
              "      <td>1.0</td>\n",
              "      <td>33.00</td>\n",
              "      <td>19 Thalkirchen - Obersendling -Forstenried - F...</td>\n",
              "    </tr>\n",
              "    <tr>\n",
              "      <th>4</th>\n",
              "      <td>Hohenlohestr. 37, Dom Pedro, München</td>\n",
              "      <td>1340.00</td>\n",
              "      <td>2.0</td>\n",
              "      <td>56.97</td>\n",
              "      <td>09 Neuhausen - Nymphenburg</td>\n",
              "    </tr>\n",
              "    <tr>\n",
              "      <th>...</th>\n",
              "      <td>...</td>\n",
              "      <td>...</td>\n",
              "      <td>...</td>\n",
              "      <td>...</td>\n",
              "      <td>...</td>\n",
              "    </tr>\n",
              "    <tr>\n",
              "      <th>6331</th>\n",
              "      <td>81379 München</td>\n",
              "      <td>2279.69</td>\n",
              "      <td>4.0</td>\n",
              "      <td>132.54</td>\n",
              "      <td>07 Sendling - Westpark</td>\n",
              "    </tr>\n",
              "    <tr>\n",
              "      <th>6332</th>\n",
              "      <td>81379 München</td>\n",
              "      <td>3114.54</td>\n",
              "      <td>5.0</td>\n",
              "      <td>141.57</td>\n",
              "      <td>07 Sendling - Westpark</td>\n",
              "    </tr>\n",
              "    <tr>\n",
              "      <th>6333</th>\n",
              "      <td>81379 München</td>\n",
              "      <td>1522.03</td>\n",
              "      <td>3.0</td>\n",
              "      <td>88.49</td>\n",
              "      <td>07 Sendling - Westpark</td>\n",
              "    </tr>\n",
              "    <tr>\n",
              "      <th>6334</th>\n",
              "      <td>81737 München</td>\n",
              "      <td>2390.00</td>\n",
              "      <td>2.0</td>\n",
              "      <td>65.00</td>\n",
              "      <td>16 Ramersdorf - Perlach</td>\n",
              "    </tr>\n",
              "    <tr>\n",
              "      <th>6335</th>\n",
              "      <td>81379 München</td>\n",
              "      <td>607.50</td>\n",
              "      <td>1.0</td>\n",
              "      <td>21.00</td>\n",
              "      <td>07 Sendling - Westpark</td>\n",
              "    </tr>\n",
              "  </tbody>\n",
              "</table>\n",
              "<p>6336 rows × 5 columns</p>\n",
              "</div>\n",
              "      <button class=\"colab-df-convert\" onclick=\"convertToInteractive('df-f7a24978-40ec-4c40-892e-93d5a42c4e3a')\"\n",
              "              title=\"Convert this dataframe to an interactive table.\"\n",
              "              style=\"display:none;\">\n",
              "        \n",
              "  <svg xmlns=\"http://www.w3.org/2000/svg\" height=\"24px\"viewBox=\"0 0 24 24\"\n",
              "       width=\"24px\">\n",
              "    <path d=\"M0 0h24v24H0V0z\" fill=\"none\"/>\n",
              "    <path d=\"M18.56 5.44l.94 2.06.94-2.06 2.06-.94-2.06-.94-.94-2.06-.94 2.06-2.06.94zm-11 1L8.5 8.5l.94-2.06 2.06-.94-2.06-.94L8.5 2.5l-.94 2.06-2.06.94zm10 10l.94 2.06.94-2.06 2.06-.94-2.06-.94-.94-2.06-.94 2.06-2.06.94z\"/><path d=\"M17.41 7.96l-1.37-1.37c-.4-.4-.92-.59-1.43-.59-.52 0-1.04.2-1.43.59L10.3 9.45l-7.72 7.72c-.78.78-.78 2.05 0 2.83L4 21.41c.39.39.9.59 1.41.59.51 0 1.02-.2 1.41-.59l7.78-7.78 2.81-2.81c.8-.78.8-2.07 0-2.86zM5.41 20L4 18.59l7.72-7.72 1.47 1.35L5.41 20z\"/>\n",
              "  </svg>\n",
              "      </button>\n",
              "      \n",
              "  <style>\n",
              "    .colab-df-container {\n",
              "      display:flex;\n",
              "      flex-wrap:wrap;\n",
              "      gap: 12px;\n",
              "    }\n",
              "\n",
              "    .colab-df-convert {\n",
              "      background-color: #E8F0FE;\n",
              "      border: none;\n",
              "      border-radius: 50%;\n",
              "      cursor: pointer;\n",
              "      display: none;\n",
              "      fill: #1967D2;\n",
              "      height: 32px;\n",
              "      padding: 0 0 0 0;\n",
              "      width: 32px;\n",
              "    }\n",
              "\n",
              "    .colab-df-convert:hover {\n",
              "      background-color: #E2EBFA;\n",
              "      box-shadow: 0px 1px 2px rgba(60, 64, 67, 0.3), 0px 1px 3px 1px rgba(60, 64, 67, 0.15);\n",
              "      fill: #174EA6;\n",
              "    }\n",
              "\n",
              "    [theme=dark] .colab-df-convert {\n",
              "      background-color: #3B4455;\n",
              "      fill: #D2E3FC;\n",
              "    }\n",
              "\n",
              "    [theme=dark] .colab-df-convert:hover {\n",
              "      background-color: #434B5C;\n",
              "      box-shadow: 0px 1px 3px 1px rgba(0, 0, 0, 0.15);\n",
              "      filter: drop-shadow(0px 1px 2px rgba(0, 0, 0, 0.3));\n",
              "      fill: #FFFFFF;\n",
              "    }\n",
              "  </style>\n",
              "\n",
              "      <script>\n",
              "        const buttonEl =\n",
              "          document.querySelector('#df-f7a24978-40ec-4c40-892e-93d5a42c4e3a button.colab-df-convert');\n",
              "        buttonEl.style.display =\n",
              "          google.colab.kernel.accessAllowed ? 'block' : 'none';\n",
              "\n",
              "        async function convertToInteractive(key) {\n",
              "          const element = document.querySelector('#df-f7a24978-40ec-4c40-892e-93d5a42c4e3a');\n",
              "          const dataTable =\n",
              "            await google.colab.kernel.invokeFunction('convertToInteractive',\n",
              "                                                     [key], {});\n",
              "          if (!dataTable) return;\n",
              "\n",
              "          const docLinkHtml = 'Like what you see? Visit the ' +\n",
              "            '<a target=\"_blank\" href=https://colab.research.google.com/notebooks/data_table.ipynb>data table notebook</a>'\n",
              "            + ' to learn more about interactive tables.';\n",
              "          element.innerHTML = '';\n",
              "          dataTable['output_type'] = 'display_data';\n",
              "          await google.colab.output.renderOutput(dataTable, element);\n",
              "          const docLink = document.createElement('div');\n",
              "          docLink.innerHTML = docLinkHtml;\n",
              "          element.appendChild(docLink);\n",
              "        }\n",
              "      </script>\n",
              "    </div>\n",
              "  </div>\n",
              "  "
            ]
          },
          "metadata": {},
          "execution_count": 8
        }
      ],
      "source": [
        "import pandas as pd \n",
        "df = pd.read_csv('test.csv')\n",
        "df.head(10000)"
      ]
    },
    {
      "cell_type": "code",
      "source": [
        "groupby = df.groupby('City district')['number of rooms'].count()\n",
        "groupby.head(25)\n"
      ],
      "metadata": {
        "colab": {
          "base_uri": "https://localhost:8080/"
        },
        "id": "2vD0D0vLda5e",
        "outputId": "3ce34c3f-f5fa-4dec-863b-d92da9c9b526"
      },
      "execution_count": 41,
      "outputs": [
        {
          "output_type": "execute_result",
          "data": {
            "text/plain": [
              "City district\n",
              "01 Altstadt - Lehel                                                 172\n",
              "02 Ludwigsvorstadt - Isarvorstadt                                   264\n",
              "03 Maxvorstadt                                                      174\n",
              "04 Schwabing - West                                                 304\n",
              "05 Au - Haidhausen                                                  270\n",
              "06 Sendling                                                         160\n",
              "07 Sendling - Westpark                                              286\n",
              "08 Schwanthalerhöhe                                                  72\n",
              "09 Neuhausen - Nymphenburg                                          264\n",
              "10 Moosach                                                          196\n",
              "11 Milbertshofen - Am Hart                                          252\n",
              "12 Schwabing - Freimann                                             290\n",
              "13 Bogenhausen                                                      417\n",
              "14 Berg am Laim                                                     122\n",
              "15 Trudering - Riem                                                 272\n",
              "16 Ramersdorf - Perlach                                             342\n",
              "17 Obergiesing - Fasangarten                                        149\n",
              "18 Untergiesing - Harlaching                                        266\n",
              "19 Thalkirchen - Obersendling -Forstenried - Fürstenried - Solln    386\n",
              "20 Hadern                                                           124\n",
              "21 Pasing - Obermenzing                                             395\n",
              "22 Aubing - Lochhausen - Langwied                                   242\n",
              "23 Allach - Untermenzing                                            184\n",
              "24 Feldmoching - Hasenbergl                                         115\n",
              "25 Laim                                                             221\n",
              "Name: number of rooms, dtype: int64"
            ]
          },
          "metadata": {},
          "execution_count": 41
        }
      ]
    },
    {
      "cell_type": "code",
      "source": [
        ""
      ],
      "metadata": {
        "id": "3BzB27Qiarz8"
      },
      "execution_count": null,
      "outputs": []
    },
    {
      "cell_type": "code",
      "source": [
        "# wie viele Datenpunkte haben nicht-vollständige Attribute?\n",
        "num_missing = len(df) - len(df.dropna())\n",
        "ratio_missing = num_missing / len(df) \n",
        "# wir konvertieren in Prozente und runden auf 3 Nachkommastellen\n",
        "ratio_missing = np.round(ratio_missing * 100, 3) \n",
        "print(f\"{ratio_missing}% der Daten ({num_missing} Punkte) haben fehlende Werte!\")"
      ],
      "metadata": {
        "colab": {
          "base_uri": "https://localhost:8080/"
        },
        "id": "fGqvlRfWmTKj",
        "outputId": "6d37bfe3-8f0f-48b7-f327-caed1cab0bad"
      },
      "execution_count": 9,
      "outputs": [
        {
          "output_type": "stream",
          "name": "stdout",
          "text": [
            "0.0% der Daten (0 Punkte) haben fehlende Werte!\n"
          ]
        }
      ]
    },
    {
      "cell_type": "code",
      "source": [
        "df.loc[df.isnull().sum(axis=1) == 1] # ein kleiner Trick zum anzeigen von Daten mit fehlenden Attributen"
      ],
      "metadata": {
        "colab": {
          "base_uri": "https://localhost:8080/",
          "height": 49
        },
        "id": "E-DJh7NJnDwo",
        "outputId": "07d0ad46-9e59-46cf-a522-2a5bca6ac4be"
      },
      "execution_count": 10,
      "outputs": [
        {
          "output_type": "execute_result",
          "data": {
            "text/plain": [
              "Empty DataFrame\n",
              "Columns: [scraped location, purchasing price [in €], number of rooms, square metre, City district]\n",
              "Index: []"
            ],
            "text/html": [
              "\n",
              "  <div id=\"df-93a0ba9e-f828-496a-8a24-b5fce31d932f\">\n",
              "    <div class=\"colab-df-container\">\n",
              "      <div>\n",
              "<style scoped>\n",
              "    .dataframe tbody tr th:only-of-type {\n",
              "        vertical-align: middle;\n",
              "    }\n",
              "\n",
              "    .dataframe tbody tr th {\n",
              "        vertical-align: top;\n",
              "    }\n",
              "\n",
              "    .dataframe thead th {\n",
              "        text-align: right;\n",
              "    }\n",
              "</style>\n",
              "<table border=\"1\" class=\"dataframe\">\n",
              "  <thead>\n",
              "    <tr style=\"text-align: right;\">\n",
              "      <th></th>\n",
              "      <th>scraped location</th>\n",
              "      <th>purchasing price [in €]</th>\n",
              "      <th>number of rooms</th>\n",
              "      <th>square metre</th>\n",
              "      <th>City district</th>\n",
              "    </tr>\n",
              "  </thead>\n",
              "  <tbody>\n",
              "  </tbody>\n",
              "</table>\n",
              "</div>\n",
              "      <button class=\"colab-df-convert\" onclick=\"convertToInteractive('df-93a0ba9e-f828-496a-8a24-b5fce31d932f')\"\n",
              "              title=\"Convert this dataframe to an interactive table.\"\n",
              "              style=\"display:none;\">\n",
              "        \n",
              "  <svg xmlns=\"http://www.w3.org/2000/svg\" height=\"24px\"viewBox=\"0 0 24 24\"\n",
              "       width=\"24px\">\n",
              "    <path d=\"M0 0h24v24H0V0z\" fill=\"none\"/>\n",
              "    <path d=\"M18.56 5.44l.94 2.06.94-2.06 2.06-.94-2.06-.94-.94-2.06-.94 2.06-2.06.94zm-11 1L8.5 8.5l.94-2.06 2.06-.94-2.06-.94L8.5 2.5l-.94 2.06-2.06.94zm10 10l.94 2.06.94-2.06 2.06-.94-2.06-.94-.94-2.06-.94 2.06-2.06.94z\"/><path d=\"M17.41 7.96l-1.37-1.37c-.4-.4-.92-.59-1.43-.59-.52 0-1.04.2-1.43.59L10.3 9.45l-7.72 7.72c-.78.78-.78 2.05 0 2.83L4 21.41c.39.39.9.59 1.41.59.51 0 1.02-.2 1.41-.59l7.78-7.78 2.81-2.81c.8-.78.8-2.07 0-2.86zM5.41 20L4 18.59l7.72-7.72 1.47 1.35L5.41 20z\"/>\n",
              "  </svg>\n",
              "      </button>\n",
              "      \n",
              "  <style>\n",
              "    .colab-df-container {\n",
              "      display:flex;\n",
              "      flex-wrap:wrap;\n",
              "      gap: 12px;\n",
              "    }\n",
              "\n",
              "    .colab-df-convert {\n",
              "      background-color: #E8F0FE;\n",
              "      border: none;\n",
              "      border-radius: 50%;\n",
              "      cursor: pointer;\n",
              "      display: none;\n",
              "      fill: #1967D2;\n",
              "      height: 32px;\n",
              "      padding: 0 0 0 0;\n",
              "      width: 32px;\n",
              "    }\n",
              "\n",
              "    .colab-df-convert:hover {\n",
              "      background-color: #E2EBFA;\n",
              "      box-shadow: 0px 1px 2px rgba(60, 64, 67, 0.3), 0px 1px 3px 1px rgba(60, 64, 67, 0.15);\n",
              "      fill: #174EA6;\n",
              "    }\n",
              "\n",
              "    [theme=dark] .colab-df-convert {\n",
              "      background-color: #3B4455;\n",
              "      fill: #D2E3FC;\n",
              "    }\n",
              "\n",
              "    [theme=dark] .colab-df-convert:hover {\n",
              "      background-color: #434B5C;\n",
              "      box-shadow: 0px 1px 3px 1px rgba(0, 0, 0, 0.15);\n",
              "      filter: drop-shadow(0px 1px 2px rgba(0, 0, 0, 0.3));\n",
              "      fill: #FFFFFF;\n",
              "    }\n",
              "  </style>\n",
              "\n",
              "      <script>\n",
              "        const buttonEl =\n",
              "          document.querySelector('#df-93a0ba9e-f828-496a-8a24-b5fce31d932f button.colab-df-convert');\n",
              "        buttonEl.style.display =\n",
              "          google.colab.kernel.accessAllowed ? 'block' : 'none';\n",
              "\n",
              "        async function convertToInteractive(key) {\n",
              "          const element = document.querySelector('#df-93a0ba9e-f828-496a-8a24-b5fce31d932f');\n",
              "          const dataTable =\n",
              "            await google.colab.kernel.invokeFunction('convertToInteractive',\n",
              "                                                     [key], {});\n",
              "          if (!dataTable) return;\n",
              "\n",
              "          const docLinkHtml = 'Like what you see? Visit the ' +\n",
              "            '<a target=\"_blank\" href=https://colab.research.google.com/notebooks/data_table.ipynb>data table notebook</a>'\n",
              "            + ' to learn more about interactive tables.';\n",
              "          element.innerHTML = '';\n",
              "          dataTable['output_type'] = 'display_data';\n",
              "          await google.colab.output.renderOutput(dataTable, element);\n",
              "          const docLink = document.createElement('div');\n",
              "          docLink.innerHTML = docLinkHtml;\n",
              "          element.appendChild(docLink);\n",
              "        }\n",
              "      </script>\n",
              "    </div>\n",
              "  </div>\n",
              "  "
            ]
          },
          "metadata": {},
          "execution_count": 10
        }
      ]
    },
    {
      "cell_type": "code",
      "source": [
        "\n",
        "\n",
        "df.isnull().sum(axis=0)\n",
        "\n"
      ],
      "metadata": {
        "colab": {
          "base_uri": "https://localhost:8080/"
        },
        "id": "3V-QtnlinO5T",
        "outputId": "ec275945-dbb5-410c-c636-d422918699ff"
      },
      "execution_count": 11,
      "outputs": [
        {
          "output_type": "execute_result",
          "data": {
            "text/plain": [
              "scraped location           0\n",
              "purchasing price [in €]    0\n",
              "number of rooms            0\n",
              "square metre               0\n",
              "City district              0\n",
              "dtype: int64"
            ]
          },
          "metadata": {},
          "execution_count": 11
        }
      ]
    },
    {
      "cell_type": "code",
      "source": [
        "derived_df = df[['purchasing price [in €]']]\n",
        "print(derived_df, \"\\n\")"
      ],
      "metadata": {
        "colab": {
          "base_uri": "https://localhost:8080/"
        },
        "id": "rsyYUQM3x8hu",
        "outputId": "032862a0-a09d-454e-d7a0-ebe3f77c7c21"
      },
      "execution_count": 13,
      "outputs": [
        {
          "output_type": "stream",
          "name": "stdout",
          "text": [
            "      purchasing price [in €]\n",
            "0                      970.00\n",
            "1                      980.00\n",
            "2                      990.00\n",
            "3                     1000.00\n",
            "4                     1340.00\n",
            "...                       ...\n",
            "6331                  2279.69\n",
            "6332                  3114.54\n",
            "6333                  1522.03\n",
            "6334                  2390.00\n",
            "6335                   607.50\n",
            "\n",
            "[6336 rows x 1 columns] \n",
            "\n"
          ]
        }
      ]
    },
    {
      "cell_type": "code",
      "source": [
        "\n",
        "\n",
        "df = df.dropna() # löscht alle Zeilen mit fehlenden Attributen\n",
        "df = df.reset_index(drop=True) # zählt unsere Daten neu durch\n",
        "\n"
      ],
      "metadata": {
        "id": "5z0zrXAynS0V"
      },
      "execution_count": 14,
      "outputs": []
    },
    {
      "cell_type": "code",
      "source": [
        "\n",
        "\n",
        "sns.displot(data=df, x=\"purchasing price [in €]\", kde=True);\n"
      ],
      "metadata": {
        "colab": {
          "base_uri": "https://localhost:8080/",
          "height": 369
        },
        "id": "0B49aZ3HnYoZ",
        "outputId": "6dd85d5d-405d-4a67-b1a4-cf0fe3626c3b"
      },
      "execution_count": 16,
      "outputs": [
        {
          "output_type": "display_data",
          "data": {
            "text/plain": [
              "<Figure size 360x360 with 1 Axes>"
            ],
            "image/png": "[encoded data removed]"
          },
          "metadata": {
            "needs_background": "light"
          }
        }
      ]
    },
    {
      "cell_type": "code",
      "source": [
        "\n",
        "\n",
        "description = df.describe()\n",
        "description\n",
        "\n"
      ],
      "metadata": {
        "colab": {
          "base_uri": "https://localhost:8080/",
          "height": 300
        },
        "id": "7C2lHcuBoOcD",
        "outputId": "d23928a7-8133-492b-99e4-cdbe2747d77d"
      },
      "execution_count": 17,
      "outputs": [
        {
          "output_type": "execute_result",
          "data": {
            "text/plain": [
              "       purchasing price [in €]  number of rooms  square metre\n",
              "count              6336.000000      6336.000000   6336.000000\n",
              "mean               1601.931252         2.232402     69.339372\n",
              "std                 975.459780         1.215432     40.469049\n",
              "min                  60.000000         1.000000     20.420000\n",
              "25%                1040.000000         1.000000     41.000000\n",
              "50%                1380.000000         2.000000     63.770000\n",
              "75%                1900.000000         3.000000     86.000000\n",
              "max               18500.000000        24.000000    700.000000"
            ],
            "text/html": [
              "\n",
              "  <div id=\"df-4218e995-578f-490e-82a7-ad7947ebffe1\">\n",
              "    <div class=\"colab-df-container\">\n",
              "      <div>\n",
              "<style scoped>\n",
              "    .dataframe tbody tr th:only-of-type {\n",
              "        vertical-align: middle;\n",
              "    }\n",
              "\n",
              "    .dataframe tbody tr th {\n",
              "        vertical-align: top;\n",
              "    }\n",
              "\n",
              "    .dataframe thead th {\n",
              "        text-align: right;\n",
              "    }\n",
              "</style>\n",
              "<table border=\"1\" class=\"dataframe\">\n",
              "  <thead>\n",
              "    <tr style=\"text-align: right;\">\n",
              "      <th></th>\n",
              "      <th>purchasing price [in €]</th>\n",
              "      <th>number of rooms</th>\n",
              "      <th>square metre</th>\n",
              "    </tr>\n",
              "  </thead>\n",
              "  <tbody>\n",
              "    <tr>\n",
              "      <th>count</th>\n",
              "      <td>6336.000000</td>\n",
              "      <td>6336.000000</td>\n",
              "      <td>6336.000000</td>\n",
              "    </tr>\n",
              "    <tr>\n",
              "      <th>mean</th>\n",
              "      <td>1601.931252</td>\n",
              "      <td>2.232402</td>\n",
              "      <td>69.339372</td>\n",
              "    </tr>\n",
              "    <tr>\n",
              "      <th>std</th>\n",
              "      <td>975.459780</td>\n",
              "      <td>1.215432</td>\n",
              "      <td>40.469049</td>\n",
              "    </tr>\n",
              "    <tr>\n",
              "      <th>min</th>\n",
              "      <td>60.000000</td>\n",
              "      <td>1.000000</td>\n",
              "      <td>20.420000</td>\n",
              "    </tr>\n",
              "    <tr>\n",
              "      <th>25%</th>\n",
              "      <td>1040.000000</td>\n",
              "      <td>1.000000</td>\n",
              "      <td>41.000000</td>\n",
              "    </tr>\n",
              "    <tr>\n",
              "      <th>50%</th>\n",
              "      <td>1380.000000</td>\n",
              "      <td>2.000000</td>\n",
              "      <td>63.770000</td>\n",
              "    </tr>\n",
              "    <tr>\n",
              "      <th>75%</th>\n",
              "      <td>1900.000000</td>\n",
              "      <td>3.000000</td>\n",
              "      <td>86.000000</td>\n",
              "    </tr>\n",
              "    <tr>\n",
              "      <th>max</th>\n",
              "      <td>18500.000000</td>\n",
              "      <td>24.000000</td>\n",
              "      <td>700.000000</td>\n",
              "    </tr>\n",
              "  </tbody>\n",
              "</table>\n",
              "</div>\n",
              "      <button class=\"colab-df-convert\" onclick=\"convertToInteractive('df-4218e995-578f-490e-82a7-ad7947ebffe1')\"\n",
              "              title=\"Convert this dataframe to an interactive table.\"\n",
              "              style=\"display:none;\">\n",
              "        \n",
              "  <svg xmlns=\"http://www.w3.org/2000/svg\" height=\"24px\"viewBox=\"0 0 24 24\"\n",
              "       width=\"24px\">\n",
              "    <path d=\"M0 0h24v24H0V0z\" fill=\"none\"/>\n",
              "    <path d=\"M18.56 5.44l.94 2.06.94-2.06 2.06-.94-2.06-.94-.94-2.06-.94 2.06-2.06.94zm-11 1L8.5 8.5l.94-2.06 2.06-.94-2.06-.94L8.5 2.5l-.94 2.06-2.06.94zm10 10l.94 2.06.94-2.06 2.06-.94-2.06-.94-.94-2.06-.94 2.06-2.06.94z\"/><path d=\"M17.41 7.96l-1.37-1.37c-.4-.4-.92-.59-1.43-.59-.52 0-1.04.2-1.43.59L10.3 9.45l-7.72 7.72c-.78.78-.78 2.05 0 2.83L4 21.41c.39.39.9.59 1.41.59.51 0 1.02-.2 1.41-.59l7.78-7.78 2.81-2.81c.8-.78.8-2.07 0-2.86zM5.41 20L4 18.59l7.72-7.72 1.47 1.35L5.41 20z\"/>\n",
              "  </svg>\n",
              "      </button>\n",
              "      \n",
              "  <style>\n",
              "    .colab-df-container {\n",
              "      display:flex;\n",
              "      flex-wrap:wrap;\n",
              "      gap: 12px;\n",
              "    }\n",
              "\n",
              "    .colab-df-convert {\n",
              "      background-color: #E8F0FE;\n",
              "      border: none;\n",
              "      border-radius: 50%;\n",
              "      cursor: pointer;\n",
              "      display: none;\n",
              "      fill: #1967D2;\n",
              "      height: 32px;\n",
              "      padding: 0 0 0 0;\n",
              "      width: 32px;\n",
              "    }\n",
              "\n",
              "    .colab-df-convert:hover {\n",
              "      background-color: #E2EBFA;\n",
              "      box-shadow: 0px 1px 2px rgba(60, 64, 67, 0.3), 0px 1px 3px 1px rgba(60, 64, 67, 0.15);\n",
              "      fill: #174EA6;\n",
              "    }\n",
              "\n",
              "    [theme=dark] .colab-df-convert {\n",
              "      background-color: #3B4455;\n",
              "      fill: #D2E3FC;\n",
              "    }\n",
              "\n",
              "    [theme=dark] .colab-df-convert:hover {\n",
              "      background-color: #434B5C;\n",
              "      box-shadow: 0px 1px 3px 1px rgba(0, 0, 0, 0.15);\n",
              "      filter: drop-shadow(0px 1px 2px rgba(0, 0, 0, 0.3));\n",
              "      fill: #FFFFFF;\n",
              "    }\n",
              "  </style>\n",
              "\n",
              "      <script>\n",
              "        const buttonEl =\n",
              "          document.querySelector('#df-4218e995-578f-490e-82a7-ad7947ebffe1 button.colab-df-convert');\n",
              "        buttonEl.style.display =\n",
              "          google.colab.kernel.accessAllowed ? 'block' : 'none';\n",
              "\n",
              "        async function convertToInteractive(key) {\n",
              "          const element = document.querySelector('#df-4218e995-578f-490e-82a7-ad7947ebffe1');\n",
              "          const dataTable =\n",
              "            await google.colab.kernel.invokeFunction('convertToInteractive',\n",
              "                                                     [key], {});\n",
              "          if (!dataTable) return;\n",
              "\n",
              "          const docLinkHtml = 'Like what you see? Visit the ' +\n",
              "            '<a target=\"_blank\" href=https://colab.research.google.com/notebooks/data_table.ipynb>data table notebook</a>'\n",
              "            + ' to learn more about interactive tables.';\n",
              "          element.innerHTML = '';\n",
              "          dataTable['output_type'] = 'display_data';\n",
              "          await google.colab.output.renderOutput(dataTable, element);\n",
              "          const docLink = document.createElement('div');\n",
              "          docLink.innerHTML = docLinkHtml;\n",
              "          element.appendChild(docLink);\n",
              "        }\n",
              "      </script>\n",
              "    </div>\n",
              "  </div>\n",
              "  "
            ]
          },
          "metadata": {},
          "execution_count": 17
        }
      ]
    },
    {
      "cell_type": "code",
      "source": [
        "avgkaufpreis = df[\"purchasing price [in €]\"].mean()"
      ],
      "metadata": {
        "id": "nqCta3JDsdTy"
      },
      "execution_count": 18,
      "outputs": []
    },
    {
      "cell_type": "code",
      "source": [
        "\n",
        "\n",
        "bins = [0] + list(description[\"purchasing price [in €]\"][\n",
        "    [\"25%\", \"50%\", \"75%\"]\n",
        "].astype(int)) + [np.inf]\n",
        "print(bins) # 0 bis 119.500 = 0 - 25% Quantil, 119.500 bis 179.700 = 25 - 50% Quantil, ...\n",
        "\n"
      ],
      "metadata": {
        "colab": {
          "base_uri": "https://localhost:8080/"
        },
        "id": "APpz1_bQoYbc",
        "outputId": "34ee60cb-af5a-4988-f5c7-e54edf2c66ca"
      },
      "execution_count": 19,
      "outputs": [
        {
          "output_type": "stream",
          "name": "stdout",
          "text": [
            "[0, 1040, 1380, 1900, inf]\n"
          ]
        }
      ]
    },
    {
      "cell_type": "code",
      "source": [
        "\n",
        "\n",
        "df[\"house_cat\"] = pd.cut(\n",
        "    df[\"purchasing price [in €]\"],\n",
        "    bins=bins,\n",
        "    labels=[\"0 - 25%\", \"25 - 50%\", \"50 - 75%\", \"75 - 100%\"]\n",
        ")\n",
        "\n"
      ],
      "metadata": {
        "id": "rzgoKxM7u83W"
      },
      "execution_count": 21,
      "outputs": []
    },
    {
      "cell_type": "code",
      "source": [
        "\n",
        "\n",
        "sns.countplot(data=df, x=\"house_cat\");\n",
        "\n"
      ],
      "metadata": {
        "colab": {
          "base_uri": "https://localhost:8080/",
          "height": 280
        },
        "id": "umvNSGsmvFt4",
        "outputId": "9759ad63-fbd5-44c0-b790-b79f84ebe414"
      },
      "execution_count": 22,
      "outputs": [
        {
          "output_type": "display_data",
          "data": {
            "text/plain": [
              "<Figure size 432x288 with 1 Axes>"
            ],
            "image/png": "[encoded data removed]"
          },
          "metadata": {
            "needs_background": "light"
          }
        }
      ]
    },
    {
      "cell_type": "code",
      "source": [
        "split = StratifiedShuffleSplit(n_splits=1, test_size=0.1, random_state=0)\n",
        "for train_index, test_index in split.split(df, df[\"house_cat\"]):\n",
        "    df_train = df.loc[train_index]\n",
        "    df_test = df.loc[test_index]"
      ],
      "metadata": {
        "id": "v-8OYAaUvmia"
      },
      "execution_count": 23,
      "outputs": []
    },
    {
      "cell_type": "code",
      "source": [
        "\n",
        "\n",
        "sns.countplot(data=df_train, x=\"house_cat\");\n",
        "\n"
      ],
      "metadata": {
        "colab": {
          "base_uri": "https://localhost:8080/",
          "height": 280
        },
        "id": "g-xn_nvqv4Mu",
        "outputId": "8f793cff-5f83-41b9-eef9-1b07fbdfd0b9"
      },
      "execution_count": 24,
      "outputs": [
        {
          "output_type": "display_data",
          "data": {
            "text/plain": [
              "<Figure size 432x288 with 1 Axes>"
            ],
            "image/png": "[encoded data removed]"
          },
          "metadata": {
            "needs_background": "light"
          }
        }
      ]
    },
    {
      "cell_type": "code",
      "source": [
        "\n",
        "\n",
        "sns.countplot(data=df_test, x=\"house_cat\");\n",
        "\n"
      ],
      "metadata": {
        "colab": {
          "base_uri": "https://localhost:8080/",
          "height": 280
        },
        "id": "HHA_Qw5Kv79-",
        "outputId": "e4cbe5a9-0cff-47fb-d3be-c456992e28b7"
      },
      "execution_count": 25,
      "outputs": [
        {
          "output_type": "display_data",
          "data": {
            "text/plain": [
              "<Figure size 432x288 with 1 Axes>"
            ],
            "image/png": "[encoded data removed]"
          },
          "metadata": {
            "needs_background": "light"
          }
        }
      ]
    },
    {
      "cell_type": "code",
      "source": [
        "\n",
        "\n",
        "df_train = df_train.drop(\"house_cat\", axis=1)\n",
        "df_test = df_test.drop(\"house_cat\", axis=1)\n",
        "\n"
      ],
      "metadata": {
        "id": "moRcAOHvwNiB"
      },
      "execution_count": 26,
      "outputs": []
    },
    {
      "cell_type": "markdown",
      "source": [
        "\n",
        "\n",
        "# Correlation calculation"
      ],
      "metadata": {
        "id": "yJftERO00Jyt"
      }
    },
    {
      "cell_type": "code",
      "source": [
        "df_train.corr()[\"purchasing price [in €]\"].abs().sort_values(ascending=False)"
      ],
      "metadata": {
        "colab": {
          "base_uri": "https://localhost:8080/"
        },
        "id": "YO6RoHPHwgKI",
        "outputId": "1475429c-4c89-4cd2-ee99-9d559f167aef"
      },
      "execution_count": 27,
      "outputs": [
        {
          "output_type": "execute_result",
          "data": {
            "text/plain": [
              "purchasing price [in €]    1.000000\n",
              "square metre               0.849145\n",
              "number of rooms            0.719135\n",
              "Name: purchasing price [in €], dtype: float64"
            ]
          },
          "metadata": {},
          "execution_count": 27
        }
      ]
    },
    {
      "cell_type": "code",
      "source": [
        "def engineer_features(df):\n",
        "    df[\"ratio_rooms\"] = df[\"square metre\"] / df[\"number of rooms\"]\n",
        "    return df"
      ],
      "metadata": {
        "id": "rlMlH28v2Ia6"
      },
      "execution_count": 30,
      "outputs": []
    },
    {
      "cell_type": "code",
      "source": [
        "\n",
        "\n",
        "df_train = engineer_features(df_train)\n",
        "df_test = engineer_features(df_test)\n",
        "\n"
      ],
      "metadata": {
        "id": "tTyvBzlI2uih"
      },
      "execution_count": 31,
      "outputs": []
    },
    {
      "cell_type": "code",
      "source": [
        "\n",
        "df_train.corr()[\"purchasing price [in €]\"].abs().sort_values(ascending=False)\n",
        "\n"
      ],
      "metadata": {
        "colab": {
          "base_uri": "https://localhost:8080/"
        },
        "id": "lsxCn4TV2kLH",
        "outputId": "b538a16f-996a-4164-c917-538a7766fa24"
      },
      "execution_count": 32,
      "outputs": [
        {
          "output_type": "execute_result",
          "data": {
            "text/plain": [
              "purchasing price [in €]    1.000000\n",
              "square metre               0.849145\n",
              "number of rooms            0.719135\n",
              "ratio_rooms                0.284673\n",
              "Name: purchasing price [in €], dtype: float64"
            ]
          },
          "metadata": {},
          "execution_count": 32
        }
      ]
    },
    {
      "cell_type": "markdown",
      "source": [
        "# ML-Coding"
      ],
      "metadata": {
        "id": "t4cRzGuKJuGw"
      }
    },
    {
      "cell_type": "code",
      "source": [
        "\n",
        "\n",
        "!pip3 install scikit-learn==1.0.0\n",
        "\n"
      ],
      "metadata": {
        "colab": {
          "base_uri": "https://localhost:8080/"
        },
        "id": "nTtXPDrYJroF",
        "outputId": "cdb90dd2-30ab-4944-97d2-297146890912"
      },
      "execution_count": 1,
      "outputs": [
        {
          "output_type": "stream",
          "name": "stdout",
          "text": [
            "Collecting scikit-learn==1.0.0\n",
            "  Downloading scikit_learn-1.0-cp37-cp37m-manylinux_2_12_x86_64.manylinux2010_x86_64.whl (23.1 MB)\n",
            "\u001b[K     |████████████████████████████████| 23.1 MB 1.3 MB/s \n",
            "\u001b[?25hRequirement already satisfied: numpy>=1.14.6 in /usr/local/lib/python3.7/dist-packages (from scikit-learn==1.0.0) (1.21.6)\n",
            "Requirement already satisfied: threadpoolctl>=2.0.0 in /usr/local/lib/python3.7/dist-packages (from scikit-learn==1.0.0) (3.1.0)\n",
            "Requirement already satisfied: joblib>=0.11 in /usr/local/lib/python3.7/dist-packages (from scikit-learn==1.0.0) (1.1.0)\n",
            "Requirement already satisfied: scipy>=1.1.0 in /usr/local/lib/python3.7/dist-packages (from scikit-learn==1.0.0) (1.4.1)\n",
            "Installing collected packages: scikit-learn\n",
            "  Attempting uninstall: scikit-learn\n",
            "    Found existing installation: scikit-learn 1.0.2\n",
            "    Uninstalling scikit-learn-1.0.2:\n",
            "      Successfully uninstalled scikit-learn-1.0.2\n",
            "Successfully installed scikit-learn-1.0\n"
          ]
        }
      ]
    },
    {
      "cell_type": "code",
      "source": [
        "import os # u.a. zur Entwicklugn plattformübergreifender Systempfade\n",
        "import pandas as pd # Datenmanagement\n",
        "import numpy as np # Hilfsfunktionen für mathematische Operationen\n",
        "\n",
        "# Datenvisualisierung\n",
        "import seaborn as sns \n",
        "%matplotlib inline\n",
        "import matplotlib.pyplot as plt\n",
        "from pandas.plotting import scatter_matrix\n",
        "\n",
        "from sklearn.model_selection import StratifiedShuffleSplit, train_test_split # Datensplits\n",
        "from sklearn.linear_model import LinearRegression # Machine Learning\n",
        "from sklearn import metrics # Modellevaluierung\n",
        "\n",
        "## eigene Funktionen\n",
        "##def filter_df_by_proximity(df, proximity):\n",
        "##    return df.loc[df[\"ocean_proximity\"] == proximity]\n",
        "\n",
        "##def engineer_features(df):\n",
        "##    df[\"ratio_bedrooms\"] = df[\"total_bedrooms\"] / df[\"total_rooms\"]\n",
        "##    df[\"people_per_household\"] = df[\"population\"] / df[\"households\"]\n",
        "##    return df\n",
        "\n",
        "##def get_features_and_targets(df):\n",
        "##    X = df.drop([\"median_house_value\"], axis=1).values\n",
        "##    y = np.stack(df[\"median_house_value\"])\n",
        "##    return X, y"
      ],
      "metadata": {
        "id": "fTvrBAF3M84S"
      },
      "execution_count": 2,
      "outputs": []
    },
    {
      "cell_type": "code",
      "source": [
        "df2 = pd.read_csv('final test python.csv') # Wir lesen die Datei housing.csv ein\n",
        "\n",
        "del df2['scraped location']\n",
        "\n",
        "del df2['City district']\n",
        "del df2['Indikatoren 2021.city district']\n"
      ],
      "metadata": {
        "colab": {
          "base_uri": "https://localhost:8080/",
          "height": 561
        },
        "id": "KRhK9yOKr-D-",
        "outputId": "5d4fc7fa-8a6b-4c4b-a729-00d96fe2f767"
      },
      "execution_count": 56,
      "outputs": [
        {
          "output_type": "execute_result",
          "data": {
            "text/plain": [
              "   purchasing price [in €]  number of rooms  square metre  \\\n",
              "0                    970.0              1.0         28.00   \n",
              "1                    980.0              1.0         30.00   \n",
              "2                    790.0              1.0         32.00   \n",
              "3                   2946.0              3.0        107.12   \n",
              "4                    820.0              2.5         65.00   \n",
              "5                    990.0              1.0         35.00   \n",
              "6                   1000.0              1.0         33.00   \n",
              "7                   1535.0              2.0         69.00   \n",
              "8                    792.0              1.0         24.00   \n",
              "9                   1215.0              1.0         36.00   \n",
              "\n",
              "   Indikatoren 2021.crime rate  Indikatoren 2021.Population  - total  \\\n",
              "0                     0.044207                               75658.0   \n",
              "1                     0.044207                               75658.0   \n",
              "2                     0.044207                               75658.0   \n",
              "3                     0.081244                               20626.0   \n",
              "4                     0.081244                               20626.0   \n",
              "5                     0.035716                               99260.0   \n",
              "6                     0.035716                               99260.0   \n",
              "7                     0.035716                               99260.0   \n",
              "8                     0.035716                               99260.0   \n",
              "9                     0.028373                               68255.0   \n",
              "\n",
              "   Indikatoren 2021.Population  - german with migration background  \\\n",
              "0                                               21.7                 \n",
              "1                                               21.7                 \n",
              "2                                               21.7                 \n",
              "3                                               14.4                 \n",
              "4                                               14.4                 \n",
              "5                                               16.4                 \n",
              "6                                               16.4                 \n",
              "7                                               16.4                 \n",
              "8                                               16.4                 \n",
              "9                                               15.8                 \n",
              "\n",
              "   Indikatoren 2021.Population  - women (15 to 44)  \\\n",
              "0                                          16793.0   \n",
              "1                                          16793.0   \n",
              "2                                          16793.0   \n",
              "3                                           5009.0   \n",
              "4                                           5009.0   \n",
              "5                                          19884.0   \n",
              "6                                          19884.0   \n",
              "7                                          19884.0   \n",
              "8                                          19884.0   \n",
              "9                                          17107.0   \n",
              "\n",
              "   Indikatoren 2021.Population  - not german  \\\n",
              "0                                       42.0   \n",
              "1                                       42.0   \n",
              "2                                       42.0   \n",
              "3                                       24.7   \n",
              "4                                       24.7   \n",
              "5                                       28.6   \n",
              "6                                       28.6   \n",
              "7                                       28.6   \n",
              "8                                       28.6   \n",
              "9                                       23.3   \n",
              "\n",
              "   Indikatoren 2021.Population  - total (0 to 17)  \\\n",
              "0                                            15.1   \n",
              "1                                            15.1   \n",
              "2                                            15.1   \n",
              "3                                            12.0   \n",
              "4                                            12.0   \n",
              "5                                            15.7   \n",
              "6                                            15.7   \n",
              "7                                            15.7   \n",
              "8                                            15.7   \n",
              "9                                            12.8   \n",
              "\n",
              "   Indikatoren 2021.Population  - not german (0 to 17)  ...  \\\n",
              "0                                                8.6    ...   \n",
              "1                                                8.6    ...   \n",
              "2                                                8.6    ...   \n",
              "3                                                6.3    ...   \n",
              "4                                                6.3    ...   \n",
              "5                                               11.5    ...   \n",
              "6                                               11.5    ...   \n",
              "7                                               11.5    ...   \n",
              "8                                               11.5    ...   \n",
              "9                                                6.8    ...   \n",
              "\n",
              "   Indikatoren 2021.Migration rates - Exterior migration  \\\n",
              "0                                                1.0       \n",
              "1                                                1.0       \n",
              "2                                                1.0       \n",
              "3                                               -9.4       \n",
              "4                                               -9.4       \n",
              "5                                               -3.8       \n",
              "6                                               -3.8       \n",
              "7                                               -3.8       \n",
              "8                                               -3.8       \n",
              "9                                               -3.3       \n",
              "\n",
              "   Indikatoren 2021.Migration rates - overall migration  \\\n",
              "0                                               -8.2      \n",
              "1                                               -8.2      \n",
              "2                                               -8.2      \n",
              "3                                              -20.0      \n",
              "4                                              -20.0      \n",
              "5                                                4.6      \n",
              "6                                                4.6      \n",
              "7                                                4.6      \n",
              "8                                                4.6      \n",
              "9                                              -11.2      \n",
              "\n",
              "   Indikatoren 2021.Migration rates by nationality - medium population (german)  \\\n",
              "0                                            44262.0                              \n",
              "1                                            44262.0                              \n",
              "2                                            44262.0                              \n",
              "3                                            15580.0                              \n",
              "4                                            15580.0                              \n",
              "5                                            71021.0                              \n",
              "6                                            71021.0                              \n",
              "7                                            71021.0                              \n",
              "8                                            71021.0                              \n",
              "9                                            52620.0                              \n",
              "\n",
              "   Indikatoren 2021.Migration rates by nationality - medium population (not german)  \\\n",
              "0                                            31520.0                                  \n",
              "1                                            31520.0                                  \n",
              "2                                            31520.0                                  \n",
              "3                                             5154.0                                  \n",
              "4                                             5154.0                                  \n",
              "5                                            28018.0                                  \n",
              "6                                            28018.0                                  \n",
              "7                                            28018.0                                  \n",
              "8                                            28018.0                                  \n",
              "9                                            15835.0                                  \n",
              "\n",
              "   Indikatoren 2021.Migration rates by nationality - Internal migration (german)  \\\n",
              "0                                              -14.8                               \n",
              "1                                              -14.8                               \n",
              "2                                              -14.8                               \n",
              "3                                               -6.2                               \n",
              "4                                               -6.2                               \n",
              "5                                                8.7                               \n",
              "6                                                8.7                               \n",
              "7                                                8.7                               \n",
              "8                                                8.7                               \n",
              "9                                              -10.5                               \n",
              "\n",
              "   Indikatoren 2021.Migration rates by nationality - Internal migration (not german  \\\n",
              "0                                               -1.4                                  \n",
              "1                                               -1.4                                  \n",
              "2                                               -1.4                                  \n",
              "3                                              -24.1                                  \n",
              "4                                              -24.1                                  \n",
              "5                                                7.6                                  \n",
              "6                                                7.6                                  \n",
              "7                                                7.6                                  \n",
              "8                                                7.6                                  \n",
              "9                                                0.7                                  \n",
              "\n",
              "   Indikatoren 2021.Migration rates by nationality - Exterior migration (german)  \\\n",
              "0                                              -16.7                               \n",
              "1                                              -16.7                               \n",
              "2                                              -16.7                               \n",
              "3                                              -11.0                               \n",
              "4                                              -11.0                               \n",
              "5                                              -16.3                               \n",
              "6                                              -16.3                               \n",
              "7                                              -16.3                               \n",
              "8                                              -16.3                               \n",
              "9                                              -10.9                               \n",
              "\n",
              "   Indikatoren 2021.Migration rates by nationality - Exterior migration (not german  \\\n",
              "0                                               25.8                                  \n",
              "1                                               25.8                                  \n",
              "2                                               25.8                                  \n",
              "3                                               -4.3                                  \n",
              "4                                               -4.3                                  \n",
              "5                                               27.9                                  \n",
              "6                                               27.9                                  \n",
              "7                                               27.9                                  \n",
              "8                                               27.9                                  \n",
              "9                                               21.8                                  \n",
              "\n",
              "   Indikatoren 2021.Migration rates by nationality - overall migration (german)  \\\n",
              "0                                              -31.5                              \n",
              "1                                              -31.5                              \n",
              "2                                              -31.5                              \n",
              "3                                              -17.3                              \n",
              "4                                              -17.3                              \n",
              "5                                               -7.6                              \n",
              "6                                               -7.6                              \n",
              "7                                               -7.6                              \n",
              "8                                               -7.6                              \n",
              "9                                              -21.4                              \n",
              "\n",
              "   Indikatoren 2021.Migration rates by nationality - overall migration (not german)  \n",
              "0                                               24.4                                 \n",
              "1                                               24.4                                 \n",
              "2                                               24.4                                 \n",
              "3                                              -28.3                                 \n",
              "4                                              -28.3                                 \n",
              "5                                               35.5                                 \n",
              "6                                               35.5                                 \n",
              "7                                               35.5                                 \n",
              "8                                               35.5                                 \n",
              "9                                               22.5                                 \n",
              "\n",
              "[10 rows x 114 columns]"
            ],
            "text/html": [
              "\n",
              "  <div id=\"df-42ad930c-1130-4629-943f-f028c2a41339\">\n",
              "    <div class=\"colab-df-container\">\n",
              "      <div>\n",
              "<style scoped>\n",
              "    .dataframe tbody tr th:only-of-type {\n",
              "        vertical-align: middle;\n",
              "    }\n",
              "\n",
              "    .dataframe tbody tr th {\n",
              "        vertical-align: top;\n",
              "    }\n",
              "\n",
              "    .dataframe thead th {\n",
              "        text-align: right;\n",
              "    }\n",
              "</style>\n",
              "<table border=\"1\" class=\"dataframe\">\n",
              "  <thead>\n",
              "    <tr style=\"text-align: right;\">\n",
              "      <th></th>\n",
              "      <th>purchasing price [in €]</th>\n",
              "      <th>number of rooms</th>\n",
              "      <th>square metre</th>\n",
              "      <th>Indikatoren 2021.crime rate</th>\n",
              "      <th>Indikatoren 2021.Population  - total</th>\n",
              "      <th>Indikatoren 2021.Population  - german with migration background</th>\n",
              "      <th>Indikatoren 2021.Population  - women (15 to 44)</th>\n",
              "      <th>Indikatoren 2021.Population  - not german</th>\n",
              "      <th>Indikatoren 2021.Population  - total (0 to 17)</th>\n",
              "      <th>Indikatoren 2021.Population  - not german (0 to 17)</th>\n",
              "      <th>...</th>\n",
              "      <th>Indikatoren 2021.Migration rates - Exterior migration</th>\n",
              "      <th>Indikatoren 2021.Migration rates - overall migration</th>\n",
              "      <th>Indikatoren 2021.Migration rates by nationality - medium population (german)</th>\n",
              "      <th>Indikatoren 2021.Migration rates by nationality - medium population (not german)</th>\n",
              "      <th>Indikatoren 2021.Migration rates by nationality - Internal migration (german)</th>\n",
              "      <th>Indikatoren 2021.Migration rates by nationality - Internal migration (not german</th>\n",
              "      <th>Indikatoren 2021.Migration rates by nationality - Exterior migration (german)</th>\n",
              "      <th>Indikatoren 2021.Migration rates by nationality - Exterior migration (not german</th>\n",
              "      <th>Indikatoren 2021.Migration rates by nationality - overall migration (german)</th>\n",
              "      <th>Indikatoren 2021.Migration rates by nationality - overall migration (not german)</th>\n",
              "    </tr>\n",
              "  </thead>\n",
              "  <tbody>\n",
              "    <tr>\n",
              "      <th>0</th>\n",
              "      <td>970.0</td>\n",
              "      <td>1.0</td>\n",
              "      <td>28.00</td>\n",
              "      <td>0.044207</td>\n",
              "      <td>75658.0</td>\n",
              "      <td>21.7</td>\n",
              "      <td>16793.0</td>\n",
              "      <td>42.0</td>\n",
              "      <td>15.1</td>\n",
              "      <td>8.6</td>\n",
              "      <td>...</td>\n",
              "      <td>1.0</td>\n",
              "      <td>-8.2</td>\n",
              "      <td>44262.0</td>\n",
              "      <td>31520.0</td>\n",
              "      <td>-14.8</td>\n",
              "      <td>-1.4</td>\n",
              "      <td>-16.7</td>\n",
              "      <td>25.8</td>\n",
              "      <td>-31.5</td>\n",
              "      <td>24.4</td>\n",
              "    </tr>\n",
              "    <tr>\n",
              "      <th>1</th>\n",
              "      <td>980.0</td>\n",
              "      <td>1.0</td>\n",
              "      <td>30.00</td>\n",
              "      <td>0.044207</td>\n",
              "      <td>75658.0</td>\n",
              "      <td>21.7</td>\n",
              "      <td>16793.0</td>\n",
              "      <td>42.0</td>\n",
              "      <td>15.1</td>\n",
              "      <td>8.6</td>\n",
              "      <td>...</td>\n",
              "      <td>1.0</td>\n",
              "      <td>-8.2</td>\n",
              "      <td>44262.0</td>\n",
              "      <td>31520.0</td>\n",
              "      <td>-14.8</td>\n",
              "      <td>-1.4</td>\n",
              "      <td>-16.7</td>\n",
              "      <td>25.8</td>\n",
              "      <td>-31.5</td>\n",
              "      <td>24.4</td>\n",
              "    </tr>\n",
              "    <tr>\n",
              "      <th>2</th>\n",
              "      <td>790.0</td>\n",
              "      <td>1.0</td>\n",
              "      <td>32.00</td>\n",
              "      <td>0.044207</td>\n",
              "      <td>75658.0</td>\n",
              "      <td>21.7</td>\n",
              "      <td>16793.0</td>\n",
              "      <td>42.0</td>\n",
              "      <td>15.1</td>\n",
              "      <td>8.6</td>\n",
              "      <td>...</td>\n",
              "      <td>1.0</td>\n",
              "      <td>-8.2</td>\n",
              "      <td>44262.0</td>\n",
              "      <td>31520.0</td>\n",
              "      <td>-14.8</td>\n",
              "      <td>-1.4</td>\n",
              "      <td>-16.7</td>\n",
              "      <td>25.8</td>\n",
              "      <td>-31.5</td>\n",
              "      <td>24.4</td>\n",
              "    </tr>\n",
              "    <tr>\n",
              "      <th>3</th>\n",
              "      <td>2946.0</td>\n",
              "      <td>3.0</td>\n",
              "      <td>107.12</td>\n",
              "      <td>0.081244</td>\n",
              "      <td>20626.0</td>\n",
              "      <td>14.4</td>\n",
              "      <td>5009.0</td>\n",
              "      <td>24.7</td>\n",
              "      <td>12.0</td>\n",
              "      <td>6.3</td>\n",
              "      <td>...</td>\n",
              "      <td>-9.4</td>\n",
              "      <td>-20.0</td>\n",
              "      <td>15580.0</td>\n",
              "      <td>5154.0</td>\n",
              "      <td>-6.2</td>\n",
              "      <td>-24.1</td>\n",
              "      <td>-11.0</td>\n",
              "      <td>-4.3</td>\n",
              "      <td>-17.3</td>\n",
              "      <td>-28.3</td>\n",
              "    </tr>\n",
              "    <tr>\n",
              "      <th>4</th>\n",
              "      <td>820.0</td>\n",
              "      <td>2.5</td>\n",
              "      <td>65.00</td>\n",
              "      <td>0.081244</td>\n",
              "      <td>20626.0</td>\n",
              "      <td>14.4</td>\n",
              "      <td>5009.0</td>\n",
              "      <td>24.7</td>\n",
              "      <td>12.0</td>\n",
              "      <td>6.3</td>\n",
              "      <td>...</td>\n",
              "      <td>-9.4</td>\n",
              "      <td>-20.0</td>\n",
              "      <td>15580.0</td>\n",
              "      <td>5154.0</td>\n",
              "      <td>-6.2</td>\n",
              "      <td>-24.1</td>\n",
              "      <td>-11.0</td>\n",
              "      <td>-4.3</td>\n",
              "      <td>-17.3</td>\n",
              "      <td>-28.3</td>\n",
              "    </tr>\n",
              "    <tr>\n",
              "      <th>5</th>\n",
              "      <td>990.0</td>\n",
              "      <td>1.0</td>\n",
              "      <td>35.00</td>\n",
              "      <td>0.035716</td>\n",
              "      <td>99260.0</td>\n",
              "      <td>16.4</td>\n",
              "      <td>19884.0</td>\n",
              "      <td>28.6</td>\n",
              "      <td>15.7</td>\n",
              "      <td>11.5</td>\n",
              "      <td>...</td>\n",
              "      <td>-3.8</td>\n",
              "      <td>4.6</td>\n",
              "      <td>71021.0</td>\n",
              "      <td>28018.0</td>\n",
              "      <td>8.7</td>\n",
              "      <td>7.6</td>\n",
              "      <td>-16.3</td>\n",
              "      <td>27.9</td>\n",
              "      <td>-7.6</td>\n",
              "      <td>35.5</td>\n",
              "    </tr>\n",
              "    <tr>\n",
              "      <th>6</th>\n",
              "      <td>1000.0</td>\n",
              "      <td>1.0</td>\n",
              "      <td>33.00</td>\n",
              "      <td>0.035716</td>\n",
              "      <td>99260.0</td>\n",
              "      <td>16.4</td>\n",
              "      <td>19884.0</td>\n",
              "      <td>28.6</td>\n",
              "      <td>15.7</td>\n",
              "      <td>11.5</td>\n",
              "      <td>...</td>\n",
              "      <td>-3.8</td>\n",
              "      <td>4.6</td>\n",
              "      <td>71021.0</td>\n",
              "      <td>28018.0</td>\n",
              "      <td>8.7</td>\n",
              "      <td>7.6</td>\n",
              "      <td>-16.3</td>\n",
              "      <td>27.9</td>\n",
              "      <td>-7.6</td>\n",
              "      <td>35.5</td>\n",
              "    </tr>\n",
              "    <tr>\n",
              "      <th>7</th>\n",
              "      <td>1535.0</td>\n",
              "      <td>2.0</td>\n",
              "      <td>69.00</td>\n",
              "      <td>0.035716</td>\n",
              "      <td>99260.0</td>\n",
              "      <td>16.4</td>\n",
              "      <td>19884.0</td>\n",
              "      <td>28.6</td>\n",
              "      <td>15.7</td>\n",
              "      <td>11.5</td>\n",
              "      <td>...</td>\n",
              "      <td>-3.8</td>\n",
              "      <td>4.6</td>\n",
              "      <td>71021.0</td>\n",
              "      <td>28018.0</td>\n",
              "      <td>8.7</td>\n",
              "      <td>7.6</td>\n",
              "      <td>-16.3</td>\n",
              "      <td>27.9</td>\n",
              "      <td>-7.6</td>\n",
              "      <td>35.5</td>\n",
              "    </tr>\n",
              "    <tr>\n",
              "      <th>8</th>\n",
              "      <td>792.0</td>\n",
              "      <td>1.0</td>\n",
              "      <td>24.00</td>\n",
              "      <td>0.035716</td>\n",
              "      <td>99260.0</td>\n",
              "      <td>16.4</td>\n",
              "      <td>19884.0</td>\n",
              "      <td>28.6</td>\n",
              "      <td>15.7</td>\n",
              "      <td>11.5</td>\n",
              "      <td>...</td>\n",
              "      <td>-3.8</td>\n",
              "      <td>4.6</td>\n",
              "      <td>71021.0</td>\n",
              "      <td>28018.0</td>\n",
              "      <td>8.7</td>\n",
              "      <td>7.6</td>\n",
              "      <td>-16.3</td>\n",
              "      <td>27.9</td>\n",
              "      <td>-7.6</td>\n",
              "      <td>35.5</td>\n",
              "    </tr>\n",
              "    <tr>\n",
              "      <th>9</th>\n",
              "      <td>1215.0</td>\n",
              "      <td>1.0</td>\n",
              "      <td>36.00</td>\n",
              "      <td>0.028373</td>\n",
              "      <td>68255.0</td>\n",
              "      <td>15.8</td>\n",
              "      <td>17107.0</td>\n",
              "      <td>23.3</td>\n",
              "      <td>12.8</td>\n",
              "      <td>6.8</td>\n",
              "      <td>...</td>\n",
              "      <td>-3.3</td>\n",
              "      <td>-11.2</td>\n",
              "      <td>52620.0</td>\n",
              "      <td>15835.0</td>\n",
              "      <td>-10.5</td>\n",
              "      <td>0.7</td>\n",
              "      <td>-10.9</td>\n",
              "      <td>21.8</td>\n",
              "      <td>-21.4</td>\n",
              "      <td>22.5</td>\n",
              "    </tr>\n",
              "  </tbody>\n",
              "</table>\n",
              "<p>10 rows × 114 columns</p>\n",
              "</div>\n",
              "      <button class=\"colab-df-convert\" onclick=\"convertToInteractive('df-42ad930c-1130-4629-943f-f028c2a41339')\"\n",
              "              title=\"Convert this dataframe to an interactive table.\"\n",
              "              style=\"display:none;\">\n",
              "        \n",
              "  <svg xmlns=\"http://www.w3.org/2000/svg\" height=\"24px\"viewBox=\"0 0 24 24\"\n",
              "       width=\"24px\">\n",
              "    <path d=\"M0 0h24v24H0V0z\" fill=\"none\"/>\n",
              "    <path d=\"M18.56 5.44l.94 2.06.94-2.06 2.06-.94-2.06-.94-.94-2.06-.94 2.06-2.06.94zm-11 1L8.5 8.5l.94-2.06 2.06-.94-2.06-.94L8.5 2.5l-.94 2.06-2.06.94zm10 10l.94 2.06.94-2.06 2.06-.94-2.06-.94-.94-2.06-.94 2.06-2.06.94z\"/><path d=\"M17.41 7.96l-1.37-1.37c-.4-.4-.92-.59-1.43-.59-.52 0-1.04.2-1.43.59L10.3 9.45l-7.72 7.72c-.78.78-.78 2.05 0 2.83L4 21.41c.39.39.9.59 1.41.59.51 0 1.02-.2 1.41-.59l7.78-7.78 2.81-2.81c.8-.78.8-2.07 0-2.86zM5.41 20L4 18.59l7.72-7.72 1.47 1.35L5.41 20z\"/>\n",
              "  </svg>\n",
              "      </button>\n",
              "      \n",
              "  <style>\n",
              "    .colab-df-container {\n",
              "      display:flex;\n",
              "      flex-wrap:wrap;\n",
              "      gap: 12px;\n",
              "    }\n",
              "\n",
              "    .colab-df-convert {\n",
              "      background-color: #E8F0FE;\n",
              "      border: none;\n",
              "      border-radius: 50%;\n",
              "      cursor: pointer;\n",
              "      display: none;\n",
              "      fill: #1967D2;\n",
              "      height: 32px;\n",
              "      padding: 0 0 0 0;\n",
              "      width: 32px;\n",
              "    }\n",
              "\n",
              "    .colab-df-convert:hover {\n",
              "      background-color: #E2EBFA;\n",
              "      box-shadow: 0px 1px 2px rgba(60, 64, 67, 0.3), 0px 1px 3px 1px rgba(60, 64, 67, 0.15);\n",
              "      fill: #174EA6;\n",
              "    }\n",
              "\n",
              "    [theme=dark] .colab-df-convert {\n",
              "      background-color: #3B4455;\n",
              "      fill: #D2E3FC;\n",
              "    }\n",
              "\n",
              "    [theme=dark] .colab-df-convert:hover {\n",
              "      background-color: #434B5C;\n",
              "      box-shadow: 0px 1px 3px 1px rgba(0, 0, 0, 0.15);\n",
              "      filter: drop-shadow(0px 1px 2px rgba(0, 0, 0, 0.3));\n",
              "      fill: #FFFFFF;\n",
              "    }\n",
              "  </style>\n",
              "\n",
              "      <script>\n",
              "        const buttonEl =\n",
              "          document.querySelector('#df-42ad930c-1130-4629-943f-f028c2a41339 button.colab-df-convert');\n",
              "        buttonEl.style.display =\n",
              "          google.colab.kernel.accessAllowed ? 'block' : 'none';\n",
              "\n",
              "        async function convertToInteractive(key) {\n",
              "          const element = document.querySelector('#df-42ad930c-1130-4629-943f-f028c2a41339');\n",
              "          const dataTable =\n",
              "            await google.colab.kernel.invokeFunction('convertToInteractive',\n",
              "                                                     [key], {});\n",
              "          if (!dataTable) return;\n",
              "\n",
              "          const docLinkHtml = 'Like what you see? Visit the ' +\n",
              "            '<a target=\"_blank\" href=https://colab.research.google.com/notebooks/data_table.ipynb>data table notebook</a>'\n",
              "            + ' to learn more about interactive tables.';\n",
              "          element.innerHTML = '';\n",
              "          dataTable['output_type'] = 'display_data';\n",
              "          await google.colab.output.renderOutput(dataTable, element);\n",
              "          const docLink = document.createElement('div');\n",
              "          docLink.innerHTML = docLinkHtml;\n",
              "          element.appendChild(docLink);\n",
              "        }\n",
              "      </script>\n",
              "    </div>\n",
              "  </div>\n",
              "  "
            ]
          },
          "metadata": {},
          "execution_count": 56
        }
      ]
    },
    {
      "cell_type": "code",
      "source": [
        "import os\n",
        "import tarfile\n",
        "import urllib.request\n",
        "\n",
        "df2 = pd.read_csv('final test python.csv') # Wir lesen die Datei housing.csv ein\n",
        "\n",
        "del df2['scraped location']\n",
        "\n",
        "del df2['City district']\n",
        "del df2['Indikatoren 2021.city district']\n",
        "\n",
        "\n",
        "\n",
        "df2 = df2.dropna() # löscht alle Zeile mit fehlenden Attributen\n",
        "df2 = df2.reset_index(drop=True) # zählt unsere Daten neu durch\n",
        "\n",
        "def get_features_and_targets(df2):\n",
        "    X = df2.drop([\"purchasing price [in €]\"], axis=1).values\n",
        "    y = np.stack(df2[\"purchasing price [in €]\"])\n",
        "    return X, y\n",
        "\n",
        "description = df2.describe()\n",
        "\n",
        "bins = [0] + list(description[\"purchasing price [in €]\"][\n",
        "    [\"25%\", \"50%\", \"75%\"]\n",
        "].astype(int)) + [np.inf]\n",
        "\n",
        "df2[\"house_cat\"] = pd.cut(\n",
        "    df2[\"purchasing price [in €]\"],\n",
        "    bins=bins,\n",
        "    labels=[\"0 - 25%\", \"25 - 50%\", \"50 - 75%\", \"75 - 100%\"]\n",
        ")\n",
        "\n",
        "split = StratifiedShuffleSplit(n_splits=1, test_size=0.1, random_state=0)\n",
        "for train_index, test_index in split.split(df2, df2[\"house_cat\"]):\n",
        "    df2_train = df2.loc[train_index]\n",
        "    df2_test = df2.loc[test_index]\n",
        "    \n",
        "df2_train = df2_train.drop(\"house_cat\", axis=1)\n",
        "df2_test = df2_test.drop(\"house_cat\", axis=1)\n",
        "\n",
        "##df_train = df_train.drop(filter_df_by_proximity(df_train, \"ISLAND\").index)\n",
        "##df_test = df_test.drop(filter_df_by_proximity(df_test, \"ISLAND\").index)\n",
        "\n",
        "##df_train = engineer_features(df_train)\n",
        "##df_test = engineer_features(df_test)\n",
        "\n",
        "df2_train_ml = pd.get_dummies(df2_train) # One-Hot Encoding\n",
        "df2_test_ml = pd.get_dummies(df2_test)\n",
        "\n",
        "X_train, y_train = get_features_and_targets(df2_train_ml)\n",
        "X_test, y_test = get_features_and_targets(df2_test_ml)\n",
        "\n",
        "\n",
        "\n",
        "\n",
        "clf = LinearRegression()\n",
        "clf.fit(X_train, y_train)"
      ],
      "metadata": {
        "colab": {
          "base_uri": "https://localhost:8080/"
        },
        "id": "XPr0mnOVN1s4",
        "outputId": "b486d705-a722-4c79-ca55-289a3ac56147"
      },
      "execution_count": 59,
      "outputs": [
        {
          "output_type": "execute_result",
          "data": {
            "text/plain": [
              "LinearRegression()"
            ]
          },
          "metadata": {},
          "execution_count": 59
        }
      ]
    },
    {
      "cell_type": "code",
      "source": [
        "\n",
        "\n",
        "predictions = clf.predict(X_test)\n",
        "\n"
      ],
      "metadata": {
        "id": "iGJHgoM2u6Sr"
      },
      "execution_count": 60,
      "outputs": []
    },
    {
      "cell_type": "code",
      "source": [
        "print(\"Prediction\\t|True Value\")\n",
        "print(\"-\"*30)\n",
        "for idx, (pred, annotation) in enumerate(zip(predictions, y_test)):\n",
        "    if idx == 25:\n",
        "        break\n",
        "    pred = int(pred)\n",
        "    annotation = int(annotation)\n",
        "    print(f\"{pred}\\t\\t|{annotation}\")"
      ],
      "metadata": {
        "colab": {
          "base_uri": "https://localhost:8080/"
        },
        "id": "oHlMEKT1u8ef",
        "outputId": "41d61edb-eac5-4607-c312-c546840e8443"
      },
      "execution_count": 66,
      "outputs": [
        {
          "output_type": "stream",
          "name": "stdout",
          "text": [
            "Prediction\t|True Value\n",
            "------------------------------\n",
            "1474\t\t|1150\n",
            "1081\t\t|900\n",
            "580\t\t|2850\n",
            "3108\t\t|2600\n",
            "1733\t\t|1870\n",
            "666\t\t|550\n",
            "2469\t\t|2190\n",
            "933\t\t|990\n",
            "3073\t\t|3350\n",
            "1133\t\t|1070\n",
            "2413\t\t|1838\n",
            "1209\t\t|1033\n",
            "886\t\t|1100\n",
            "1550\t\t|1450\n",
            "1945\t\t|1500\n",
            "629\t\t|712\n",
            "1977\t\t|2120\n",
            "1036\t\t|2963\n",
            "1230\t\t|970\n",
            "797\t\t|880\n",
            "1700\t\t|1600\n",
            "803\t\t|750\n",
            "744\t\t|971\n",
            "812\t\t|975\n",
            "1579\t\t|1250\n"
          ]
        }
      ]
    },
    {
      "cell_type": "code",
      "source": [
        "mae = metrics.mean_absolute_error(y_test, predictions)\n",
        "mae_ratio = metrics.mean_absolute_percentage_error(y_test, predictions)\n",
        "r2_score = metrics.r2_score(y_test, predictions)"
      ],
      "metadata": {
        "id": "-aov9rEQwdNO"
      },
      "execution_count": 62,
      "outputs": []
    },
    {
      "cell_type": "code",
      "source": [
        "\n",
        "\n",
        "print(f\"Wir können durchschnittlich mit einem Fehler von {np.round(mae)} rechnen;\")\n",
        "print(f\"Das entspricht im Schnitt einer Fehlerquote von {np.round(mae_ratio * 100)}%;\")\n",
        "print(f\"Der R^2 Werte liegt bei {np.round(r2_score * 100)}%\")\n",
        "\n"
      ],
      "metadata": {
        "colab": {
          "base_uri": "https://localhost:8080/"
        },
        "id": "Jtc2jw4xwgjy",
        "outputId": "55841d64-4ecc-41f5-d133-7c534e692a5b"
      },
      "execution_count": 63,
      "outputs": [
        {
          "output_type": "stream",
          "name": "stdout",
          "text": [
            "Wir können durchschnittlich mit einem Fehler von 299.0 rechnen;\n",
            "Das entspricht im Schnitt einer Fehlerquote von 22.0%;\n",
            "Der R^2 Werte liegt bei 80.0%\n"
          ]
        }
      ]
    },
    {
      "cell_type": "code",
      "source": [
        "\n",
        "\n",
        "df2_test.iloc[0]\n",
        "\n"
      ],
      "metadata": {
        "colab": {
          "base_uri": "https://localhost:8080/"
        },
        "id": "4dkpB8H1zbTb",
        "outputId": "5637db57-3b3e-4173-be63-e6a14d980306"
      },
      "execution_count": 68,
      "outputs": [
        {
          "output_type": "execute_result",
          "data": {
            "text/plain": [
              "purchasing price [in €]                                                              1150.000000\n",
              "number of rooms                                                                         2.000000\n",
              "square metre                                                                           60.000000\n",
              "Indikatoren 2021.crime rate                                                             0.023078\n",
              "Indikatoren 2021.Population  - total                                                40704.000000\n",
              "                                                                                        ...     \n",
              "Indikatoren 2021.Migration rates by nationality - Internal migration (not german        7.300000\n",
              "Indikatoren 2021.Migration rates by nationality - Exterior migration (german)         -16.400000\n",
              "Indikatoren 2021.Migration rates by nationality - Exterior migration (not german        5.300000\n",
              "Indikatoren 2021.Migration rates by nationality - overall migration (german)          -19.500000\n",
              "Indikatoren 2021.Migration rates by nationality - overall migration (not german)       12.700000\n",
              "Name: 3447, Length: 114, dtype: float64"
            ]
          },
          "metadata": {},
          "execution_count": 68
        }
      ]
    },
    {
      "cell_type": "code",
      "source": [
        "X_test[0]"
      ],
      "metadata": {
        "colab": {
          "base_uri": "https://localhost:8080/"
        },
        "id": "gxZp8FqSzjka",
        "outputId": "6e2178d7-14db-451d-aa5f-a00cd31f82dc"
      },
      "execution_count": 69,
      "outputs": [
        {
          "output_type": "execute_result",
          "data": {
            "text/plain": [
              "array([ 2.0000000e+00,  6.0000000e+01,  2.3078442e-02,  4.0704000e+04,\n",
              "        1.5200000e+01,  9.8420000e+03,  2.7000000e+01,  1.3200000e+01,\n",
              "        8.0000000e+00,  7.2300000e+01,  7.9400000e+01,  1.4600000e+01,\n",
              "        4.6360000e+03,  3.0133000e+04,  5.9350000e+03,  2.8400000e+03,\n",
              "        1.5400000e+01,  1.9700000e+01,  1.2800000e+02,  7.0000000e+00,\n",
              "        1.2600000e+01,  5.6100000e+01,  3.2300000e+01,  7.8000000e+00,\n",
              "        3.7000000e+00,  2.6400000e+01,  9.6000000e+00,  1.2000000e+00,\n",
              "        2.0000000e-01,  1.0000000e-01,  6.2500000e+01,  1.0300000e+02,\n",
              "        1.3000000e+00,  1.2900000e+01,  5.2500000e+02,  5.3300000e+01,\n",
              "        3.0100000e+02,  5.2100000e+02,  1.0200000e+02,  2.9250000e+03,\n",
              "        1.1810000e+03,  2.3740000e+03,  1.1510000e+03,  2.9370000e+03,\n",
              "        1.1000000e+03,  2.8040000e+03,  1.0920000e+03, -4.4200000e+02,\n",
              "        1.4000000e+02,  3.4580000e+03,  3.7000000e+01,  2.1000000e+02,\n",
              "        9.8000000e+01,  1.1800000e+02,  1.2200000e+02,  5.2100000e+02,\n",
              "        2.9600000e+02,  1.0000000e+02,  1.6200000e+02,  5.7000000e+01,\n",
              "        1.1400000e+02,  1.0500000e+02,  1.2000000e+02,  5.7000000e+01,\n",
              "        7.9000000e+01,  1.5400000e+02,  1.2600000e+02,  1.5000000e+02,\n",
              "        3.9500000e+02,  8.1000000e+01,  9.3000000e+01,  7.7000000e+01,\n",
              "        3.6000000e+01,  3.5000000e+01,  1.1500000e+02,  1.1010000e+04,\n",
              "        1.0800000e+03,  8.0600000e+02,  8.0700000e+02,  8.0400000e+02,\n",
              "        6.2800000e+02,  5.4400000e+02,  4.1100000e+02,  3.7000000e+02,\n",
              "        3.5500000e+02,  3.1600000e+02,  2.4038000e+04,  2.3600000e+01,\n",
              "        8.9000000e+00,  5.5000000e+00,  2.1000000e+00,  2.4038000e+04,\n",
              "        6.0000000e+01,  2.1000000e+01,  1.1400000e+01,  3.2000000e+00,\n",
              "        4.4000000e+00,  8.5400000e+01,  1.4600000e+01,  5.8000000e+01,\n",
              "        3.4200000e+01,  7.8000000e+00, -3.0000000e-01, -1.0500000e+01,\n",
              "       -1.0800000e+01,  2.9817000e+04,  1.1039000e+04, -3.1000000e+00,\n",
              "        7.3000000e+00, -1.6400000e+01,  5.3000000e+00, -1.9500000e+01,\n",
              "        1.2700000e+01])"
            ]
          },
          "metadata": {},
          "execution_count": 69
        }
      ]
    },
    {
      "cell_type": "code",
      "source": [
        "\n",
        "\n",
        "single_pred = clf.predict([X_test[0]])[0]\n",
        "print(f\"Die Prognose liegt bei {single_pred}.\")\n",
        "print(f\"Der Realwert war {y_test[0]}.\")\n",
        "\n"
      ],
      "metadata": {
        "colab": {
          "base_uri": "https://localhost:8080/"
        },
        "id": "GSP7w82qzuUN",
        "outputId": "7268bf46-e364-4c0f-e4ac-7fc906326ccc"
      },
      "execution_count": 70,
      "outputs": [
        {
          "output_type": "stream",
          "name": "stdout",
          "text": [
            "Die Prognose liegt bei 1474.0343118487003.\n",
            "Der Realwert war 1150.0.\n"
          ]
        }
      ]
    }
  ]
}